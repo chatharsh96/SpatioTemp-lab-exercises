{
 "cells": [
  {
   "cell_type": "code",
   "execution_count": 1,
   "metadata": {
    "vscode": {
     "languageId": "r"
    }
   },
   "outputs": [
    {
     "name": "stderr",
     "output_type": "stream",
     "text": [
      "\n",
      "Attaching package: 'dplyr'\n",
      "\n",
      "\n",
      "The following objects are masked from 'package:stats':\n",
      "\n",
      "    filter, lag\n",
      "\n",
      "\n",
      "The following objects are masked from 'package:base':\n",
      "\n",
      "    intersect, setdiff, setequal, union\n",
      "\n",
      "\n"
     ]
    }
   ],
   "source": [
    "library(\"sp\")\n",
    "library(\"spacetime\")\n",
    "library(\"ggplot2\")\n",
    "library(\"dplyr\")\n",
    "library(\"gstat\")\n",
    "library(\"RColorBrewer\")\n",
    "library(\"STRbook\")\n",
    "library(\"tidyr\")"
   ]
  },
  {
   "cell_type": "code",
   "execution_count": 2,
   "metadata": {
    "vscode": {
     "languageId": "r"
    }
   },
   "outputs": [
    {
     "name": "stderr",
     "output_type": "stream",
     "text": [
      "Warning message in `[.xts`(x@time, j):\n",
      "\"converting 'i' to integer because it appears to contain fractions\"\n",
      "Warning message in `[.xts`(x@time, j):\n",
      "\"converting 'i' to integer because it appears to contain fractions\"\n",
      "Warning message in `[.xts`(x@time, j):\n",
      "\"converting 'i' to integer because it appears to contain fractions\"\n",
      "Warning message in `[.xts`(x@time, j):\n",
      "\"converting 'i' to integer because it appears to contain fractions\"\n",
      "Warning message in `[.xts`(x@time, j):\n",
      "\"converting 'i' to integer because it appears to contain fractions\"\n",
      "Warning message in `[.xts`(x@time, j):\n",
      "\"converting 'i' to integer because it appears to contain fractions\"\n",
      "Warning message in `[.xts`(x@time, j):\n",
      "\"converting 'i' to integer because it appears to contain fractions\"\n",
      "Warning message in `[.xts`(x@time, j):\n",
      "\"converting 'i' to integer because it appears to contain fractions\"\n",
      "Warning message in `[.xts`(x@time, j):\n",
      "\"converting 'i' to integer because it appears to contain fractions\"\n",
      "Warning message in `[.xts`(x@time, j):\n",
      "\"converting 'i' to integer because it appears to contain fractions\"\n",
      "Warning message in `[.xts`(x@time, j):\n",
      "\"converting 'i' to integer because it appears to contain fractions\"\n",
      "Warning message in `[.xts`(x@time, j):\n",
      "\"converting 'i' to integer because it appears to contain fractions\"\n",
      "Warning message in `[.xts`(x@time, j):\n",
      "\"converting 'i' to integer because it appears to contain fractions\"\n",
      "Warning message in `[.xts`(x@time, j):\n",
      "\"converting 'i' to integer because it appears to contain fractions\"\n",
      "Warning message in `[.xts`(x@time, j):\n",
      "\"converting 'i' to integer because it appears to contain fractions\"\n",
      "Warning message in `[.xts`(x@time, j):\n",
      "\"converting 'i' to integer because it appears to contain fractions\"\n",
      "Warning message in `[.xts`(x@time, j):\n",
      "\"converting 'i' to integer because it appears to contain fractions\"\n",
      "Warning message in `[.xts`(x@time, j):\n",
      "\"converting 'i' to integer because it appears to contain fractions\"\n",
      "Warning message in `[.xts`(x@time, j):\n",
      "\"converting 'i' to integer because it appears to contain fractions\"\n",
      "Warning message in `[.xts`(x@time, j):\n",
      "\"converting 'i' to integer because it appears to contain fractions\"\n",
      "Warning message in `[.xts`(x@time, j):\n",
      "\"converting 'i' to integer because it appears to contain fractions\"\n",
      "Warning message in `[.xts`(x@time, j):\n",
      "\"converting 'i' to integer because it appears to contain fractions\"\n",
      "Warning message in `[.xts`(x@time, j):\n",
      "\"converting 'i' to integer because it appears to contain fractions\"\n",
      "Warning message in `[.xts`(x@time, j):\n",
      "\"converting 'i' to integer because it appears to contain fractions\"\n",
      "Warning message in `[.xts`(x@time, j):\n",
      "\"converting 'i' to integer because it appears to contain fractions\"\n",
      "Warning message in `[.xts`(x@time, j):\n",
      "\"converting 'i' to integer because it appears to contain fractions\"\n",
      "Warning message in `[.xts`(x@time, j):\n",
      "\"converting 'i' to integer because it appears to contain fractions\"\n",
      "Warning message in `[.xts`(x@time, j):\n",
      "\"converting 'i' to integer because it appears to contain fractions\"\n",
      "Warning message in `[.xts`(x@time, j):\n",
      "\"converting 'i' to integer because it appears to contain fractions\"\n",
      "Warning message in `[.xts`(x@time, j):\n",
      "\"converting 'i' to integer because it appears to contain fractions\"\n",
      "Warning message in `[.xts`(x@time, j):\n",
      "\"converting 'i' to integer because it appears to contain fractions\"\n",
      "Warning message in `[.xts`(x@time, j):\n",
      "\"converting 'i' to integer because it appears to contain fractions\"\n",
      "Warning message in `[.xts`(x@time, j):\n",
      "\"converting 'i' to integer because it appears to contain fractions\"\n",
      "Warning message in `[.xts`(x@time, j):\n",
      "\"converting 'i' to integer because it appears to contain fractions\"\n",
      "Warning message in `[.xts`(x@time, j):\n",
      "\"converting 'i' to integer because it appears to contain fractions\"\n",
      "Warning message in `[.xts`(x@time, j):\n",
      "\"converting 'i' to integer because it appears to contain fractions\"\n",
      "Warning message in `[.xts`(x@time, j):\n",
      "\"converting 'i' to integer because it appears to contain fractions\"\n",
      "Warning message in `[.xts`(x@time, j):\n",
      "\"converting 'i' to integer because it appears to contain fractions\"\n",
      "Warning message in `[.xts`(x@time, j):\n",
      "\"converting 'i' to integer because it appears to contain fractions\"\n",
      "Warning message in `[.xts`(x@time, j):\n",
      "\"converting 'i' to integer because it appears to contain fractions\"\n",
      "Warning message in `[.xts`(x@time, j):\n",
      "\"converting 'i' to integer because it appears to contain fractions\"\n",
      "Warning message in `[.xts`(x@time, j):\n",
      "\"converting 'i' to integer because it appears to contain fractions\"\n",
      "Warning message in `[.xts`(x@time, j):\n",
      "\"converting 'i' to integer because it appears to contain fractions\"\n",
      "Warning message in `[.xts`(x@time, j):\n",
      "\"converting 'i' to integer because it appears to contain fractions\"\n",
      "Warning message in `[.xts`(x@time, j):\n",
      "\"converting 'i' to integer because it appears to contain fractions\"\n",
      "Warning message in `[.xts`(x@time, j):\n",
      "\"converting 'i' to integer because it appears to contain fractions\"\n",
      "Warning message in `[.xts`(x@time, j):\n",
      "\"converting 'i' to integer because it appears to contain fractions\"\n",
      "Warning message in `[.xts`(x@time, j):\n",
      "\"converting 'i' to integer because it appears to contain fractions\"\n",
      "Warning message in `[.xts`(x@time, j):\n",
      "\"converting 'i' to integer because it appears to contain fractions\"\n",
      "Warning message in `[.xts`(x@time, j):\n",
      "\"converting 'i' to integer because it appears to contain fractions\"\n",
      "Warning message in `[.xts`(x@time, j):\n",
      "\"converting 'i' to integer because it appears to contain fractions\"\n",
      "Warning message in `[.xts`(x@time, j):\n",
      "\"converting 'i' to integer because it appears to contain fractions\"\n",
      "Warning message in `[.xts`(x@time, j):\n",
      "\"converting 'i' to integer because it appears to contain fractions\"\n",
      "Warning message in `[.xts`(x@time, j):\n",
      "\"converting 'i' to integer because it appears to contain fractions\"\n",
      "Warning message in `[.xts`(x@time, j):\n",
      "\"converting 'i' to integer because it appears to contain fractions\"\n",
      "Warning message in `[.xts`(x@time, j):\n",
      "\"converting 'i' to integer because it appears to contain fractions\"\n",
      "Warning message in `[.xts`(x@time, j):\n",
      "\"converting 'i' to integer because it appears to contain fractions\"\n",
      "Warning message in `[.xts`(x@time, j):\n",
      "\"converting 'i' to integer because it appears to contain fractions\"\n",
      "Warning message in `[.xts`(x@time, j):\n",
      "\"converting 'i' to integer because it appears to contain fractions\"\n",
      "Warning message in `[.xts`(x@time, j):\n",
      "\"converting 'i' to integer because it appears to contain fractions\"\n",
      "Warning message in `[.xts`(x@time, j):\n",
      "\"converting 'i' to integer because it appears to contain fractions\"\n",
      "Warning message in `[.xts`(x@time, j):\n",
      "\"converting 'i' to integer because it appears to contain fractions\"\n",
      "Warning message in `[.xts`(x@time, j):\n",
      "\"converting 'i' to integer because it appears to contain fractions\"\n",
      "Warning message in `[.xts`(x@time, j):\n",
      "\"converting 'i' to integer because it appears to contain fractions\"\n",
      "Warning message in `[.xts`(x@time, j):\n",
      "\"converting 'i' to integer because it appears to contain fractions\"\n",
      "Warning message in `[.xts`(x@time, j):\n",
      "\"converting 'i' to integer because it appears to contain fractions\"\n",
      "Warning message in `[.xts`(x@time, j):\n",
      "\"converting 'i' to integer because it appears to contain fractions\"\n",
      "Warning message in `[.xts`(x@time, j):\n",
      "\"converting 'i' to integer because it appears to contain fractions\"\n",
      "Warning message in `[.xts`(x@time, j):\n",
      "\"converting 'i' to integer because it appears to contain fractions\"\n",
      "Warning message in `[.xts`(x@time, j):\n",
      "\"converting 'i' to integer because it appears to contain fractions\"\n",
      "Warning message in `[.xts`(x@time, j):\n",
      "\"converting 'i' to integer because it appears to contain fractions\"\n",
      "Warning message in `[.xts`(x@time, j):\n",
      "\"converting 'i' to integer because it appears to contain fractions\"\n",
      "Warning message in `[.xts`(x@time, j):\n",
      "\"converting 'i' to integer because it appears to contain fractions\"\n",
      "Warning message in `[.xts`(x@time, j):\n",
      "\"converting 'i' to integer because it appears to contain fractions\"\n",
      "Warning message in `[.xts`(x@time, j):\n",
      "\"converting 'i' to integer because it appears to contain fractions\"\n",
      "Warning message in `[.xts`(x@time, j):\n",
      "\"converting 'i' to integer because it appears to contain fractions\"\n",
      "Warning message in `[.xts`(x@time, j):\n",
      "\"converting 'i' to integer because it appears to contain fractions\"\n",
      "Warning message in `[.xts`(x@time, j):\n",
      "\"converting 'i' to integer because it appears to contain fractions\"\n",
      "Warning message in `[.xts`(x@time, j):\n",
      "\"converting 'i' to integer because it appears to contain fractions\"\n",
      "Warning message in `[.xts`(x@time, j):\n",
      "\"converting 'i' to integer because it appears to contain fractions\"\n",
      "Warning message in `[.xts`(x@time, j):\n",
      "\"converting 'i' to integer because it appears to contain fractions\"\n",
      "Warning message in `[.xts`(x@time, j):\n",
      "\"converting 'i' to integer because it appears to contain fractions\"\n",
      "Warning message in `[.xts`(x@time, j):\n",
      "\"converting 'i' to integer because it appears to contain fractions\"\n",
      "Warning message in `[.xts`(x@time, j):\n",
      "\"converting 'i' to integer because it appears to contain fractions\"\n",
      "Warning message in `[.xts`(x@time, j):\n",
      "\"converting 'i' to integer because it appears to contain fractions\"\n",
      "Warning message in `[.xts`(x@time, j):\n",
      "\"converting 'i' to integer because it appears to contain fractions\"\n",
      "Warning message in `[.xts`(x@time, j):\n",
      "\"converting 'i' to integer because it appears to contain fractions\"\n",
      "Warning message in `[.xts`(x@time, j):\n",
      "\"converting 'i' to integer because it appears to contain fractions\"\n",
      "Warning message in `[.xts`(x@time, j):\n",
      "\"converting 'i' to integer because it appears to contain fractions\"\n",
      "Warning message in `[.xts`(x@time, j):\n",
      "\"converting 'i' to integer because it appears to contain fractions\"\n",
      "Warning message in `[.xts`(x@time, j):\n",
      "\"converting 'i' to integer because it appears to contain fractions\"\n",
      "Warning message in `[.xts`(x@time, j):\n",
      "\"converting 'i' to integer because it appears to contain fractions\"\n",
      "Warning message in `[.xts`(x@time, j):\n",
      "\"converting 'i' to integer because it appears to contain fractions\"\n",
      "Warning message in `[.xts`(x@time, j):\n",
      "\"converting 'i' to integer because it appears to contain fractions\"\n",
      "Warning message in `[.xts`(x@time, j):\n",
      "\"converting 'i' to integer because it appears to contain fractions\"\n",
      "Warning message in `[.xts`(x@time, j):\n",
      "\"converting 'i' to integer because it appears to contain fractions\"\n",
      "Warning message in `[.xts`(x@time, j):\n",
      "\"converting 'i' to integer because it appears to contain fractions\"\n",
      "Warning message in `[.xts`(x@time, j):\n",
      "\"converting 'i' to integer because it appears to contain fractions\"\n",
      "Warning message in `[.xts`(x@time, j):\n",
      "\"converting 'i' to integer because it appears to contain fractions\"\n",
      "Warning message in `[.xts`(x@time, j):\n",
      "\"converting 'i' to integer because it appears to contain fractions\"\n",
      "Warning message in `[.xts`(x@time, j):\n",
      "\"converting 'i' to integer because it appears to contain fractions\"\n",
      "Warning message in `[.xts`(x@time, j):\n",
      "\"converting 'i' to integer because it appears to contain fractions\"\n",
      "Warning message in `[.xts`(x@time, j):\n",
      "\"converting 'i' to integer because it appears to contain fractions\"\n",
      "Warning message in `[.xts`(x@time, j):\n",
      "\"converting 'i' to integer because it appears to contain fractions\"\n",
      "Warning message in `[.xts`(x@time, j):\n",
      "\"converting 'i' to integer because it appears to contain fractions\"\n",
      "Warning message in `[.xts`(x@time, j):\n",
      "\"converting 'i' to integer because it appears to contain fractions\"\n",
      "Warning message in `[.xts`(x@time, j):\n",
      "\"converting 'i' to integer because it appears to contain fractions\"\n",
      "Warning message in `[.xts`(x@time, j):\n",
      "\"converting 'i' to integer because it appears to contain fractions\"\n",
      "Warning message in `[.xts`(x@time, j):\n",
      "\"converting 'i' to integer because it appears to contain fractions\"\n",
      "Warning message in `[.xts`(x@time, j):\n",
      "\"converting 'i' to integer because it appears to contain fractions\"\n",
      "Warning message in `[.xts`(x@time, j):\n",
      "\"converting 'i' to integer because it appears to contain fractions\"\n",
      "Warning message in `[.xts`(x@time, j):\n",
      "\"converting 'i' to integer because it appears to contain fractions\"\n",
      "Warning message in `[.xts`(x@time, j):\n",
      "\"converting 'i' to integer because it appears to contain fractions\"\n",
      "Warning message in `[.xts`(x@time, j):\n",
      "\"converting 'i' to integer because it appears to contain fractions\"\n",
      "Warning message in `[.xts`(x@time, j):\n",
      "\"converting 'i' to integer because it appears to contain fractions\"\n",
      "Warning message in `[.xts`(x@time, j):\n",
      "\"converting 'i' to integer because it appears to contain fractions\"\n",
      "Warning message in `[.xts`(x@time, j):\n",
      "\"converting 'i' to integer because it appears to contain fractions\"\n",
      "Warning message in `[.xts`(x@time, j):\n",
      "\"converting 'i' to integer because it appears to contain fractions\"\n",
      "Warning message in `[.xts`(x@time, j):\n",
      "\"converting 'i' to integer because it appears to contain fractions\"\n",
      "Warning message in `[.xts`(x@time, j):\n",
      "\"converting 'i' to integer because it appears to contain fractions\"\n",
      "Warning message in `[.xts`(x@time, j):\n",
      "\"converting 'i' to integer because it appears to contain fractions\"\n",
      "Warning message in `[.xts`(x@time, j):\n",
      "\"converting 'i' to integer because it appears to contain fractions\"\n",
      "Warning message in `[.xts`(x@time, j):\n",
      "\"converting 'i' to integer because it appears to contain fractions\"\n",
      "Warning message in `[.xts`(x@time, j):\n",
      "\"converting 'i' to integer because it appears to contain fractions\"\n",
      "Warning message in `[.xts`(x@time, j):\n",
      "\"converting 'i' to integer because it appears to contain fractions\"\n",
      "Warning message in `[.xts`(x@time, j):\n",
      "\"converting 'i' to integer because it appears to contain fractions\"\n",
      "Warning message in `[.xts`(x@time, j):\n",
      "\"converting 'i' to integer because it appears to contain fractions\"\n",
      "Warning message in `[.xts`(x@time, j):\n",
      "\"converting 'i' to integer because it appears to contain fractions\"\n",
      "Warning message in `[.xts`(x@time, j):\n",
      "\"converting 'i' to integer because it appears to contain fractions\"\n",
      "Warning message in `[.xts`(x@time, j):\n",
      "\"converting 'i' to integer because it appears to contain fractions\"\n",
      "Warning message in `[.xts`(x@time, j):\n",
      "\"converting 'i' to integer because it appears to contain fractions\"\n",
      "Warning message in `[.xts`(x@time, j):\n",
      "\"converting 'i' to integer because it appears to contain fractions\"\n",
      "Warning message in `[.xts`(x@time, j):\n",
      "\"converting 'i' to integer because it appears to contain fractions\"\n",
      "Warning message in `[.xts`(x@time, j):\n",
      "\"converting 'i' to integer because it appears to contain fractions\"\n",
      "Warning message in `[.xts`(x@time, j):\n",
      "\"converting 'i' to integer because it appears to contain fractions\"\n",
      "Warning message in `[.xts`(x@time, j):\n",
      "\"converting 'i' to integer because it appears to contain fractions\"\n",
      "Warning message in `[.xts`(x@time, j):\n",
      "\"converting 'i' to integer because it appears to contain fractions\"\n",
      "Warning message in `[.xts`(x@time, j):\n",
      "\"converting 'i' to integer because it appears to contain fractions\"\n",
      "Warning message in `[.xts`(x@time, j):\n",
      "\"converting 'i' to integer because it appears to contain fractions\"\n",
      "Warning message in `[.xts`(x@time, j):\n",
      "\"converting 'i' to integer because it appears to contain fractions\"\n",
      "Warning message in `[.xts`(x@time, j):\n",
      "\"converting 'i' to integer because it appears to contain fractions\"\n",
      "Warning message in `[.xts`(x@time, j):\n",
      "\"converting 'i' to integer because it appears to contain fractions\"\n",
      "Warning message in `[.xts`(x@time, j):\n",
      "\"converting 'i' to integer because it appears to contain fractions\"\n",
      "Warning message in `[.xts`(x@time, j):\n",
      "\"converting 'i' to integer because it appears to contain fractions\"\n",
      "Warning message in `[.xts`(x@time, j):\n",
      "\"converting 'i' to integer because it appears to contain fractions\"\n",
      "Warning message in `[.xts`(x@time, j):\n",
      "\"converting 'i' to integer because it appears to contain fractions\"\n",
      "Warning message in `[.xts`(x@time, j):\n",
      "\"converting 'i' to integer because it appears to contain fractions\"\n",
      "Warning message in `[.xts`(x@time, j):\n",
      "\"converting 'i' to integer because it appears to contain fractions\"\n",
      "Warning message in `[.xts`(x@time, j):\n",
      "\"converting 'i' to integer because it appears to contain fractions\"\n",
      "Warning message in `[.xts`(x@time, j):\n",
      "\"converting 'i' to integer because it appears to contain fractions\"\n",
      "Warning message in `[.xts`(x@time, j):\n",
      "\"converting 'i' to integer because it appears to contain fractions\"\n",
      "Warning message in `[.xts`(x@time, j):\n",
      "\"converting 'i' to integer because it appears to contain fractions\"\n",
      "Warning message in `[.xts`(x@time, j):\n",
      "\"converting 'i' to integer because it appears to contain fractions\"\n",
      "Warning message in `[.xts`(x@time, j):\n",
      "\"converting 'i' to integer because it appears to contain fractions\"\n",
      "Warning message in `[.xts`(x@time, j):\n",
      "\"converting 'i' to integer because it appears to contain fractions\"\n",
      "Warning message in `[.xts`(x@time, j):\n",
      "\"converting 'i' to integer because it appears to contain fractions\"\n",
      "Warning message in `[.xts`(x@time, j):\n",
      "\"converting 'i' to integer because it appears to contain fractions\"\n",
      "Warning message in `[.xts`(x@time, j):\n",
      "\"converting 'i' to integer because it appears to contain fractions\"\n",
      "Warning message in `[.xts`(x@time, j):\n",
      "\"converting 'i' to integer because it appears to contain fractions\"\n",
      "Warning message in `[.xts`(x@time, j):\n",
      "\"converting 'i' to integer because it appears to contain fractions\"\n",
      "Warning message in `[.xts`(x@time, j):\n",
      "\"converting 'i' to integer because it appears to contain fractions\"\n",
      "Warning message in `[.xts`(x@time, j):\n",
      "\"converting 'i' to integer because it appears to contain fractions\"\n",
      "Warning message in `[.xts`(x@time, j):\n",
      "\"converting 'i' to integer because it appears to contain fractions\"\n",
      "Warning message in `[.xts`(x@time, j):\n",
      "\"converting 'i' to integer because it appears to contain fractions\"\n",
      "Warning message in `[.xts`(x@time, j):\n",
      "\"converting 'i' to integer because it appears to contain fractions\"\n",
      "Warning message in `[.xts`(x@time, j):\n",
      "\"converting 'i' to integer because it appears to contain fractions\"\n",
      "Warning message in `[.xts`(x@time, j):\n",
      "\"converting 'i' to integer because it appears to contain fractions\"\n",
      "Warning message in `[.xts`(x@time, j):\n",
      "\"converting 'i' to integer because it appears to contain fractions\"\n",
      "Warning message in `[.xts`(x@time, j):\n",
      "\"converting 'i' to integer because it appears to contain fractions\"\n",
      "Warning message in `[.xts`(x@time, j):\n",
      "\"converting 'i' to integer because it appears to contain fractions\"\n",
      "Warning message in `[.xts`(x@time, j):\n",
      "\"converting 'i' to integer because it appears to contain fractions\"\n",
      "Warning message in `[.xts`(x@time, j):\n",
      "\"converting 'i' to integer because it appears to contain fractions\"\n",
      "Warning message in `[.xts`(x@time, j):\n",
      "\"converting 'i' to integer because it appears to contain fractions\"\n",
      "Warning message in `[.xts`(x@time, j):\n",
      "\"converting 'i' to integer because it appears to contain fractions\"\n",
      "Warning message in `[.xts`(x@time, j):\n",
      "\"converting 'i' to integer because it appears to contain fractions\"\n",
      "Warning message in `[.xts`(x@time, j):\n",
      "\"converting 'i' to integer because it appears to contain fractions\"\n",
      "Warning message in `[.xts`(x@time, j):\n",
      "\"converting 'i' to integer because it appears to contain fractions\"\n",
      "Warning message in `[.xts`(x@time, j):\n",
      "\"converting 'i' to integer because it appears to contain fractions\"\n",
      "Warning message in `[.xts`(x@time, j):\n",
      "\"converting 'i' to integer because it appears to contain fractions\"\n",
      "Warning message in `[.xts`(x@time, j):\n",
      "\"converting 'i' to integer because it appears to contain fractions\"\n",
      "Warning message in `[.xts`(x@time, j):\n",
      "\"converting 'i' to integer because it appears to contain fractions\"\n",
      "Warning message in `[.xts`(x@time, j):\n",
      "\"converting 'i' to integer because it appears to contain fractions\"\n",
      "Warning message in `[.xts`(x@time, j):\n",
      "\"converting 'i' to integer because it appears to contain fractions\"\n",
      "Warning message in `[.xts`(x@time, j):\n",
      "\"converting 'i' to integer because it appears to contain fractions\"\n",
      "Warning message in `[.xts`(x@time, j):\n",
      "\"converting 'i' to integer because it appears to contain fractions\"\n",
      "Warning message in `[.xts`(x@time, j):\n",
      "\"converting 'i' to integer because it appears to contain fractions\"\n",
      "Warning message in `[.xts`(x@time, j):\n",
      "\"converting 'i' to integer because it appears to contain fractions\"\n",
      "Warning message in `[.xts`(x@time, j):\n",
      "\"converting 'i' to integer because it appears to contain fractions\"\n",
      "Warning message in `[.xts`(x@time, j):\n",
      "\"converting 'i' to integer because it appears to contain fractions\"\n"
     ]
    }
   ],
   "source": [
    "data(\"STObj3\", package = \"STRbook\")\n",
    "STObj4 <- STObj3[, \"1993-07-01::1993-07-31\"]\n",
    "vv <- variogram(object = z ~ 1 + lat, # fixed effect component\n",
    "data = STObj4,\n",
    "# July data\n",
    "width = 80,\n",
    "# spatial bin (80 km)\n",
    "cutoff = 1000,\n",
    "# consider pts < 1000 km apart\n",
    "tlags = 0.01:6.01)"
   ]
  },
  {
   "cell_type": "code",
   "execution_count": 5,
   "metadata": {
    "vscode": {
     "languageId": "r"
    }
   },
   "outputs": [],
   "source": [
    "# vignette(\"spatio-temporal-kriging\")\n",
    "\n",
    "sepVgm <- vgmST(stModel = \"separable\",\n",
    "space = vgm(10, \"Exp\", 400, nugget = 0.1),\n",
    "time = vgm(10, \"Exp\", 1, nugget = 0.1),\n",
    "sill = 20)\n",
    "sepVgm <- fit.StVariogram(vv, sepVgm)"
   ]
  },
  {
   "cell_type": "code",
   "execution_count": 6,
   "metadata": {
    "vscode": {
     "languageId": "r"
    }
   },
   "outputs": [],
   "source": [
    "metricVgm <- vgmST(stModel = \"metric\",\n",
    "joint = vgm(100, \"Exp\", 400, nugget = 0.1),\n",
    "sill = 10,\n",
    "stAni = 100)\n",
    "metricVgm <- fit.StVariogram(vv, metricVgm)"
   ]
  },
  {
   "cell_type": "code",
   "execution_count": 7,
   "metadata": {
    "vscode": {
     "languageId": "r"
    }
   },
   "outputs": [],
   "source": [
    "metricMSE <- attr(metricVgm, \"optim\")$value\n",
    "sepMSE <- attr(sepVgm, \"optim\")$value"
   ]
  },
  {
   "cell_type": "code",
   "execution_count": 8,
   "metadata": {
    "vscode": {
     "languageId": "r"
    }
   },
   "outputs": [
    {
     "data": {
      "image/png": "[encoded data removed]",
      "text/plain": [
       "plot without title"
      ]
     },
     "metadata": {
      "image/png": {
       "height": 420,
       "width": 420
      }
     },
     "output_type": "display_data"
    }
   ],
   "source": [
    "plot(vv, list(sepVgm, metricVgm), main = \"Semi-variance\")"
   ]
  },
  {
   "cell_type": "code",
   "execution_count": 9,
   "metadata": {
    "vscode": {
     "languageId": "r"
    }
   },
   "outputs": [],
   "source": [
    "spat_pred_grid <- expand.grid(\n",
    "lon = seq(-100, -80, length = 20),\n",
    "lat = seq(32, 46, length = 20)) %>%\n",
    "SpatialPoints(proj4string = CRS(proj4string(STObj3)))\n",
    "gridded(spat_pred_grid) <- TRUE"
   ]
  },
  {
   "cell_type": "code",
   "execution_count": 18,
   "metadata": {
    "vscode": {
     "languageId": "r"
    }
   },
   "outputs": [],
   "source": [
    "\n",
    "temp_pred_grid <- as.Date(\"1993-07-01\") + seq(3, 28, length = 6)\n",
    "# DE_pred <- STF(sp = spat_pred_grid,\n",
    "# # spatial part\n",
    "# time = temp_pred_grid)\n"
   ]
  },
  {
   "cell_type": "code",
   "execution_count": 19,
   "metadata": {
    "vscode": {
     "languageId": "r"
    }
   },
   "outputs": [],
   "source": [
    "DE_pred <- STF(sp = spat_pred_grid,\n",
    "# spatial part\n",
    "time = temp_pred_grid)\n",
    "# temporal part"
   ]
  },
  {
   "cell_type": "code",
   "execution_count": 20,
   "metadata": {
    "vscode": {
     "languageId": "r"
    }
   },
   "outputs": [],
   "source": [
    "STObj5 <- as(STObj4[, -14], \"STIDF\")\n",
    "# convert to STIDF\n",
    "STObj5 <- subset(STObj5, !is.na(STObj5$z))"
   ]
  },
  {
   "cell_type": "code",
   "execution_count": 21,
   "metadata": {
    "vscode": {
     "languageId": "r"
    }
   },
   "outputs": [
    {
     "name": "stderr",
     "output_type": "stream",
     "text": [
      "please verify that the CRSs of data and newdata are identical, or transform them first to make them identical\n",
      "\n"
     ]
    }
   ],
   "source": [
    "pred_kriged <- krigeST(z ~ 1 + lat,\n",
    "# latitude trend\n",
    "data = STObj5,\n",
    "# data set w/o 14 July\n",
    "newdata = DE_pred,\n",
    "# prediction grid\n",
    "modelList = sepVgm,\n",
    "# semivariogram\n",
    "computeVar = TRUE)"
   ]
  },
  {
   "cell_type": "code",
   "execution_count": 22,
   "metadata": {
    "vscode": {
     "languageId": "r"
    }
   },
   "outputs": [
    {
     "data": {
      "text/html": [
       "<style>\n",
       ".list-inline {list-style: none; margin:0; padding: 0}\n",
       ".list-inline>li {display: inline-block}\n",
       ".list-inline>li:not(:last-child)::after {content: \"\\00b7\"; padding: 0 .5ex}\n",
       "</style>\n",
       "<ol class=list-inline><li>'DE_pred'</li><li>'metricMSE'</li><li>'metricVgm'</li><li>'pred_kriged'</li><li>'sepMSE'</li><li>'sepVgm'</li><li>'spat_pred_grid'</li><li>'STObj3'</li><li>'STObj4'</li><li>'STObj5'</li><li>'temp_pred_grid'</li><li>'vv'</li></ol>\n"
      ],
      "text/latex": [
       "\\begin{enumerate*}\n",
       "\\item 'DE\\_pred'\n",
       "\\item 'metricMSE'\n",
       "\\item 'metricVgm'\n",
       "\\item 'pred\\_kriged'\n",
       "\\item 'sepMSE'\n",
       "\\item 'sepVgm'\n",
       "\\item 'spat\\_pred\\_grid'\n",
       "\\item 'STObj3'\n",
       "\\item 'STObj4'\n",
       "\\item 'STObj5'\n",
       "\\item 'temp\\_pred\\_grid'\n",
       "\\item 'vv'\n",
       "\\end{enumerate*}\n"
      ],
      "text/markdown": [
       "1. 'DE_pred'\n",
       "2. 'metricMSE'\n",
       "3. 'metricVgm'\n",
       "4. 'pred_kriged'\n",
       "5. 'sepMSE'\n",
       "6. 'sepVgm'\n",
       "7. 'spat_pred_grid'\n",
       "8. 'STObj3'\n",
       "9. 'STObj4'\n",
       "10. 'STObj5'\n",
       "11. 'temp_pred_grid'\n",
       "12. 'vv'\n",
       "\n",
       "\n"
      ],
      "text/plain": [
       " [1] \"DE_pred\"        \"metricMSE\"      \"metricVgm\"      \"pred_kriged\"   \n",
       " [5] \"sepMSE\"         \"sepVgm\"         \"spat_pred_grid\" \"STObj3\"        \n",
       " [9] \"STObj4\"         \"STObj5\"         \"temp_pred_grid\" \"vv\"            "
      ]
     },
     "metadata": {},
     "output_type": "display_data"
    }
   ],
   "source": [
    "ls()"
   ]
  },
  {
   "cell_type": "code",
   "execution_count": 23,
   "metadata": {
    "vscode": {
     "languageId": "r"
    }
   },
   "outputs": [],
   "source": [
    "color_pal <- rev(colorRampPalette(brewer.pal(11, \"Spectral\"))(16))"
   ]
  },
  {
   "cell_type": "code",
   "execution_count": 24,
   "metadata": {
    "vscode": {
     "languageId": "r"
    }
   },
   "outputs": [
    {
     "data": {
      "image/png": "[encoded data removed]",
      "text/plain": [
       "plot without title"
      ]
     },
     "metadata": {
      "image/png": {
       "height": 420,
       "width": 420
      }
     },
     "output_type": "display_data"
    }
   ],
   "source": [
    "stplot(pred_kriged,\n",
    "main = \"Predictions (degrees Fahrenheit)\",\n",
    "layout = c(3, 2),\n",
    "col.regions = color_pal)"
   ]
  },
  {
   "cell_type": "code",
   "execution_count": 25,
   "metadata": {
    "vscode": {
     "languageId": "r"
    }
   },
   "outputs": [
    {
     "data": {
      "image/png": "[encoded data removed]",
      "text/plain": [
       "plot without title"
      ]
     },
     "metadata": {
      "image/png": {
       "height": 420,
       "width": 420
      }
     },
     "output_type": "display_data"
    }
   ],
   "source": [
    "pred_kriged$se <- sqrt(pred_kriged$var1.var)\n",
    "stplot(pred_kriged[, , \"se\"],\n",
    "main = \"Prediction std. errors (degrees Fahrenheit)\",\n",
    "layout = c(3, 2),\n",
    "col.regions = color_pal)"
   ]
  },
  {
   "cell_type": "code",
   "execution_count": null,
   "metadata": {
    "vscode": {
     "languageId": "r"
    }
   },
   "outputs": [],
   "source": []
  }
 ],
 "metadata": {
  "kernelspec": {
   "display_name": "R",
   "language": "R",
   "name": "ir"
  },
  "language_info": {
   "codemirror_mode": "r",
   "file_extension": ".r",
   "mimetype": "text/x-r-source",
   "name": "R",
   "pygments_lexer": "r",
   "version": "4.4.1"
  }
 },
 "nbformat": 4,
 "nbformat_minor": 2
}
