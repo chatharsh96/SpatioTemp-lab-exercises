{
 "cells": [
  {
   "cell_type": "code",
   "execution_count": 5,
   "metadata": {
    "vscode": {
     "languageId": "r"
    }
   },
   "outputs": [
    {
     "name": "stderr",
     "output_type": "stream",
     "text": [
      "Loading required package: fda\n",
      "\n",
      "Loading required package: splines\n",
      "\n"
     ]
    },
    {
     "name": "stderr",
     "output_type": "stream",
     "text": [
      "Loading required package: fds\n",
      "\n",
      "Loading required package: rainbow\n",
      "\n",
      "Loading required package: MASS\n",
      "\n",
      "Loading required package: pcaPP\n",
      "\n",
      "Loading required package: RCurl\n",
      "\n",
      "Loading required package: deSolve\n",
      "\n",
      "\n",
      "Attaching package: 'fda'\n",
      "\n",
      "\n",
      "The following object is masked from 'package:graphics':\n",
      "\n",
      "    matplot\n",
      "\n",
      "\n",
      "Loading required package: fields\n",
      "\n",
      "Loading required package: spam\n",
      "\n",
      "Spam version 2.11-0 (2024-10-03) is loaded.\n",
      "Type 'help( Spam)' or 'demo( spam)' for a short introduction \n",
      "and overview of this package.\n",
      "Help for individual functions is also obtained by adding the\n",
      "suffix '.spam' to the function name, e.g. 'help( chol.spam)'.\n",
      "\n",
      "\n",
      "Attaching package: 'spam'\n",
      "\n",
      "\n",
      "The following objects are masked from 'package:base':\n",
      "\n",
      "    backsolve, forwardsolve\n",
      "\n",
      "\n",
      "Loading required package: viridisLite\n",
      "\n",
      "\n",
      "Try help(fields) to get started.\n",
      "\n",
      "\n",
      "Attaching package: 'dplyr'\n",
      "\n",
      "\n",
      "The following object is masked from 'package:MASS':\n",
      "\n",
      "    select\n",
      "\n",
      "\n",
      "The following objects are masked from 'package:stats':\n",
      "\n",
      "    filter, lag\n",
      "\n",
      "\n",
      "The following objects are masked from 'package:base':\n",
      "\n",
      "    intersect, setdiff, setequal, union\n",
      "\n",
      "\n",
      "\n",
      "Attaching package: 'STRbook'\n",
      "\n",
      "\n",
      "The following object is masked from 'package:fds':\n",
      "\n",
      "    SOI\n",
      "\n",
      "\n",
      "\n",
      "Attaching package: 'tidyr'\n",
      "\n",
      "\n",
      "The following object is masked from 'package:RCurl':\n",
      "\n",
      "    complete\n",
      "\n",
      "\n"
     ]
    }
   ],
   "source": [
    "library(\"CCA\")\n",
    "library(\"dplyr\")\n",
    "library(\"ggplot2\")\n",
    "library(\"gstat\")\n",
    "library(\"sp\")\n",
    "library(\"spacetime\")\n",
    "library(\"STRbook\")\n",
    "library(\"tidyr\")"
   ]
  },
  {
   "cell_type": "code",
   "execution_count": 6,
   "metadata": {
    "vscode": {
     "languageId": "r"
    }
   },
   "outputs": [],
   "source": [
    "set.seed(1)"
   ]
  },
  {
   "cell_type": "code",
   "execution_count": 7,
   "metadata": {
    "vscode": {
     "languageId": "r"
    }
   },
   "outputs": [],
   "source": [
    "data(\"NOAA_df_1990\", package = \"STRbook\")\n",
    "Tmax <- filter(NOAA_df_1990,\n",
    "# subset the data\n",
    "proc == \"Tmax\" &\n",
    "# only max temperature\n",
    "month %in% 5:9 &\n",
    "# May to September\n",
    "year == 1993)\n",
    "# year of 1993\n",
    "Tmax$t <- Tmax$julian - 728049"
   ]
  },
  {
   "cell_type": "code",
   "execution_count": 8,
   "metadata": {
    "vscode": {
     "languageId": "r"
    }
   },
   "outputs": [
    {
     "name": "stderr",
     "output_type": "stream",
     "text": [
      "\u001b[1m\u001b[22m`summarise()` has grouped output by 'lat'. You can override using the `.groups`\n",
      "argument.\n"
     ]
    }
   ],
   "source": [
    "spat_av <- group_by(Tmax, lat, lon) %>%\n",
    "# group by lon-lat\n",
    "summarise(mu_emp = mean(z))"
   ]
  },
  {
   "cell_type": "code",
   "execution_count": 9,
   "metadata": {
    "vscode": {
     "languageId": "r"
    }
   },
   "outputs": [],
   "source": [
    "lat_means <- ggplot(spat_av) +\n",
    "geom_point(aes(lat, mu_emp)) +\n",
    "xlab(\"Latitude (deg)\") +\n",
    "ylab(\"Maximum temperature (degF)\") + theme_bw()\n",
    "lon_means <- ggplot(spat_av) +\n",
    "geom_point(aes(lon, mu_emp)) +\n",
    "xlab(\"Longitude (deg)\") +\n",
    "ylab(\"Maximum temperature (degF)\") + theme_bw()"
   ]
  },
  {
   "cell_type": "code",
   "execution_count": 10,
   "metadata": {
    "vscode": {
     "languageId": "r"
    }
   },
   "outputs": [],
   "source": [
    "Tmax_av <- group_by(Tmax, date) %>%\n",
    "summarise(meanTmax = mean(z))"
   ]
  },
  {
   "cell_type": "code",
   "execution_count": 11,
   "metadata": {
    "vscode": {
     "languageId": "r"
    }
   },
   "outputs": [],
   "source": [
    "gTmaxav <-\n",
    "ggplot() +\n",
    "geom_line(data = Tmax,aes(x = date, y = z, group = id),\n",
    "colour = \"blue\", alpha = 0.04) +\n",
    "geom_line(data = Tmax_av, aes(x = date, y = meanTmax)) +\n",
    "xlab(\"Month\") + ylab(\"Maximum temperature (degF)\") +\n",
    "theme_bw()"
   ]
  },
  {
   "cell_type": "code",
   "execution_count": 12,
   "metadata": {
    "vscode": {
     "languageId": "r"
    }
   },
   "outputs": [],
   "source": [
    "lm1 <- lm(z ~ lat + t + I(t^2), data = Tmax) # fit a linear model\n",
    "Tmax$residuals <- residuals(lm1)"
   ]
  },
  {
   "cell_type": "code",
   "execution_count": 16,
   "metadata": {
    "vscode": {
     "languageId": "r"
    }
   },
   "outputs": [],
   "source": [
    "library(dplyr)\n",
    "\n",
    "spat_df <- Tmax %>%\n",
    "  filter(t == 1) %>%          # lon/lat coords of stations\n",
    "  select(lon, lat) %>%       # select lon/lat only\n",
    "  arrange(lon, lat)          # sort ascending by lon/lat\n",
    "\n",
    "m <- nrow(spat_df)           # Correct variable name here\n"
   ]
  },
  {
   "cell_type": "code",
   "execution_count": 17,
   "metadata": {
    "vscode": {
     "languageId": "r"
    }
   },
   "outputs": [],
   "source": [
    "X <- select(Tmax, lon, lat, residuals, t) %>% # select columns\n",
    "spread(t, residuals) %>%\n",
    "# make time-wide\n",
    "select(-lon, -lat) %>%\n",
    "# drop coord info\n",
    "t()"
   ]
  },
  {
   "cell_type": "code",
   "execution_count": 18,
   "metadata": {
    "vscode": {
     "languageId": "r"
    }
   },
   "outputs": [],
   "source": [
    "Lag0_cov <- cov(X, use = 'complete.obs')\n",
    "Lag1_cov <- cov(X[-1, ], X[-nrow(X),], use = 'complete.obs')"
   ]
  },
  {
   "cell_type": "code",
   "execution_count": 19,
   "metadata": {
    "vscode": {
     "languageId": "r"
    }
   },
   "outputs": [],
   "source": [
    "spat_df$n <- 1:nrow(spat_df)\n",
    "# assign an index to each station\n",
    "lim_lon <- range(spat_df$lon)\n",
    "# range of lon coordinates\n",
    "lon_strips <- seq(lim_lon[1],\n",
    "# create 4 long. strip boundaries\n",
    "lim_lon[2],\n",
    "length = 5)\n",
    "spat_df$lon_strip <- cut(spat_df$lon,\n",
    "# bin the lon into\n",
    "lon_strips,\n",
    "# their respective bins\n",
    "labels = FALSE,\n",
    "# don't assign labels\n",
    "include.lowest = TRUE) # include edges"
   ]
  },
  {
   "cell_type": "code",
   "execution_count": 20,
   "metadata": {
    "vscode": {
     "languageId": "r"
    }
   },
   "outputs": [
    {
     "data": {
      "text/html": [
       "<table class=\"dataframe\">\n",
       "<caption>A data.frame: 6 × 4</caption>\n",
       "<thead>\n",
       "\t<tr><th></th><th scope=col>lon</th><th scope=col>lat</th><th scope=col>n</th><th scope=col>lon_strip</th></tr>\n",
       "\t<tr><th></th><th scope=col>&lt;dbl&gt;</th><th scope=col>&lt;dbl&gt;</th><th scope=col>&lt;int&gt;</th><th scope=col>&lt;int&gt;</th></tr>\n",
       "</thead>\n",
       "<tbody>\n",
       "\t<tr><th scope=row>1</th><td>-99.96667</td><td>37.76667</td><td>1</td><td>1</td></tr>\n",
       "\t<tr><th scope=row>2</th><td>-99.76667</td><td>36.30000</td><td>2</td><td>1</td></tr>\n",
       "\t<tr><th scope=row>3</th><td>-99.68333</td><td>32.43333</td><td>3</td><td>1</td></tr>\n",
       "\t<tr><th scope=row>4</th><td>-99.05000</td><td>35.00000</td><td>4</td><td>1</td></tr>\n",
       "\t<tr><th scope=row>5</th><td>-98.81667</td><td>38.86666</td><td>5</td><td>1</td></tr>\n",
       "\t<tr><th scope=row>6</th><td>-98.51667</td><td>33.98333</td><td>6</td><td>1</td></tr>\n",
       "</tbody>\n",
       "</table>\n"
      ],
      "text/latex": [
       "A data.frame: 6 × 4\n",
       "\\begin{tabular}{r|llll}\n",
       "  & lon & lat & n & lon\\_strip\\\\\n",
       "  & <dbl> & <dbl> & <int> & <int>\\\\\n",
       "\\hline\n",
       "\t1 & -99.96667 & 37.76667 & 1 & 1\\\\\n",
       "\t2 & -99.76667 & 36.30000 & 2 & 1\\\\\n",
       "\t3 & -99.68333 & 32.43333 & 3 & 1\\\\\n",
       "\t4 & -99.05000 & 35.00000 & 4 & 1\\\\\n",
       "\t5 & -98.81667 & 38.86666 & 5 & 1\\\\\n",
       "\t6 & -98.51667 & 33.98333 & 6 & 1\\\\\n",
       "\\end{tabular}\n"
      ],
      "text/markdown": [
       "\n",
       "A data.frame: 6 × 4\n",
       "\n",
       "| <!--/--> | lon &lt;dbl&gt; | lat &lt;dbl&gt; | n &lt;int&gt; | lon_strip &lt;int&gt; |\n",
       "|---|---|---|---|---|\n",
       "| 1 | -99.96667 | 37.76667 | 1 | 1 |\n",
       "| 2 | -99.76667 | 36.30000 | 2 | 1 |\n",
       "| 3 | -99.68333 | 32.43333 | 3 | 1 |\n",
       "| 4 | -99.05000 | 35.00000 | 4 | 1 |\n",
       "| 5 | -98.81667 | 38.86666 | 5 | 1 |\n",
       "| 6 | -98.51667 | 33.98333 | 6 | 1 |\n",
       "\n"
      ],
      "text/plain": [
       "  lon       lat      n lon_strip\n",
       "1 -99.96667 37.76667 1 1        \n",
       "2 -99.76667 36.30000 2 1        \n",
       "3 -99.68333 32.43333 3 1        \n",
       "4 -99.05000 35.00000 4 1        \n",
       "5 -98.81667 38.86666 5 1        \n",
       "6 -98.51667 33.98333 6 1        "
      ]
     },
     "metadata": {},
     "output_type": "display_data"
    }
   ],
   "source": [
    "head(spat_df)"
   ]
  },
  {
   "cell_type": "code",
   "execution_count": 21,
   "metadata": {
    "vscode": {
     "languageId": "r"
    }
   },
   "outputs": [
    {
     "data": {
      "image/png": "[encoded data removed]",
      "text/plain": [
       "plot without title"
      ]
     },
     "metadata": {
      "image/png": {
       "height": 420,
       "width": 420
      }
     },
     "output_type": "display_data"
    },
    {
     "data": {
      "image/png": "[encoded data removed]",
      "text/plain": [
       "plot without title"
      ]
     },
     "metadata": {
      "image/png": {
       "height": 420,
       "width": 420
      }
     },
     "output_type": "display_data"
    },
    {
     "data": {
      "image/png": "[encoded data removed]",
      "text/plain": [
       "plot without title"
      ]
     },
     "metadata": {
      "image/png": {
       "height": 420,
       "width": 420
      }
     },
     "output_type": "display_data"
    },
    {
     "data": {
      "image/png": "[encoded data removed]",
      "text/plain": [
       "plot without title"
      ]
     },
     "metadata": {
      "image/png": {
       "height": 420,
       "width": 420
      }
     },
     "output_type": "display_data"
    },
    {
     "data": {
      "image/png": "[encoded data removed]",
      "text/plain": [
       "plot without title"
      ]
     },
     "metadata": {
      "image/png": {
       "height": 420,
       "width": 420
      }
     },
     "output_type": "display_data"
    },
    {
     "data": {
      "image/png": "[encoded data removed]",
      "text/plain": [
       "plot without title"
      ]
     },
     "metadata": {
      "image/png": {
       "height": 420,
       "width": 420
      }
     },
     "output_type": "display_data"
    },
    {
     "data": {
      "image/png": "[encoded data removed]",
      "text/plain": [
       "plot without title"
      ]
     },
     "metadata": {
      "image/png": {
       "height": 420,
       "width": 420
      }
     },
     "output_type": "display_data"
    },
    {
     "data": {
      "image/png": "[encoded data removed]",
      "text/plain": [
       "plot without title"
      ]
     },
     "metadata": {
      "image/png": {
       "height": 420,
       "width": 420
      }
     },
     "output_type": "display_data"
    }
   ],
   "source": [
    "plot_cov_strips(Lag0_cov, spat_df)\n",
    "# plot the lag-0 matrices\n",
    "plot_cov_strips(Lag1_cov, spat_df)"
   ]
  },
  {
   "cell_type": "code",
   "execution_count": 22,
   "metadata": {
    "vscode": {
     "languageId": "r"
    }
   },
   "outputs": [],
   "source": [
    "data(\"STObj3\", package = \"STRbook\")\n",
    "STObj4 <- STObj3[, \"1993-07-01::1993-07-31\"]"
   ]
  },
  {
   "cell_type": "code",
   "execution_count": 23,
   "metadata": {
    "vscode": {
     "languageId": "r"
    }
   },
   "outputs": [
    {
     "name": "stderr",
     "output_type": "stream",
     "text": [
      "Warning message in `[.xts`(x@time, j):\n",
      "\"converting 'i' to integer because it appears to contain fractions\"\n",
      "Warning message in `[.xts`(x@time, j):\n",
      "\"converting 'i' to integer because it appears to contain fractions\"\n",
      "Warning message in `[.xts`(x@time, j):\n",
      "\"converting 'i' to integer because it appears to contain fractions\"\n",
      "Warning message in `[.xts`(x@time, j):\n",
      "\"converting 'i' to integer because it appears to contain fractions\"\n",
      "Warning message in `[.xts`(x@time, j):\n",
      "\"converting 'i' to integer because it appears to contain fractions\"\n",
      "Warning message in `[.xts`(x@time, j):\n",
      "\"converting 'i' to integer because it appears to contain fractions\"\n",
      "Warning message in `[.xts`(x@time, j):\n",
      "\"converting 'i' to integer because it appears to contain fractions\"\n",
      "Warning message in `[.xts`(x@time, j):\n",
      "\"converting 'i' to integer because it appears to contain fractions\"\n",
      "Warning message in `[.xts`(x@time, j):\n",
      "\"converting 'i' to integer because it appears to contain fractions\"\n",
      "Warning message in `[.xts`(x@time, j):\n",
      "\"converting 'i' to integer because it appears to contain fractions\"\n",
      "Warning message in `[.xts`(x@time, j):\n",
      "\"converting 'i' to integer because it appears to contain fractions\"\n",
      "Warning message in `[.xts`(x@time, j):\n",
      "\"converting 'i' to integer because it appears to contain fractions\"\n",
      "Warning message in `[.xts`(x@time, j):\n",
      "\"converting 'i' to integer because it appears to contain fractions\"\n",
      "Warning message in `[.xts`(x@time, j):\n",
      "\"converting 'i' to integer because it appears to contain fractions\"\n",
      "Warning message in `[.xts`(x@time, j):\n",
      "\"converting 'i' to integer because it appears to contain fractions\"\n",
      "Warning message in `[.xts`(x@time, j):\n",
      "\"converting 'i' to integer because it appears to contain fractions\"\n",
      "Warning message in `[.xts`(x@time, j):\n",
      "\"converting 'i' to integer because it appears to contain fractions\"\n",
      "Warning message in `[.xts`(x@time, j):\n",
      "\"converting 'i' to integer because it appears to contain fractions\"\n",
      "Warning message in `[.xts`(x@time, j):\n",
      "\"converting 'i' to integer because it appears to contain fractions\"\n",
      "Warning message in `[.xts`(x@time, j):\n",
      "\"converting 'i' to integer because it appears to contain fractions\"\n",
      "Warning message in `[.xts`(x@time, j):\n",
      "\"converting 'i' to integer because it appears to contain fractions\"\n",
      "Warning message in `[.xts`(x@time, j):\n",
      "\"converting 'i' to integer because it appears to contain fractions\"\n",
      "Warning message in `[.xts`(x@time, j):\n",
      "\"converting 'i' to integer because it appears to contain fractions\"\n",
      "Warning message in `[.xts`(x@time, j):\n",
      "\"converting 'i' to integer because it appears to contain fractions\"\n",
      "Warning message in `[.xts`(x@time, j):\n",
      "\"converting 'i' to integer because it appears to contain fractions\"\n",
      "Warning message in `[.xts`(x@time, j):\n",
      "\"converting 'i' to integer because it appears to contain fractions\"\n",
      "Warning message in `[.xts`(x@time, j):\n",
      "\"converting 'i' to integer because it appears to contain fractions\"\n",
      "Warning message in `[.xts`(x@time, j):\n",
      "\"converting 'i' to integer because it appears to contain fractions\"\n",
      "Warning message in `[.xts`(x@time, j):\n",
      "\"converting 'i' to integer because it appears to contain fractions\"\n",
      "Warning message in `[.xts`(x@time, j):\n",
      "\"converting 'i' to integer because it appears to contain fractions\"\n",
      "Warning message in `[.xts`(x@time, j):\n",
      "\"converting 'i' to integer because it appears to contain fractions\"\n",
      "Warning message in `[.xts`(x@time, j):\n",
      "\"converting 'i' to integer because it appears to contain fractions\"\n",
      "Warning message in `[.xts`(x@time, j):\n",
      "\"converting 'i' to integer because it appears to contain fractions\"\n",
      "Warning message in `[.xts`(x@time, j):\n",
      "\"converting 'i' to integer because it appears to contain fractions\"\n",
      "Warning message in `[.xts`(x@time, j):\n",
      "\"converting 'i' to integer because it appears to contain fractions\"\n",
      "Warning message in `[.xts`(x@time, j):\n",
      "\"converting 'i' to integer because it appears to contain fractions\"\n",
      "Warning message in `[.xts`(x@time, j):\n",
      "\"converting 'i' to integer because it appears to contain fractions\"\n",
      "Warning message in `[.xts`(x@time, j):\n",
      "\"converting 'i' to integer because it appears to contain fractions\"\n",
      "Warning message in `[.xts`(x@time, j):\n",
      "\"converting 'i' to integer because it appears to contain fractions\"\n",
      "Warning message in `[.xts`(x@time, j):\n",
      "\"converting 'i' to integer because it appears to contain fractions\"\n",
      "Warning message in `[.xts`(x@time, j):\n",
      "\"converting 'i' to integer because it appears to contain fractions\"\n",
      "Warning message in `[.xts`(x@time, j):\n",
      "\"converting 'i' to integer because it appears to contain fractions\"\n",
      "Warning message in `[.xts`(x@time, j):\n",
      "\"converting 'i' to integer because it appears to contain fractions\"\n",
      "Warning message in `[.xts`(x@time, j):\n",
      "\"converting 'i' to integer because it appears to contain fractions\"\n",
      "Warning message in `[.xts`(x@time, j):\n",
      "\"converting 'i' to integer because it appears to contain fractions\"\n",
      "Warning message in `[.xts`(x@time, j):\n",
      "\"converting 'i' to integer because it appears to contain fractions\"\n",
      "Warning message in `[.xts`(x@time, j):\n",
      "\"converting 'i' to integer because it appears to contain fractions\"\n",
      "Warning message in `[.xts`(x@time, j):\n",
      "\"converting 'i' to integer because it appears to contain fractions\"\n",
      "Warning message in `[.xts`(x@time, j):\n",
      "\"converting 'i' to integer because it appears to contain fractions\"\n",
      "Warning message in `[.xts`(x@time, j):\n",
      "\"converting 'i' to integer because it appears to contain fractions\"\n",
      "Warning message in `[.xts`(x@time, j):\n",
      "\"converting 'i' to integer because it appears to contain fractions\"\n",
      "Warning message in `[.xts`(x@time, j):\n",
      "\"converting 'i' to integer because it appears to contain fractions\"\n",
      "Warning message in `[.xts`(x@time, j):\n",
      "\"converting 'i' to integer because it appears to contain fractions\"\n",
      "Warning message in `[.xts`(x@time, j):\n",
      "\"converting 'i' to integer because it appears to contain fractions\"\n",
      "Warning message in `[.xts`(x@time, j):\n",
      "\"converting 'i' to integer because it appears to contain fractions\"\n",
      "Warning message in `[.xts`(x@time, j):\n",
      "\"converting 'i' to integer because it appears to contain fractions\"\n",
      "Warning message in `[.xts`(x@time, j):\n",
      "\"converting 'i' to integer because it appears to contain fractions\"\n",
      "Warning message in `[.xts`(x@time, j):\n",
      "\"converting 'i' to integer because it appears to contain fractions\"\n",
      "Warning message in `[.xts`(x@time, j):\n",
      "\"converting 'i' to integer because it appears to contain fractions\"\n",
      "Warning message in `[.xts`(x@time, j):\n",
      "\"converting 'i' to integer because it appears to contain fractions\"\n",
      "Warning message in `[.xts`(x@time, j):\n",
      "\"converting 'i' to integer because it appears to contain fractions\"\n",
      "Warning message in `[.xts`(x@time, j):\n",
      "\"converting 'i' to integer because it appears to contain fractions\"\n",
      "Warning message in `[.xts`(x@time, j):\n",
      "\"converting 'i' to integer because it appears to contain fractions\"\n",
      "Warning message in `[.xts`(x@time, j):\n",
      "\"converting 'i' to integer because it appears to contain fractions\"\n",
      "Warning message in `[.xts`(x@time, j):\n",
      "\"converting 'i' to integer because it appears to contain fractions\"\n",
      "Warning message in `[.xts`(x@time, j):\n",
      "\"converting 'i' to integer because it appears to contain fractions\"\n",
      "Warning message in `[.xts`(x@time, j):\n",
      "\"converting 'i' to integer because it appears to contain fractions\"\n",
      "Warning message in `[.xts`(x@time, j):\n",
      "\"converting 'i' to integer because it appears to contain fractions\"\n",
      "Warning message in `[.xts`(x@time, j):\n",
      "\"converting 'i' to integer because it appears to contain fractions\"\n",
      "Warning message in `[.xts`(x@time, j):\n",
      "\"converting 'i' to integer because it appears to contain fractions\"\n",
      "Warning message in `[.xts`(x@time, j):\n",
      "\"converting 'i' to integer because it appears to contain fractions\"\n",
      "Warning message in `[.xts`(x@time, j):\n",
      "\"converting 'i' to integer because it appears to contain fractions\"\n",
      "Warning message in `[.xts`(x@time, j):\n",
      "\"converting 'i' to integer because it appears to contain fractions\"\n",
      "Warning message in `[.xts`(x@time, j):\n",
      "\"converting 'i' to integer because it appears to contain fractions\"\n",
      "Warning message in `[.xts`(x@time, j):\n",
      "\"converting 'i' to integer because it appears to contain fractions\"\n",
      "Warning message in `[.xts`(x@time, j):\n",
      "\"converting 'i' to integer because it appears to contain fractions\"\n",
      "Warning message in `[.xts`(x@time, j):\n",
      "\"converting 'i' to integer because it appears to contain fractions\"\n",
      "Warning message in `[.xts`(x@time, j):\n",
      "\"converting 'i' to integer because it appears to contain fractions\"\n",
      "Warning message in `[.xts`(x@time, j):\n",
      "\"converting 'i' to integer because it appears to contain fractions\"\n",
      "Warning message in `[.xts`(x@time, j):\n",
      "\"converting 'i' to integer because it appears to contain fractions\"\n",
      "Warning message in `[.xts`(x@time, j):\n",
      "\"converting 'i' to integer because it appears to contain fractions\"\n",
      "Warning message in `[.xts`(x@time, j):\n",
      "\"converting 'i' to integer because it appears to contain fractions\"\n",
      "Warning message in `[.xts`(x@time, j):\n",
      "\"converting 'i' to integer because it appears to contain fractions\"\n",
      "Warning message in `[.xts`(x@time, j):\n",
      "\"converting 'i' to integer because it appears to contain fractions\"\n",
      "Warning message in `[.xts`(x@time, j):\n",
      "\"converting 'i' to integer because it appears to contain fractions\"\n",
      "Warning message in `[.xts`(x@time, j):\n",
      "\"converting 'i' to integer because it appears to contain fractions\"\n",
      "Warning message in `[.xts`(x@time, j):\n",
      "\"converting 'i' to integer because it appears to contain fractions\"\n",
      "Warning message in `[.xts`(x@time, j):\n",
      "\"converting 'i' to integer because it appears to contain fractions\"\n",
      "Warning message in `[.xts`(x@time, j):\n",
      "\"converting 'i' to integer because it appears to contain fractions\"\n",
      "Warning message in `[.xts`(x@time, j):\n",
      "\"converting 'i' to integer because it appears to contain fractions\"\n",
      "Warning message in `[.xts`(x@time, j):\n",
      "\"converting 'i' to integer because it appears to contain fractions\"\n",
      "Warning message in `[.xts`(x@time, j):\n",
      "\"converting 'i' to integer because it appears to contain fractions\"\n",
      "Warning message in `[.xts`(x@time, j):\n",
      "\"converting 'i' to integer because it appears to contain fractions\"\n",
      "Warning message in `[.xts`(x@time, j):\n",
      "\"converting 'i' to integer because it appears to contain fractions\"\n",
      "Warning message in `[.xts`(x@time, j):\n",
      "\"converting 'i' to integer because it appears to contain fractions\"\n",
      "Warning message in `[.xts`(x@time, j):\n",
      "\"converting 'i' to integer because it appears to contain fractions\"\n",
      "Warning message in `[.xts`(x@time, j):\n",
      "\"converting 'i' to integer because it appears to contain fractions\"\n",
      "Warning message in `[.xts`(x@time, j):\n",
      "\"converting 'i' to integer because it appears to contain fractions\"\n",
      "Warning message in `[.xts`(x@time, j):\n",
      "\"converting 'i' to integer because it appears to contain fractions\"\n",
      "Warning message in `[.xts`(x@time, j):\n",
      "\"converting 'i' to integer because it appears to contain fractions\"\n",
      "Warning message in `[.xts`(x@time, j):\n",
      "\"converting 'i' to integer because it appears to contain fractions\"\n",
      "Warning message in `[.xts`(x@time, j):\n",
      "\"converting 'i' to integer because it appears to contain fractions\"\n",
      "Warning message in `[.xts`(x@time, j):\n",
      "\"converting 'i' to integer because it appears to contain fractions\"\n",
      "Warning message in `[.xts`(x@time, j):\n",
      "\"converting 'i' to integer because it appears to contain fractions\"\n",
      "Warning message in `[.xts`(x@time, j):\n",
      "\"converting 'i' to integer because it appears to contain fractions\"\n",
      "Warning message in `[.xts`(x@time, j):\n",
      "\"converting 'i' to integer because it appears to contain fractions\"\n",
      "Warning message in `[.xts`(x@time, j):\n",
      "\"converting 'i' to integer because it appears to contain fractions\"\n",
      "Warning message in `[.xts`(x@time, j):\n",
      "\"converting 'i' to integer because it appears to contain fractions\"\n",
      "Warning message in `[.xts`(x@time, j):\n",
      "\"converting 'i' to integer because it appears to contain fractions\"\n",
      "Warning message in `[.xts`(x@time, j):\n",
      "\"converting 'i' to integer because it appears to contain fractions\"\n",
      "Warning message in `[.xts`(x@time, j):\n",
      "\"converting 'i' to integer because it appears to contain fractions\"\n",
      "Warning message in `[.xts`(x@time, j):\n",
      "\"converting 'i' to integer because it appears to contain fractions\"\n",
      "Warning message in `[.xts`(x@time, j):\n",
      "\"converting 'i' to integer because it appears to contain fractions\"\n",
      "Warning message in `[.xts`(x@time, j):\n",
      "\"converting 'i' to integer because it appears to contain fractions\"\n",
      "Warning message in `[.xts`(x@time, j):\n",
      "\"converting 'i' to integer because it appears to contain fractions\"\n",
      "Warning message in `[.xts`(x@time, j):\n",
      "\"converting 'i' to integer because it appears to contain fractions\"\n",
      "Warning message in `[.xts`(x@time, j):\n",
      "\"converting 'i' to integer because it appears to contain fractions\"\n",
      "Warning message in `[.xts`(x@time, j):\n",
      "\"converting 'i' to integer because it appears to contain fractions\"\n",
      "Warning message in `[.xts`(x@time, j):\n",
      "\"converting 'i' to integer because it appears to contain fractions\"\n",
      "Warning message in `[.xts`(x@time, j):\n",
      "\"converting 'i' to integer because it appears to contain fractions\"\n",
      "Warning message in `[.xts`(x@time, j):\n",
      "\"converting 'i' to integer because it appears to contain fractions\"\n",
      "Warning message in `[.xts`(x@time, j):\n",
      "\"converting 'i' to integer because it appears to contain fractions\"\n",
      "Warning message in `[.xts`(x@time, j):\n",
      "\"converting 'i' to integer because it appears to contain fractions\"\n",
      "Warning message in `[.xts`(x@time, j):\n",
      "\"converting 'i' to integer because it appears to contain fractions\"\n",
      "Warning message in `[.xts`(x@time, j):\n",
      "\"converting 'i' to integer because it appears to contain fractions\"\n",
      "Warning message in `[.xts`(x@time, j):\n",
      "\"converting 'i' to integer because it appears to contain fractions\"\n",
      "Warning message in `[.xts`(x@time, j):\n",
      "\"converting 'i' to integer because it appears to contain fractions\"\n",
      "Warning message in `[.xts`(x@time, j):\n",
      "\"converting 'i' to integer because it appears to contain fractions\"\n",
      "Warning message in `[.xts`(x@time, j):\n",
      "\"converting 'i' to integer because it appears to contain fractions\"\n",
      "Warning message in `[.xts`(x@time, j):\n",
      "\"converting 'i' to integer because it appears to contain fractions\"\n",
      "Warning message in `[.xts`(x@time, j):\n",
      "\"converting 'i' to integer because it appears to contain fractions\"\n",
      "Warning message in `[.xts`(x@time, j):\n",
      "\"converting 'i' to integer because it appears to contain fractions\"\n",
      "Warning message in `[.xts`(x@time, j):\n",
      "\"converting 'i' to integer because it appears to contain fractions\"\n",
      "Warning message in `[.xts`(x@time, j):\n",
      "\"converting 'i' to integer because it appears to contain fractions\"\n",
      "Warning message in `[.xts`(x@time, j):\n",
      "\"converting 'i' to integer because it appears to contain fractions\"\n",
      "Warning message in `[.xts`(x@time, j):\n",
      "\"converting 'i' to integer because it appears to contain fractions\"\n",
      "Warning message in `[.xts`(x@time, j):\n",
      "\"converting 'i' to integer because it appears to contain fractions\"\n",
      "Warning message in `[.xts`(x@time, j):\n",
      "\"converting 'i' to integer because it appears to contain fractions\"\n",
      "Warning message in `[.xts`(x@time, j):\n",
      "\"converting 'i' to integer because it appears to contain fractions\"\n",
      "Warning message in `[.xts`(x@time, j):\n",
      "\"converting 'i' to integer because it appears to contain fractions\"\n",
      "Warning message in `[.xts`(x@time, j):\n",
      "\"converting 'i' to integer because it appears to contain fractions\"\n",
      "Warning message in `[.xts`(x@time, j):\n",
      "\"converting 'i' to integer because it appears to contain fractions\"\n",
      "Warning message in `[.xts`(x@time, j):\n",
      "\"converting 'i' to integer because it appears to contain fractions\"\n",
      "Warning message in `[.xts`(x@time, j):\n",
      "\"converting 'i' to integer because it appears to contain fractions\"\n",
      "Warning message in `[.xts`(x@time, j):\n",
      "\"converting 'i' to integer because it appears to contain fractions\"\n",
      "Warning message in `[.xts`(x@time, j):\n",
      "\"converting 'i' to integer because it appears to contain fractions\"\n",
      "Warning message in `[.xts`(x@time, j):\n",
      "\"converting 'i' to integer because it appears to contain fractions\"\n",
      "Warning message in `[.xts`(x@time, j):\n",
      "\"converting 'i' to integer because it appears to contain fractions\"\n",
      "Warning message in `[.xts`(x@time, j):\n",
      "\"converting 'i' to integer because it appears to contain fractions\"\n",
      "Warning message in `[.xts`(x@time, j):\n",
      "\"converting 'i' to integer because it appears to contain fractions\"\n",
      "Warning message in `[.xts`(x@time, j):\n",
      "\"converting 'i' to integer because it appears to contain fractions\"\n",
      "Warning message in `[.xts`(x@time, j):\n",
      "\"converting 'i' to integer because it appears to contain fractions\"\n",
      "Warning message in `[.xts`(x@time, j):\n",
      "\"converting 'i' to integer because it appears to contain fractions\"\n",
      "Warning message in `[.xts`(x@time, j):\n",
      "\"converting 'i' to integer because it appears to contain fractions\"\n",
      "Warning message in `[.xts`(x@time, j):\n",
      "\"converting 'i' to integer because it appears to contain fractions\"\n",
      "Warning message in `[.xts`(x@time, j):\n",
      "\"converting 'i' to integer because it appears to contain fractions\"\n",
      "Warning message in `[.xts`(x@time, j):\n",
      "\"converting 'i' to integer because it appears to contain fractions\"\n",
      "Warning message in `[.xts`(x@time, j):\n",
      "\"converting 'i' to integer because it appears to contain fractions\"\n",
      "Warning message in `[.xts`(x@time, j):\n",
      "\"converting 'i' to integer because it appears to contain fractions\"\n",
      "Warning message in `[.xts`(x@time, j):\n",
      "\"converting 'i' to integer because it appears to contain fractions\"\n",
      "Warning message in `[.xts`(x@time, j):\n",
      "\"converting 'i' to integer because it appears to contain fractions\"\n",
      "Warning message in `[.xts`(x@time, j):\n",
      "\"converting 'i' to integer because it appears to contain fractions\"\n",
      "Warning message in `[.xts`(x@time, j):\n",
      "\"converting 'i' to integer because it appears to contain fractions\"\n",
      "Warning message in `[.xts`(x@time, j):\n",
      "\"converting 'i' to integer because it appears to contain fractions\"\n",
      "Warning message in `[.xts`(x@time, j):\n",
      "\"converting 'i' to integer because it appears to contain fractions\"\n",
      "Warning message in `[.xts`(x@time, j):\n",
      "\"converting 'i' to integer because it appears to contain fractions\"\n",
      "Warning message in `[.xts`(x@time, j):\n",
      "\"converting 'i' to integer because it appears to contain fractions\"\n",
      "Warning message in `[.xts`(x@time, j):\n",
      "\"converting 'i' to integer because it appears to contain fractions\"\n",
      "Warning message in `[.xts`(x@time, j):\n",
      "\"converting 'i' to integer because it appears to contain fractions\"\n",
      "Warning message in `[.xts`(x@time, j):\n",
      "\"converting 'i' to integer because it appears to contain fractions\"\n",
      "Warning message in `[.xts`(x@time, j):\n",
      "\"converting 'i' to integer because it appears to contain fractions\"\n",
      "Warning message in `[.xts`(x@time, j):\n",
      "\"converting 'i' to integer because it appears to contain fractions\"\n",
      "Warning message in `[.xts`(x@time, j):\n",
      "\"converting 'i' to integer because it appears to contain fractions\"\n",
      "Warning message in `[.xts`(x@time, j):\n",
      "\"converting 'i' to integer because it appears to contain fractions\"\n",
      "Warning message in `[.xts`(x@time, j):\n",
      "\"converting 'i' to integer because it appears to contain fractions\"\n",
      "Warning message in `[.xts`(x@time, j):\n",
      "\"converting 'i' to integer because it appears to contain fractions\"\n",
      "Warning message in `[.xts`(x@time, j):\n",
      "\"converting 'i' to integer because it appears to contain fractions\"\n",
      "Warning message in `[.xts`(x@time, j):\n",
      "\"converting 'i' to integer because it appears to contain fractions\"\n",
      "Warning message in `[.xts`(x@time, j):\n",
      "\"converting 'i' to integer because it appears to contain fractions\"\n",
      "Warning message in `[.xts`(x@time, j):\n",
      "\"converting 'i' to integer because it appears to contain fractions\"\n",
      "Warning message in `[.xts`(x@time, j):\n",
      "\"converting 'i' to integer because it appears to contain fractions\"\n",
      "Warning message in `[.xts`(x@time, j):\n",
      "\"converting 'i' to integer because it appears to contain fractions\"\n",
      "Warning message in `[.xts`(x@time, j):\n",
      "\"converting 'i' to integer because it appears to contain fractions\"\n",
      "Warning message in `[.xts`(x@time, j):\n",
      "\"converting 'i' to integer because it appears to contain fractions\"\n",
      "Warning message in `[.xts`(x@time, j):\n",
      "\"converting 'i' to integer because it appears to contain fractions\"\n",
      "Warning message in `[.xts`(x@time, j):\n",
      "\"converting 'i' to integer because it appears to contain fractions\"\n",
      "Warning message in `[.xts`(x@time, j):\n",
      "\"converting 'i' to integer because it appears to contain fractions\"\n",
      "Warning message in `[.xts`(x@time, j):\n",
      "\"converting 'i' to integer because it appears to contain fractions\"\n",
      "Warning message in `[.xts`(x@time, j):\n",
      "\"converting 'i' to integer because it appears to contain fractions\"\n"
     ]
    }
   ],
   "source": [
    "vv <- variogram(object = z~1 + lat, # fixed effect component\n",
    "data = STObj4,\n",
    "# July data\n",
    "width = 80,\n",
    "# spatial bin (80 km)\n",
    "cutoff = 1000,\n",
    "# consider pts < 1000 km apart\n",
    "tlags = 0.01:6.01)"
   ]
  },
  {
   "cell_type": "code",
   "execution_count": 24,
   "metadata": {
    "vscode": {
     "languageId": "r"
    }
   },
   "outputs": [],
   "source": [
    "data(\"SSTlandmask\", package = \"STRbook\")\n",
    "data(\"SSTlonlat\", package = \"STRbook\")\n",
    "data(\"SSTdata\", package = \"STRbook\")"
   ]
  },
  {
   "cell_type": "code",
   "execution_count": 25,
   "metadata": {
    "vscode": {
     "languageId": "r"
    }
   },
   "outputs": [],
   "source": [
    "delete_rows <- which(SSTlandmask == 1)\n",
    "SSTdata <- SSTdata[-delete_rows, 1:396]"
   ]
  },
  {
   "cell_type": "code",
   "execution_count": 26,
   "metadata": {
    "vscode": {
     "languageId": "r"
    }
   },
   "outputs": [
    {
     "data": {
      "text/html": [
       "<style>\n",
       ".list-inline {list-style: none; margin:0; padding: 0}\n",
       ".list-inline>li {display: inline-block}\n",
       ".list-inline>li:not(:last-child)::after {content: \"\\00b7\"; padding: 0 .5ex}\n",
       "</style>\n",
       "<ol class=list-inline><li>396</li><li>2261</li></ol>\n"
      ],
      "text/latex": [
       "\\begin{enumerate*}\n",
       "\\item 396\n",
       "\\item 2261\n",
       "\\end{enumerate*}\n"
      ],
      "text/markdown": [
       "1. 396\n",
       "2. 2261\n",
       "\n",
       "\n"
      ],
      "text/plain": [
       "[1]  396 2261"
      ]
     },
     "metadata": {},
     "output_type": "display_data"
    }
   ],
   "source": [
    "Z <- t(SSTdata)\n",
    "dim(Z)"
   ]
  },
  {
   "cell_type": "code",
   "execution_count": 27,
   "metadata": {
    "vscode": {
     "languageId": "r"
    }
   },
   "outputs": [],
   "source": [
    "## First find the matrix we need to subtract:\n",
    "spat_mean <- apply(SSTdata, 1, mean)\n",
    "nT <- ncol(SSTdata)\n",
    "## Then subtract and standardize:\n",
    "Zspat_detrend <- Z - outer(rep(1, nT), spat_mean)\n",
    "Zt <- 1/sqrt(nT - 1)*Zspat_detrend"
   ]
  },
  {
   "cell_type": "code",
   "execution_count": 28,
   "metadata": {
    "vscode": {
     "languageId": "r"
    }
   },
   "outputs": [],
   "source": [
    "E <- svd(Zt)"
   ]
  },
  {
   "cell_type": "code",
   "execution_count": 29,
   "metadata": {
    "vscode": {
     "languageId": "r"
    }
   },
   "outputs": [
    {
     "data": {
      "text/html": [
       "<table class=\"dataframe\">\n",
       "<caption>A data.frame: 6 × 6</caption>\n",
       "<thead>\n",
       "\t<tr><th></th><th scope=col>lon</th><th scope=col>lat</th><th scope=col>EOF1</th><th scope=col>EOF2</th><th scope=col>EOF3</th><th scope=col>EOF4</th></tr>\n",
       "\t<tr><th></th><th scope=col>&lt;dbl&gt;</th><th scope=col>&lt;dbl&gt;</th><th scope=col>&lt;dbl&gt;</th><th scope=col>&lt;dbl&gt;</th><th scope=col>&lt;dbl&gt;</th><th scope=col>&lt;dbl&gt;</th></tr>\n",
       "</thead>\n",
       "<tbody>\n",
       "\t<tr><th scope=row>16</th><td>154</td><td>-29</td><td>-0.004915064</td><td>-0.012129566</td><td>-0.02882162</td><td>8.540892e-05</td></tr>\n",
       "\t<tr><th scope=row>17</th><td>156</td><td>-29</td><td>-0.001412275</td><td>-0.002276177</td><td>-0.02552841</td><td>6.726077e-03</td></tr>\n",
       "\t<tr><th scope=row>18</th><td>158</td><td>-29</td><td> 0.000245909</td><td> 0.002298082</td><td>-0.01933020</td><td>8.591251e-03</td></tr>\n",
       "\t<tr><th scope=row>19</th><td>160</td><td>-29</td><td> 0.001454972</td><td> 0.002303585</td><td>-0.01905901</td><td>1.025538e-02</td></tr>\n",
       "\t<tr><th scope=row>20</th><td>162</td><td>-29</td><td> 0.002265778</td><td> 0.001643138</td><td>-0.02251571</td><td>1.125295e-02</td></tr>\n",
       "\t<tr><th scope=row>21</th><td>164</td><td>-29</td><td> 0.003598762</td><td> 0.003910823</td><td>-0.02311128</td><td>1.002285e-02</td></tr>\n",
       "</tbody>\n",
       "</table>\n"
      ],
      "text/latex": [
       "A data.frame: 6 × 6\n",
       "\\begin{tabular}{r|llllll}\n",
       "  & lon & lat & EOF1 & EOF2 & EOF3 & EOF4\\\\\n",
       "  & <dbl> & <dbl> & <dbl> & <dbl> & <dbl> & <dbl>\\\\\n",
       "\\hline\n",
       "\t16 & 154 & -29 & -0.004915064 & -0.012129566 & -0.02882162 & 8.540892e-05\\\\\n",
       "\t17 & 156 & -29 & -0.001412275 & -0.002276177 & -0.02552841 & 6.726077e-03\\\\\n",
       "\t18 & 158 & -29 &  0.000245909 &  0.002298082 & -0.01933020 & 8.591251e-03\\\\\n",
       "\t19 & 160 & -29 &  0.001454972 &  0.002303585 & -0.01905901 & 1.025538e-02\\\\\n",
       "\t20 & 162 & -29 &  0.002265778 &  0.001643138 & -0.02251571 & 1.125295e-02\\\\\n",
       "\t21 & 164 & -29 &  0.003598762 &  0.003910823 & -0.02311128 & 1.002285e-02\\\\\n",
       "\\end{tabular}\n"
      ],
      "text/markdown": [
       "\n",
       "A data.frame: 6 × 6\n",
       "\n",
       "| <!--/--> | lon &lt;dbl&gt; | lat &lt;dbl&gt; | EOF1 &lt;dbl&gt; | EOF2 &lt;dbl&gt; | EOF3 &lt;dbl&gt; | EOF4 &lt;dbl&gt; |\n",
       "|---|---|---|---|---|---|---|\n",
       "| 16 | 154 | -29 | -0.004915064 | -0.012129566 | -0.02882162 | 8.540892e-05 |\n",
       "| 17 | 156 | -29 | -0.001412275 | -0.002276177 | -0.02552841 | 6.726077e-03 |\n",
       "| 18 | 158 | -29 |  0.000245909 |  0.002298082 | -0.01933020 | 8.591251e-03 |\n",
       "| 19 | 160 | -29 |  0.001454972 |  0.002303585 | -0.01905901 | 1.025538e-02 |\n",
       "| 20 | 162 | -29 |  0.002265778 |  0.001643138 | -0.02251571 | 1.125295e-02 |\n",
       "| 21 | 164 | -29 |  0.003598762 |  0.003910823 | -0.02311128 | 1.002285e-02 |\n",
       "\n"
      ],
      "text/plain": [
       "   lon lat EOF1         EOF2         EOF3        EOF4        \n",
       "16 154 -29 -0.004915064 -0.012129566 -0.02882162 8.540892e-05\n",
       "17 156 -29 -0.001412275 -0.002276177 -0.02552841 6.726077e-03\n",
       "18 158 -29  0.000245909  0.002298082 -0.01933020 8.591251e-03\n",
       "19 160 -29  0.001454972  0.002303585 -0.01905901 1.025538e-02\n",
       "20 162 -29  0.002265778  0.001643138 -0.02251571 1.125295e-02\n",
       "21 164 -29  0.003598762  0.003910823 -0.02311128 1.002285e-02"
      ]
     },
     "metadata": {},
     "output_type": "display_data"
    }
   ],
   "source": [
    "V <- E$v\n",
    "colnames(E$v) <- paste0(\"EOF\", 1:ncol(SSTdata)) # label columns\n",
    "EOFs <- cbind(SSTlonlat[-delete_rows, ], E$v)\n",
    "head(EOFs[, 1:6])"
   ]
  },
  {
   "cell_type": "code",
   "execution_count": 30,
   "metadata": {
    "vscode": {
     "languageId": "r"
    }
   },
   "outputs": [],
   "source": [
    "TS <- data.frame(E$u) %>%\n",
    "# convert U to data frame\n",
    "mutate(t = 1:nrow(E$u)) %>%\n",
    "# add a time field\n",
    "gather(EOF, PC, -t)"
   ]
  },
  {
   "cell_type": "code",
   "execution_count": 31,
   "metadata": {
    "vscode": {
     "languageId": "r"
    }
   },
   "outputs": [],
   "source": [
    "TS$nPC <- TS$PC * sqrt(nT-1)"
   ]
  },
  {
   "cell_type": "code",
   "execution_count": 32,
   "metadata": {
    "vscode": {
     "languageId": "r"
    }
   },
   "outputs": [
    {
     "data": {
      "image/png": "[encoded data removed]",
      "text/plain": [
       "plot without title"
      ]
     },
     "metadata": {
      "image/png": {
       "height": 420,
       "width": 420
      }
     },
     "output_type": "display_data"
    }
   ],
   "source": [
    "ggplot(EOFs) + geom_tile(aes(x = lon, y = lat, fill = EOF1)) +\n",
    "fill_scale(name = \"degC\") + theme_bw() +\n",
    "xlab(\"Longitude (deg)\") + ylab(\"Latitude (deg)\")"
   ]
  },
  {
   "cell_type": "code",
   "execution_count": 33,
   "metadata": {
    "vscode": {
     "languageId": "r"
    }
   },
   "outputs": [],
   "source": [
    "nEOF <- 10\n",
    "EOFset1 <- E$u[1:(nT-7), 1:nEOF] * sqrt(nT - 1)\n",
    "EOFset2 <- E$u[8:nT, 1:nEOF] * sqrt(nT - 1)"
   ]
  },
  {
   "cell_type": "code",
   "execution_count": 34,
   "metadata": {
    "vscode": {
     "languageId": "r"
    }
   },
   "outputs": [
    {
     "name": "stdout",
     "output_type": "stream",
     "text": [
      "[1] 0.843 0.758 0.649 0.584 0.463\n",
      "[1] 0.4137 0.3067 0.2058 0.0700 0.0273\n"
     ]
    }
   ],
   "source": [
    "cc <- cancor(EOFset1, EOFset2)\n",
    "# compute CCA\n",
    "options(digits = 3)\n",
    "# print to three d.p.\n",
    "print(cc$cor[1:5])\n",
    "# print\n",
    "## [1] 0.843 0.758 0.649 0.584 0.463\n",
    "print(cc$cor[6:10])"
   ]
  },
  {
   "cell_type": "code",
   "execution_count": 35,
   "metadata": {
    "vscode": {
     "languageId": "r"
    }
   },
   "outputs": [],
   "source": [
    "CCA_df <- data.frame(t = 1:(nT - 7),\n",
    "CCAvar1 = (EOFset1 %*% cc$xcoef[,1])[,1],\n",
    "CCAvar2 = (EOFset2 %*% cc$ycoef[,1])[,1])"
   ]
  },
  {
   "cell_type": "code",
   "execution_count": 36,
   "metadata": {
    "vscode": {
     "languageId": "r"
    }
   },
   "outputs": [],
   "source": [
    "t_breaks <- seq(1, nT, by = 60)\n",
    "# breaks for x-labels\n",
    "year_breaks <- seq(1970,2002,by=5)\n",
    "# labels for x-axis\n",
    "g <- ggplot(CCA_df) +\n",
    "geom_line(aes(t, CCAvar1), col = \"dark blue\") +\n",
    "geom_line(aes(t, CCAvar2), col = \"dark red\") +\n",
    "scale_x_continuous(breaks = t_breaks, labels = year_breaks) +\n",
    "ylab(\"CCA variables\") + xlab(\"Year\") + theme_bw()"
   ]
  },
  {
   "cell_type": "code",
   "execution_count": 37,
   "metadata": {
    "vscode": {
     "languageId": "r"
    }
   },
   "outputs": [],
   "source": [
    "EOFs_CCA <- EOFs[,1:4] # first two columns are lon-lat\n",
    "EOFs_CCA[,3] <- c(as.matrix(EOFs[,3:12]) %*% cc$xcoef[,1])\n",
    "EOFs_CCA[,4] <- c(as.matrix(EOFs[,3:12]) %*% cc$ycoef[,1])"
   ]
  },
  {
   "cell_type": "code",
   "execution_count": null,
   "metadata": {
    "vscode": {
     "languageId": "r"
    }
   },
   "outputs": [],
   "source": []
  }
 ],
 "metadata": {
  "kernelspec": {
   "display_name": "R",
   "language": "R",
   "name": "ir"
  },
  "language_info": {
   "codemirror_mode": "r",
   "file_extension": ".r",
   "mimetype": "text/x-r-source",
   "name": "R",
   "pygments_lexer": "r",
   "version": "4.1.3"
  }
 },
 "nbformat": 4,
 "nbformat_minor": 2
}
