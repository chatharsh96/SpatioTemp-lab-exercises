{
 "cells": [
  {
   "cell_type": "code",
   "execution_count": 1,
   "metadata": {
    "vscode": {
     "languageId": "r"
    }
   },
   "outputs": [
    {
     "name": "stderr",
     "output_type": "stream",
     "text": [
      "\n",
      "Attaching package: 'dplyr'\n",
      "\n",
      "\n",
      "The following objects are masked from 'package:stats':\n",
      "\n",
      "    filter, lag\n",
      "\n",
      "\n",
      "The following objects are masked from 'package:base':\n",
      "\n",
      "    intersect, setdiff, setequal, union\n",
      "\n",
      "\n"
     ]
    }
   ],
   "source": [
    "library(\"broom\")\n",
    "library(\"dplyr\")\n",
    "library(\"ggplot2\")\n",
    "library(\"STRbook\")\n",
    "library(\"purrr\")\n",
    "library(\"tidyr\")"
   ]
  },
  {
   "cell_type": "code",
   "execution_count": 2,
   "metadata": {
    "vscode": {
     "languageId": "r"
    }
   },
   "outputs": [],
   "source": [
    "data(\"SST_df\", package = \"STRbook\")"
   ]
  },
  {
   "cell_type": "code",
   "execution_count": 3,
   "metadata": {
    "vscode": {
     "languageId": "r"
    }
   },
   "outputs": [],
   "source": [
    "data(\"SSTlandmask\", package = \"STRbook\")\n",
    "data(\"SSTdata\", package = \"STRbook\")\n",
    "data(\"SSTlonlat\", package = \"STRbook\")"
   ]
  },
  {
   "cell_type": "code",
   "execution_count": 4,
   "metadata": {
    "vscode": {
     "languageId": "r"
    }
   },
   "outputs": [],
   "source": [
    "lonlatmask_df <- data.frame(cbind(SSTlonlat, SSTlandmask))\n",
    "names(lonlatmask_df) <- c(\"lon\", \"lat\", \"mask\")"
   ]
  },
  {
   "cell_type": "code",
   "execution_count": 5,
   "metadata": {
    "vscode": {
     "languageId": "r"
    }
   },
   "outputs": [],
   "source": [
    "SSTdata <- cbind(lonlatmask_df, SSTdata)"
   ]
  },
  {
   "cell_type": "code",
   "execution_count": 7,
   "metadata": {
    "vscode": {
     "languageId": "r"
    }
   },
   "outputs": [
    {
     "data": {
      "text/html": [
       "<table class=\"dataframe\">\n",
       "<caption>A data.frame: 3 × 5</caption>\n",
       "<thead>\n",
       "\t<tr><th></th><th scope=col>lon</th><th scope=col>lat</th><th scope=col>mask</th><th scope=col>date</th><th scope=col>sst</th></tr>\n",
       "\t<tr><th></th><th scope=col>&lt;dbl&gt;</th><th scope=col>&lt;dbl&gt;</th><th scope=col>&lt;dbl&gt;</th><th scope=col>&lt;chr&gt;</th><th scope=col>&lt;dbl&gt;</th></tr>\n",
       "</thead>\n",
       "<tbody>\n",
       "\t<tr><th scope=row>1</th><td>124</td><td>-29</td><td>1</td><td>V1</td><td>-0.3628883</td></tr>\n",
       "\t<tr><th scope=row>2</th><td>126</td><td>-29</td><td>1</td><td>V1</td><td>-0.2846108</td></tr>\n",
       "\t<tr><th scope=row>3</th><td>128</td><td>-29</td><td>1</td><td>V1</td><td>-0.1919537</td></tr>\n",
       "</tbody>\n",
       "</table>\n"
      ],
      "text/latex": [
       "A data.frame: 3 × 5\n",
       "\\begin{tabular}{r|lllll}\n",
       "  & lon & lat & mask & date & sst\\\\\n",
       "  & <dbl> & <dbl> & <dbl> & <chr> & <dbl>\\\\\n",
       "\\hline\n",
       "\t1 & 124 & -29 & 1 & V1 & -0.3628883\\\\\n",
       "\t2 & 126 & -29 & 1 & V1 & -0.2846108\\\\\n",
       "\t3 & 128 & -29 & 1 & V1 & -0.1919537\\\\\n",
       "\\end{tabular}\n"
      ],
      "text/markdown": [
       "\n",
       "A data.frame: 3 × 5\n",
       "\n",
       "| <!--/--> | lon &lt;dbl&gt; | lat &lt;dbl&gt; | mask &lt;dbl&gt; | date &lt;chr&gt; | sst &lt;dbl&gt; |\n",
       "|---|---|---|---|---|---|\n",
       "| 1 | 124 | -29 | 1 | V1 | -0.3628883 |\n",
       "| 2 | 126 | -29 | 1 | V1 | -0.2846108 |\n",
       "| 3 | 128 | -29 | 1 | V1 | -0.1919537 |\n",
       "\n"
      ],
      "text/plain": [
       "  lon lat mask date sst       \n",
       "1 124 -29 1    V1   -0.3628883\n",
       "2 126 -29 1    V1   -0.2846108\n",
       "3 128 -29 1    V1   -0.1919537"
      ]
     },
     "metadata": {},
     "output_type": "display_data"
    }
   ],
   "source": [
    "SST_df <- gather(SSTdata, date, sst, -lon, -lat, -mask)\n",
    "SST_df %>% head(3)"
   ]
  },
  {
   "cell_type": "code",
   "execution_count": 8,
   "metadata": {
    "vscode": {
     "languageId": "r"
    }
   },
   "outputs": [
    {
     "name": "stderr",
     "output_type": "stream",
     "text": [
      "\u001b[1m\u001b[22mJoining with `by = join_by(date)`\n"
     ]
    }
   ],
   "source": [
    "date_grid <- expand.grid(Month = c(\"Jan\", \"Feb\", \"Mar\", \"Apr\",\n",
    "\"May\", \"Jun\", \"Jul\", \"Aug\",\n",
    "\"Sep\", \"Oct\", \"Nov\", \"Dec\"),\n",
    "Year = 1970:2002,\n",
    "stringsAsFactors =\n",
    "FALSE)\n",
    "date_grid$date <- paste0(\"V\", 1:396)\n",
    "SST_df <- left_join(SST_df, date_grid) %>%\n",
    "select(-date)"
   ]
  },
  {
   "cell_type": "code",
   "execution_count": 9,
   "metadata": {
    "vscode": {
     "languageId": "r"
    }
   },
   "outputs": [
    {
     "data": {
      "text/html": [
       "<table class=\"dataframe\">\n",
       "<caption>A data.frame: 3 × 7</caption>\n",
       "<thead>\n",
       "\t<tr><th></th><th scope=col>lon</th><th scope=col>lat</th><th scope=col>mask</th><th scope=col>sst</th><th scope=col>Month</th><th scope=col>Year</th><th scope=col>date</th></tr>\n",
       "\t<tr><th></th><th scope=col>&lt;dbl&gt;</th><th scope=col>&lt;dbl&gt;</th><th scope=col>&lt;dbl&gt;</th><th scope=col>&lt;dbl&gt;</th><th scope=col>&lt;chr&gt;</th><th scope=col>&lt;int&gt;</th><th scope=col>&lt;chr&gt;</th></tr>\n",
       "</thead>\n",
       "<tbody>\n",
       "\t<tr><th scope=row>1</th><td>124</td><td>-29</td><td>1</td><td>-0.3628883</td><td>Jan</td><td>1970</td><td>Jan 1970</td></tr>\n",
       "\t<tr><th scope=row>2</th><td>126</td><td>-29</td><td>1</td><td>-0.2846108</td><td>Jan</td><td>1970</td><td>Jan 1970</td></tr>\n",
       "\t<tr><th scope=row>3</th><td>128</td><td>-29</td><td>1</td><td>-0.1919537</td><td>Jan</td><td>1970</td><td>Jan 1970</td></tr>\n",
       "</tbody>\n",
       "</table>\n"
      ],
      "text/latex": [
       "A data.frame: 3 × 7\n",
       "\\begin{tabular}{r|lllllll}\n",
       "  & lon & lat & mask & sst & Month & Year & date\\\\\n",
       "  & <dbl> & <dbl> & <dbl> & <dbl> & <chr> & <int> & <chr>\\\\\n",
       "\\hline\n",
       "\t1 & 124 & -29 & 1 & -0.3628883 & Jan & 1970 & Jan 1970\\\\\n",
       "\t2 & 126 & -29 & 1 & -0.2846108 & Jan & 1970 & Jan 1970\\\\\n",
       "\t3 & 128 & -29 & 1 & -0.1919537 & Jan & 1970 & Jan 1970\\\\\n",
       "\\end{tabular}\n"
      ],
      "text/markdown": [
       "\n",
       "A data.frame: 3 × 7\n",
       "\n",
       "| <!--/--> | lon &lt;dbl&gt; | lat &lt;dbl&gt; | mask &lt;dbl&gt; | sst &lt;dbl&gt; | Month &lt;chr&gt; | Year &lt;int&gt; | date &lt;chr&gt; |\n",
       "|---|---|---|---|---|---|---|---|\n",
       "| 1 | 124 | -29 | 1 | -0.3628883 | Jan | 1970 | Jan 1970 |\n",
       "| 2 | 126 | -29 | 1 | -0.2846108 | Jan | 1970 | Jan 1970 |\n",
       "| 3 | 128 | -29 | 1 | -0.1919537 | Jan | 1970 | Jan 1970 |\n",
       "\n"
      ],
      "text/plain": [
       "  lon lat mask sst        Month Year date    \n",
       "1 124 -29 1    -0.3628883 Jan   1970 Jan 1970\n",
       "2 126 -29 1    -0.2846108 Jan   1970 Jan 1970\n",
       "3 128 -29 1    -0.1919537 Jan   1970 Jan 1970"
      ]
     },
     "metadata": {},
     "output_type": "display_data"
    }
   ],
   "source": [
    "SST_df$date <- paste(SST_df$Month, SST_df$Year)\n",
    "SST_df %>% head(3)"
   ]
  },
  {
   "cell_type": "code",
   "execution_count": 10,
   "metadata": {
    "vscode": {
     "languageId": "r"
    }
   },
   "outputs": [],
   "source": [
    "SST_df$sst<- ifelse(SST_df$mask == 0, SST_df$sst, NA)"
   ]
  },
  {
   "cell_type": "code",
   "execution_count": 12,
   "metadata": {
    "vscode": {
     "languageId": "r"
    }
   },
   "outputs": [
    {
     "data": {
      "image/png": "[encoded data removed]",
      "text/plain": [
       "plot without title"
      ]
     },
     "metadata": {
      "image/png": {
       "height": 420,
       "width": 420
      }
     },
     "output_type": "display_data"
    }
   ],
   "source": [
    "g <- ggplot(filter(SST_df, Year == 1997 &\n",
    "# subset by month/year\n",
    "Month %in% c(\"Apr\",\"Aug\",\"Jun\",\"Oct\"))) +\n",
    "geom_tile(aes(lon, lat,\n",
    "fill = pmin(sst, 4))) +\n",
    "# clamp SST at 4deg\n",
    "facet_wrap(~date, dir = \"v\") +\n",
    "# facet by date\n",
    "fill_scale(limits = c(-4, 4),\n",
    "# color limits\n",
    "name = \"degC\") +\n",
    "# legend title\n",
    "theme_bw() + coord_fixed()\n",
    "\n",
    "g"
   ]
  },
  {
   "cell_type": "code",
   "execution_count": 13,
   "metadata": {
    "vscode": {
     "languageId": "r"
    }
   },
   "outputs": [],
   "source": [
    "data(\"SOI\", package = \"STRbook\")\n",
    "SOI_df <- select(SOI, -Ann) %>%\n",
    "gather(Month, soi, -Year)"
   ]
  },
  {
   "cell_type": "code",
   "execution_count": 14,
   "metadata": {
    "vscode": {
     "languageId": "r"
    }
   },
   "outputs": [],
   "source": [
    "SST_df <- left_join(SST_df, SOI_df,\n",
    "by = c(\"Month\", \"Year\"))"
   ]
  },
  {
   "cell_type": "code",
   "execution_count": 15,
   "metadata": {
    "vscode": {
     "languageId": "r"
    }
   },
   "outputs": [],
   "source": [
    "SST_pre_May <- filter(SST_df, Year <= 1997) %>%\n",
    "filter(!(Year == 1997 &\n",
    "Month %in% c(\"May\", \"Jun\", \"Jul\",\n",
    "\"Aug\", \"Sep\", \"Oct\",\n",
    "\"Nov\", \"Dec\")))"
   ]
  },
  {
   "cell_type": "code",
   "execution_count": 18,
   "metadata": {
    "vscode": {
     "languageId": "r"
    }
   },
   "outputs": [],
   "source": [
    "fit_one_pixel <- function(data)\n",
    "mod <- lm(sst ~ 1 + soi, data = data)\n",
    "pixel_lms <- SST_pre_May %>%\n",
    "filter(!is.na(sst)) %>%\n",
    "group_by(lon, lat) %>%\n",
    "nest() %>%\n",
    "mutate(model = map(data, fit_one_pixel)) %>%\n",
    "mutate(model_df = map(model, tidy))\n",
    "\n"
   ]
  },
  {
   "cell_type": "code",
   "execution_count": 22,
   "metadata": {
    "vscode": {
     "languageId": "r"
    }
   },
   "outputs": [],
   "source": [
    "# pixel_lms\n",
    "lm_pars <- pixel_lms %>%\n",
    "unnest(model_df)"
   ]
  },
  {
   "cell_type": "code",
   "execution_count": 25,
   "metadata": {
    "vscode": {
     "languageId": "r"
    }
   },
   "outputs": [
    {
     "name": "stderr",
     "output_type": "stream",
     "text": [
      "\u001b[1m\u001b[22mJoining with `by = join_by(lon, lat)`\n"
     ]
    }
   ],
   "source": [
    "# head(lm_pars, 3)\n",
    "lm_pars <- left_join(lonlatmask_df, lm_pars)"
   ]
  },
  {
   "cell_type": "code",
   "execution_count": 26,
   "metadata": {
    "vscode": {
     "languageId": "r"
    }
   },
   "outputs": [
    {
     "data": {
      "image/png": "[encoded data removed]",
      "text/plain": [
       "plot without title"
      ]
     },
     "metadata": {
      "image/png": {
       "height": 420,
       "width": 420
      }
     },
     "output_type": "display_data"
    },
    {
     "data": {
      "image/png": "[encoded data removed]",
      "text/plain": [
       "plot without title"
      ]
     },
     "metadata": {
      "image/png": {
       "height": 420,
       "width": 420
      }
     },
     "output_type": "display_data"
    }
   ],
   "source": [
    "g2 <- ggplot(filter(lm_pars, term == \"(Intercept)\" | mask == 1)) +\n",
    "geom_tile(aes(lon, lat, fill = estimate)) +\n",
    "fill_scale() +\n",
    "theme_bw() + coord_fixed()\n",
    "g3 <- ggplot(filter(lm_pars, term == \"soi\" | mask == 1)) +\n",
    "geom_tile(aes(lon, lat, fill = estimate)) +\n",
    "fill_scale() +\n",
    "theme_bw() + coord_fixed()\n",
    "\n",
    "g2\n",
    "\n",
    "g3"
   ]
  },
  {
   "cell_type": "code",
   "execution_count": 28,
   "metadata": {
    "vscode": {
     "languageId": "r"
    }
   },
   "outputs": [],
   "source": [
    "soi_pred <- filter(SOI_df, Month == \"Oct\" & Year == \"1997\") %>%\n",
    "select(soi)"
   ]
  },
  {
   "cell_type": "code",
   "execution_count": 29,
   "metadata": {
    "vscode": {
     "languageId": "r"
    }
   },
   "outputs": [],
   "source": [
    "predict_one_pixel <- function(lm, soi_pred) {\n",
    "predict(lm,\n",
    "# linear model\n",
    "newdata = soi_pred,\n",
    "# pred. covariates\n",
    "interval = \"prediction\") %>%\n",
    "# output intervals\n",
    "data.frame() %>%\n",
    "# convert to df\n",
    "mutate(se = (upr-lwr)/(2 * 1.96)) %>% # comp pred. se\n",
    "select(fit, se)\n",
    "# return fit & se\n",
    "}"
   ]
  },
  {
   "cell_type": "code",
   "execution_count": 30,
   "metadata": {
    "vscode": {
     "languageId": "r"
    }
   },
   "outputs": [],
   "source": [
    "SST_Oct_1997 <- pixel_lms %>%\n",
    "mutate(preds = map(model,\n",
    "predict_one_pixel,\n",
    "soi_pred = soi_pred)) %>%\n",
    "unnest(preds)"
   ]
  },
  {
   "cell_type": "code",
   "execution_count": null,
   "metadata": {
    "vscode": {
     "languageId": "r"
    }
   },
   "outputs": [],
   "source": []
  }
 ],
 "metadata": {
  "kernelspec": {
   "display_name": "R",
   "language": "R",
   "name": "ir"
  },
  "language_info": {
   "codemirror_mode": "r",
   "file_extension": ".r",
   "mimetype": "text/x-r-source",
   "name": "R",
   "pygments_lexer": "r",
   "version": "4.4.1"
  }
 },
 "nbformat": 4,
 "nbformat_minor": 2
}
