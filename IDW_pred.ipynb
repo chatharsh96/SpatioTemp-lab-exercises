{
 "cells": [
  {
   "cell_type": "code",
   "execution_count": 1,
   "metadata": {
    "vscode": {
     "languageId": "r"
    }
   },
   "outputs": [
    {
     "name": "stderr",
     "output_type": "stream",
     "text": [
      "\n",
      "Attaching package: 'dplyr'\n",
      "\n",
      "\n",
      "The following objects are masked from 'package:stats':\n",
      "\n",
      "    filter, lag\n",
      "\n",
      "\n",
      "The following objects are masked from 'package:base':\n",
      "\n",
      "    intersect, setdiff, setequal, union\n",
      "\n",
      "\n",
      "Loading required package: spam\n",
      "\n",
      "Spam version 2.11-0 (2024-10-03) is loaded.\n",
      "Type 'help( Spam)' or 'demo( spam)' for a short introduction \n",
      "and overview of this package.\n",
      "Help for individual functions is also obtained by adding the\n",
      "suffix '.spam' to the function name, e.g. 'help( chol.spam)'.\n",
      "\n",
      "\n",
      "Attaching package: 'spam'\n",
      "\n",
      "\n",
      "The following objects are masked from 'package:base':\n",
      "\n",
      "    backsolve, forwardsolve\n",
      "\n",
      "\n",
      "Loading required package: viridisLite\n",
      "\n",
      "\n",
      "Try help(fields) to get started.\n",
      "\n"
     ]
    }
   ],
   "source": [
    "library(\"dplyr\")\n",
    "library(\"fields\")\n",
    "library(\"ggplot2\")\n",
    "library(\"gstat\")\n",
    "library(\"RColorBrewer\")\n",
    "library(\"sp\")\n",
    "library(\"spacetime\")\n",
    "library(\"STRbook\")"
   ]
  },
  {
   "cell_type": "code",
   "execution_count": 3,
   "metadata": {
    "vscode": {
     "languageId": "r"
    }
   },
   "outputs": [],
   "source": [
    "data(\"NOAA_df_1990\", package = \"STRbook\")\n",
    "Tmax <- filter(NOAA_df_1990,proc == \"Tmax\" & month == 7 & year == 1993)\n",
    "# year of 1993"
   ]
  },
  {
   "cell_type": "code",
   "execution_count": 4,
   "metadata": {
    "vscode": {
     "languageId": "r"
    }
   },
   "outputs": [],
   "source": [
    "pred_grid <- expand.grid(lon = seq(-100, -80, length = 20),\n",
    "lat = seq(32, 46, length = 20),\n",
    "day = seq(4, 29, length = 6))"
   ]
  },
  {
   "cell_type": "code",
   "execution_count": 5,
   "metadata": {
    "vscode": {
     "languageId": "r"
    }
   },
   "outputs": [
    {
     "name": "stdout",
     "output_type": "stream",
     "text": [
      "[inverse distance weighted interpolation]\n"
     ]
    }
   ],
   "source": [
    "Tmax_no_14 <- filter(Tmax, !(day == 14))\n",
    "# remove day 14\n",
    "Tmax_July_idw <- idw(formula = z ~ 1,\n",
    "# dep. variable\n",
    "locations = ~ lon + lat + day, # inputs\n",
    "data = Tmax_no_14,\n",
    "# data set\n",
    "newdata = pred_grid,\n",
    "# prediction grid\n",
    "idp = 5)"
   ]
  },
  {
   "cell_type": "code",
   "execution_count": 6,
   "metadata": {
    "vscode": {
     "languageId": "r"
    }
   },
   "outputs": [
    {
     "ename": "ERROR",
     "evalue": "\u001b[1m\u001b[33mError\u001b[39m:\u001b[22m\n\u001b[1m\u001b[22m\u001b[33m!\u001b[39m Cannot use `+` with a single argument.\n\u001b[36mi\u001b[39m Did you accidentally put `+` on a new line?\n",
     "output_type": "error",
     "traceback": [
      "\u001b[1m\u001b[33mError\u001b[39m:\u001b[22m\n\u001b[1m\u001b[22m\u001b[33m!\u001b[39m Cannot use `+` with a single argument.\n\u001b[36mi\u001b[39m Did you accidentally put `+` on a new line?\nTraceback:\n",
      "1. `+.gg`(theme_bw())",
      "2. cli::cli_abort(c(\"Cannot use {.code +} with a single argument.\", \n .     i = \"Did you accidentally put {.code +} on a new line?\"))",
      "3. rlang::abort(message, ..., call = call, use_cli_format = TRUE, \n .     .frame = .frame)",
      "4. signal_abort(cnd, .file)"
     ]
    },
    {
     "data": {
      "image/png": "[encoded data removed]",
      "text/plain": [
       "plot without title"
      ]
     },
     "metadata": {
      "image/png": {
       "height": 420,
       "width": 420
      }
     },
     "output_type": "display_data"
    }
   ],
   "source": [
    "ggplot(Tmax_July_idw) +\n",
    "geom_tile(aes(x = lon, y = lat,\n",
    "fill = var1.pred)) +\n",
    "fill_scale(name = \"degF\") +\n",
    "# attach color scale\n",
    "xlab(\"Longitude (deg)\") +\n",
    "# x-axis label\n",
    "ylab(\"Latitude (deg)\") +\n",
    "# y-axis label\n",
    "facet_wrap(~ day, ncol = 3) +\n",
    "# facet by day\n",
    "coord_fixed(xlim = c(-100, -80),\n",
    "ylim = c(32, 46))\n",
    "+\n",
    "# zoom in\n",
    "theme_bw()"
   ]
  },
  {
   "cell_type": "code",
   "execution_count": 7,
   "metadata": {
    "vscode": {
     "languageId": "r"
    }
   },
   "outputs": [],
   "source": [
    "pred_obs_dist_mat <- rdist(select(pred_grid, lon, lat, day),\n",
    "select(Tmax_no_14, lon, lat, day))\n",
    "Wt_IDW <- function(theta, dist_mat) 1/dist_mat^theta\n",
    "Wtilde <- Wt_IDW(theta = 5, dist_mat = pred_obs_dist_mat)"
   ]
  },
  {
   "cell_type": "code",
   "execution_count": 8,
   "metadata": {
    "vscode": {
     "languageId": "r"
    }
   },
   "outputs": [],
   "source": [
    "Wtilde_rsums <- rowSums(Wtilde)\n",
    "W <- Wtilde/Wtilde_rsums"
   ]
  },
  {
   "cell_type": "code",
   "execution_count": 9,
   "metadata": {
    "vscode": {
     "languageId": "r"
    }
   },
   "outputs": [],
   "source": [
    "z_pred_IDW <- as.numeric(W %*% Tmax_no_14$z)"
   ]
  },
  {
   "cell_type": "code",
   "execution_count": 10,
   "metadata": {
    "vscode": {
     "languageId": "r"
    }
   },
   "outputs": [
    {
     "data": {
      "text/plain": [
       "      Min.    1st Qu.     Median       Mean    3rd Qu.       Max. \n",
       "-1.620e-12 -1.847e-13  0.000e+00 -4.915e-16  1.990e-13  1.165e-12 "
      ]
     },
     "metadata": {},
     "output_type": "display_data"
    }
   ],
   "source": [
    "summary(Tmax_July_idw$var1.pred - z_pred_IDW)"
   ]
  },
  {
   "cell_type": "code",
   "execution_count": 11,
   "metadata": {
    "vscode": {
     "languageId": "r"
    }
   },
   "outputs": [],
   "source": [
    "theta <- 0.5\n",
    "# set bandwidth\n",
    "Wt_Gauss <- function(theta, dist_mat) exp(-dist_mat^2/theta)\n",
    "Wtilde <- Wt_Gauss(theta = 0.5, dist_mat = pred_obs_dist_mat)\n",
    "Wtilde_rsums <- rowSums(Wtilde)\n",
    "# normalizing factors\n",
    "W <- Wtilde/Wtilde_rsums\n",
    "# normalized kernel weights\n",
    "z_pred2 <- W %*% Tmax_no_14$z\n",
    "# predictions"
   ]
  },
  {
   "cell_type": "code",
   "execution_count": 12,
   "metadata": {
    "vscode": {
     "languageId": "r"
    }
   },
   "outputs": [],
   "source": [
    "obs_obs_dist_mat <- rdist(select(Tmax, lon, lat, day),\n",
    "select(Tmax, lon, lat, day))"
   ]
  },
  {
   "cell_type": "code",
   "execution_count": 13,
   "metadata": {
    "vscode": {
     "languageId": "r"
    }
   },
   "outputs": [],
   "source": [
    "LOOCV_score <- function(Wt_fun, theta, dist_mat, Z) {\n",
    "Wtilde <- Wt_fun(theta, dist_mat)\n",
    "CV <- 0\n",
    "for(i in 1:length(Z)) {\n",
    "Wtilde2 <- Wtilde[i,-i]\n",
    "W2 <- Wtilde2 / sum(Wtilde2)\n",
    "z_pred <- W2 %*% Z[-i]\n",
    "CV[i] <- (z_pred - Z[i])^2\n",
    "}\n",
    "mean(CV)\n",
    "}"
   ]
  },
  {
   "cell_type": "code",
   "execution_count": 14,
   "metadata": {
    "vscode": {
     "languageId": "r"
    }
   },
   "outputs": [
    {
     "data": {
      "text/html": [
       "7.77533318846671"
      ],
      "text/latex": [
       "7.77533318846671"
      ],
      "text/markdown": [
       "7.77533318846671"
      ],
      "text/plain": [
       "[1] 7.775333"
      ]
     },
     "metadata": {},
     "output_type": "display_data"
    },
    {
     "data": {
      "text/html": [
       "7.52605615320866"
      ],
      "text/latex": [
       "7.52605615320866"
      ],
      "text/markdown": [
       "7.52605615320866"
      ],
      "text/plain": [
       "[1] 7.526056"
      ]
     },
     "metadata": {},
     "output_type": "display_data"
    }
   ],
   "source": [
    "LOOCV_score(Wt_fun = Wt_IDW,\n",
    "theta = 5,\n",
    "dist_mat = obs_obs_dist_mat,\n",
    "Z = Tmax$z)\n",
    "## [1] 7.78\n",
    "LOOCV_score(Wt_fun = Wt_Gauss,\n",
    "theta = 0.5,\n",
    "dist_mat = obs_obs_dist_mat,\n",
    "Z = Tmax$z)"
   ]
  },
  {
   "cell_type": "code",
   "execution_count": 15,
   "metadata": {
    "vscode": {
     "languageId": "r"
    }
   },
   "outputs": [],
   "source": [
    "theta_IDW <- seq(4, 6, length = 21)\n",
    "theta_Gauss <- seq(0.1, 2.1, length = 21)\n",
    "CV_IDW <- CV_Gauss <- 0\n",
    "for(i in seq_along(theta_IDW)) {\n",
    "CV_IDW[i] <- LOOCV_score(Wt_fun = Wt_IDW,\n",
    "theta = theta_IDW[i],\n",
    "dist_mat = obs_obs_dist_mat,\n",
    "Z = Tmax$z)\n",
    "CV_Gauss[i] <- LOOCV_score(Wt_fun = Wt_Gauss,\n",
    "theta = theta_Gauss[i],\n",
    "dist_mat = obs_obs_dist_mat,\n",
    "Z = Tmax$z)\n",
    "}"
   ]
  },
  {
   "cell_type": "code",
   "execution_count": 16,
   "metadata": {
    "vscode": {
     "languageId": "r"
    }
   },
   "outputs": [
    {
     "data": {
      "image/png": "[encoded data removed]",
      "text/plain": [
       "plot without title"
      ]
     },
     "metadata": {
      "image/png": {
       "height": 420,
       "width": 420
      }
     },
     "output_type": "display_data"
    }
   ],
   "source": [
    "par(mfrow = c(1,2))\n",
    "plot(theta_IDW, CV_IDW,\n",
    "xlab = expression(alpha),\n",
    "ylab = expression(CV[(m)](alpha)),\n",
    "ylim = c(7.4, 8.5), type = 'o')\n",
    "plot(theta_Gauss, CV_Gauss,\n",
    "xlab = expression(theta),\n",
    "ylab = expression(CV[(m)](theta)),\n",
    "ylim = c(7.4, 8.5), type = 'o')"
   ]
  },
  {
   "cell_type": "code",
   "execution_count": 19,
   "metadata": {
    "vscode": {
     "languageId": "r"
    }
   },
   "outputs": [
    {
     "data": {
      "text/html": [
       "5"
      ],
      "text/latex": [
       "5"
      ],
      "text/markdown": [
       "5"
      ],
      "text/plain": [
       "[1] 5"
      ]
     },
     "metadata": {},
     "output_type": "display_data"
    },
    {
     "data": {
      "text/html": [
       "0.6"
      ],
      "text/latex": [
       "0.6"
      ],
      "text/markdown": [
       "0.6"
      ],
      "text/plain": [
       "[1] 0.6"
      ]
     },
     "metadata": {},
     "output_type": "display_data"
    },
    {
     "data": {
      "text/html": [
       "7.77533318846671"
      ],
      "text/latex": [
       "7.77533318846671"
      ],
      "text/markdown": [
       "7.77533318846671"
      ],
      "text/plain": [
       "[1] 7.775333"
      ]
     },
     "metadata": {},
     "output_type": "display_data"
    },
    {
     "data": {
      "text/html": [
       "7.46862395933851"
      ],
      "text/latex": [
       "7.46862395933851"
      ],
      "text/markdown": [
       "7.46862395933851"
      ],
      "text/plain": [
       "[1] 7.468624"
      ]
     },
     "metadata": {},
     "output_type": "display_data"
    }
   ],
   "source": [
    "theta_IDW[which.min(CV_IDW)]\n",
    "theta_Gauss[which.min(CV_Gauss)]\n",
    "min(CV_IDW)\n",
    "min(CV_Gauss)"
   ]
  },
  {
   "cell_type": "code",
   "execution_count": 18,
   "metadata": {
    "vscode": {
     "languageId": "r"
    }
   },
   "outputs": [
    {
     "data": {
      "text/html": [
       "0.6"
      ],
      "text/latex": [
       "0.6"
      ],
      "text/markdown": [
       "0.6"
      ],
      "text/plain": [
       "[1] 0.6"
      ]
     },
     "metadata": {},
     "output_type": "display_data"
    },
    {
     "data": {
      "text/html": [
       "7.46862395933851"
      ],
      "text/latex": [
       "7.46862395933851"
      ],
      "text/markdown": [
       "7.46862395933851"
      ],
      "text/plain": [
       "[1] 7.468624"
      ]
     },
     "metadata": {},
     "output_type": "display_data"
    }
   ],
   "source": [
    "\n",
    "\n"
   ]
  },
  {
   "cell_type": "code",
   "execution_count": null,
   "metadata": {
    "vscode": {
     "languageId": "r"
    }
   },
   "outputs": [],
   "source": []
  }
 ],
 "metadata": {
  "kernelspec": {
   "display_name": "R",
   "language": "R",
   "name": "ir"
  },
  "language_info": {
   "codemirror_mode": "r",
   "file_extension": ".r",
   "mimetype": "text/x-r-source",
   "name": "R",
   "pygments_lexer": "r",
   "version": "4.1.3"
  }
 },
 "nbformat": 4,
 "nbformat_minor": 2
}
