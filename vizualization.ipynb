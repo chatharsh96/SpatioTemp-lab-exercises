{
 "cells": [
  {
   "cell_type": "code",
   "execution_count": 2,
   "metadata": {
    "vscode": {
     "languageId": "r"
    }
   },
   "outputs": [
    {
     "name": "stderr",
     "output_type": "stream",
     "text": [
      "\n",
      "Attaching package: 'dplyr'\n",
      "\n",
      "\n",
      "The following objects are masked from 'package:stats':\n",
      "\n",
      "    filter, lag\n",
      "\n",
      "\n",
      "The following objects are masked from 'package:base':\n",
      "\n",
      "    intersect, setdiff, setequal, union\n",
      "\n",
      "\n"
     ]
    }
   ],
   "source": [
    "library(\"animation\")\n",
    "library(\"dplyr\")\n",
    "library(\"ggplot2\")\n",
    "library(\"gstat\")\n",
    "library(\"maps\")\n",
    "library(\"STRbook\")"
   ]
  },
  {
   "cell_type": "code",
   "execution_count": 3,
   "metadata": {
    "vscode": {
     "languageId": "r"
    }
   },
   "outputs": [],
   "source": [
    "set.seed(1)"
   ]
  },
  {
   "cell_type": "code",
   "execution_count": 4,
   "metadata": {
    "vscode": {
     "languageId": "r"
    }
   },
   "outputs": [],
   "source": [
    "data(\"NOAA_df_1990\", package = \"STRbook\")\n",
    "Tmax <- filter(\n",
    "    NOAA_df_1990,\n",
    "    # subset the data\n",
    "    proc == \"Tmax\" &\n",
    "        # only max temperature\n",
    "        month %in% 5:9 &\n",
    "        # May to September\n",
    "        year == 1993\n",
    ")\n",
    "# year of 1993"
   ]
  },
  {
   "cell_type": "code",
   "execution_count": 5,
   "metadata": {
    "vscode": {
     "languageId": "r"
    }
   },
   "outputs": [
    {
     "data": {
      "text/html": [
       "<table class=\"dataframe\">\n",
       "<caption>A data.frame: 6 × 5</caption>\n",
       "<thead>\n",
       "\t<tr><th></th><th scope=col>lon</th><th scope=col>lat</th><th scope=col>date</th><th scope=col>julian</th><th scope=col>z</th></tr>\n",
       "\t<tr><th></th><th scope=col>&lt;dbl&gt;</th><th scope=col>&lt;dbl&gt;</th><th scope=col>&lt;date&gt;</th><th scope=col>&lt;int&gt;</th><th scope=col>&lt;dbl&gt;</th></tr>\n",
       "</thead>\n",
       "<tbody>\n",
       "\t<tr><th scope=row>1</th><td>-81.43333</td><td>39.35</td><td>1993-05-01</td><td>728050</td><td>82</td></tr>\n",
       "\t<tr><th scope=row>2</th><td>-81.43333</td><td>39.35</td><td>1993-05-02</td><td>728051</td><td>84</td></tr>\n",
       "\t<tr><th scope=row>3</th><td>-81.43333</td><td>39.35</td><td>1993-05-03</td><td>728052</td><td>79</td></tr>\n",
       "\t<tr><th scope=row>4</th><td>-81.43333</td><td>39.35</td><td>1993-05-04</td><td>728053</td><td>72</td></tr>\n",
       "\t<tr><th scope=row>5</th><td>-81.43333</td><td>39.35</td><td>1993-05-05</td><td>728054</td><td>73</td></tr>\n",
       "\t<tr><th scope=row>6</th><td>-81.43333</td><td>39.35</td><td>1993-05-06</td><td>728055</td><td>78</td></tr>\n",
       "</tbody>\n",
       "</table>\n"
      ],
      "text/latex": [
       "A data.frame: 6 × 5\n",
       "\\begin{tabular}{r|lllll}\n",
       "  & lon & lat & date & julian & z\\\\\n",
       "  & <dbl> & <dbl> & <date> & <int> & <dbl>\\\\\n",
       "\\hline\n",
       "\t1 & -81.43333 & 39.35 & 1993-05-01 & 728050 & 82\\\\\n",
       "\t2 & -81.43333 & 39.35 & 1993-05-02 & 728051 & 84\\\\\n",
       "\t3 & -81.43333 & 39.35 & 1993-05-03 & 728052 & 79\\\\\n",
       "\t4 & -81.43333 & 39.35 & 1993-05-04 & 728053 & 72\\\\\n",
       "\t5 & -81.43333 & 39.35 & 1993-05-05 & 728054 & 73\\\\\n",
       "\t6 & -81.43333 & 39.35 & 1993-05-06 & 728055 & 78\\\\\n",
       "\\end{tabular}\n"
      ],
      "text/markdown": [
       "\n",
       "A data.frame: 6 × 5\n",
       "\n",
       "| <!--/--> | lon &lt;dbl&gt; | lat &lt;dbl&gt; | date &lt;date&gt; | julian &lt;int&gt; | z &lt;dbl&gt; |\n",
       "|---|---|---|---|---|---|\n",
       "| 1 | -81.43333 | 39.35 | 1993-05-01 | 728050 | 82 |\n",
       "| 2 | -81.43333 | 39.35 | 1993-05-02 | 728051 | 84 |\n",
       "| 3 | -81.43333 | 39.35 | 1993-05-03 | 728052 | 79 |\n",
       "| 4 | -81.43333 | 39.35 | 1993-05-04 | 728053 | 72 |\n",
       "| 5 | -81.43333 | 39.35 | 1993-05-05 | 728054 | 73 |\n",
       "| 6 | -81.43333 | 39.35 | 1993-05-06 | 728055 | 78 |\n",
       "\n"
      ],
      "text/plain": [
       "  lon       lat   date       julian z \n",
       "1 -81.43333 39.35 1993-05-01 728050 82\n",
       "2 -81.43333 39.35 1993-05-02 728051 84\n",
       "3 -81.43333 39.35 1993-05-03 728052 79\n",
       "4 -81.43333 39.35 1993-05-04 728053 72\n",
       "5 -81.43333 39.35 1993-05-05 728054 73\n",
       "6 -81.43333 39.35 1993-05-06 728055 78"
      ]
     },
     "metadata": {},
     "output_type": "display_data"
    }
   ],
   "source": [
    "Tmax %>% select(lon, lat, date, julian, z) %>% head()"
   ]
  },
  {
   "cell_type": "code",
   "execution_count": 6,
   "metadata": {
    "vscode": {
     "languageId": "r"
    }
   },
   "outputs": [],
   "source": [
    "Tmax$t <- Tmax$julian - 728049"
   ]
  },
  {
   "cell_type": "code",
   "execution_count": 7,
   "metadata": {
    "vscode": {
     "languageId": "r"
    }
   },
   "outputs": [],
   "source": [
    "Tmax_1 <- subset(Tmax, t %in% c(1, 15, 30))"
   ]
  },
  {
   "cell_type": "code",
   "execution_count": 8,
   "metadata": {
    "vscode": {
     "languageId": "r"
    }
   },
   "outputs": [],
   "source": [
    "NOAA_plot <- ggplot(Tmax_1) +\n",
    "    # plot points\n",
    "    geom_point(\n",
    "        aes(\n",
    "            x = lon, y = lat,\n",
    "            # lon and lat\n",
    "            colour = z\n",
    "        ),\n",
    "        # attribute color\n",
    "        size = 2\n",
    "    ) +\n",
    "    # make all points larger\n",
    "    col_scale(name = \"degF\") +\n",
    "    # attach color scale\n",
    "    xlab(\"Longitude (deg)\") +\n",
    "    # x-axis label\n",
    "    ylab(\"Latitude (deg)\") +\n",
    "    # y-axis label\n",
    "    geom_path(\n",
    "        data = map_data(\"state\"),\n",
    "        # add US states map\n",
    "        aes(x = long, y = lat, group = group)\n",
    "    ) +\n",
    "    facet_grid(~date) +\n",
    "    # facet by time\n",
    "    coord_fixed(\n",
    "        xlim = c(-105, -75),\n",
    "        ylim = c(25, 50)\n",
    "    ) +\n",
    "    # zoom in\n",
    "    theme_bw()\n"
   ]
  },
  {
   "cell_type": "code",
   "execution_count": 9,
   "metadata": {
    "vscode": {
     "languageId": "r"
    }
   },
   "outputs": [
    {
     "data": {
      "image/png": "[encoded data removed]",
      "text/plain": [
       "plot without title"
      ]
     },
     "metadata": {
      "image/png": {
       "height": 420,
       "width": 420
      }
     },
     "output_type": "display_data"
    }
   ],
   "source": [
    "NOAA_plot"
   ]
  },
  {
   "cell_type": "code",
   "execution_count": 11,
   "metadata": {
    "vscode": {
     "languageId": "r"
    }
   },
   "outputs": [
    {
     "data": {
      "text/html": [
       "<table class=\"dataframe\">\n",
       "<caption>A data.frame: 3 × 4</caption>\n",
       "<thead>\n",
       "\t<tr><th></th><th scope=col>NAME10</th><th scope=col>X1970</th><th scope=col>X1980</th><th scope=col>X1990</th></tr>\n",
       "\t<tr><th></th><th scope=col>&lt;fct&gt;</th><th scope=col>&lt;int&gt;</th><th scope=col>&lt;int&gt;</th><th scope=col>&lt;int&gt;</th></tr>\n",
       "</thead>\n",
       "<tbody>\n",
       "\t<tr><th scope=row>6</th><td>Adair, MO   </td><td>2723</td><td>7399</td><td>12755</td></tr>\n",
       "\t<tr><th scope=row>9</th><td>Andrew, MO  </td><td>3577</td><td>7937</td><td>15059</td></tr>\n",
       "\t<tr><th scope=row>12</th><td>Atchison, MO</td><td>3770</td><td>5743</td><td>14748</td></tr>\n",
       "</tbody>\n",
       "</table>\n"
      ],
      "text/latex": [
       "A data.frame: 3 × 4\n",
       "\\begin{tabular}{r|llll}\n",
       "  & NAME10 & X1970 & X1980 & X1990\\\\\n",
       "  & <fct> & <int> & <int> & <int>\\\\\n",
       "\\hline\n",
       "\t6 & Adair, MO    & 2723 & 7399 & 12755\\\\\n",
       "\t9 & Andrew, MO   & 3577 & 7937 & 15059\\\\\n",
       "\t12 & Atchison, MO & 3770 & 5743 & 14748\\\\\n",
       "\\end{tabular}\n"
      ],
      "text/markdown": [
       "\n",
       "A data.frame: 3 × 4\n",
       "\n",
       "| <!--/--> | NAME10 &lt;fct&gt; | X1970 &lt;int&gt; | X1980 &lt;int&gt; | X1990 &lt;int&gt; |\n",
       "|---|---|---|---|---|\n",
       "| 6 | Adair, MO    | 2723 | 7399 | 12755 |\n",
       "| 9 | Andrew, MO   | 3577 | 7937 | 15059 |\n",
       "| 12 | Atchison, MO | 3770 | 5743 | 14748 |\n",
       "\n"
      ],
      "text/plain": [
       "   NAME10       X1970 X1980 X1990\n",
       "6  Adair, MO    2723  7399  12755\n",
       "9  Andrew, MO   3577  7937  15059\n",
       "12 Atchison, MO 3770  5743  14748"
      ]
     },
     "metadata": {},
     "output_type": "display_data"
    }
   ],
   "source": [
    "data(\"BEA\", package = \"STRbook\")\n",
    "head(BEA %>% select(-Description), 3)\n"
   ]
  },
  {
   "cell_type": "code",
   "execution_count": 12,
   "metadata": {
    "vscode": {
     "languageId": "r"
    }
   },
   "outputs": [
    {
     "data": {
      "text/html": [
       "<table class=\"dataframe\">\n",
       "<caption>A data.frame: 3 × 3</caption>\n",
       "<thead>\n",
       "\t<tr><th></th><th scope=col>long</th><th scope=col>lat</th><th scope=col>NAME10</th></tr>\n",
       "\t<tr><th></th><th scope=col>&lt;dbl&gt;</th><th scope=col>&lt;dbl&gt;</th><th scope=col>&lt;fct&gt;</th></tr>\n",
       "</thead>\n",
       "<tbody>\n",
       "\t<tr><th scope=row>1</th><td>627911.9</td><td>4473554</td><td>Clark, MO</td></tr>\n",
       "\t<tr><th scope=row>2</th><td>627921.4</td><td>4473559</td><td>Clark, MO</td></tr>\n",
       "\t<tr><th scope=row>3</th><td>627923.0</td><td>4473560</td><td>Clark, MO</td></tr>\n",
       "</tbody>\n",
       "</table>\n"
      ],
      "text/latex": [
       "A data.frame: 3 × 3\n",
       "\\begin{tabular}{r|lll}\n",
       "  & long & lat & NAME10\\\\\n",
       "  & <dbl> & <dbl> & <fct>\\\\\n",
       "\\hline\n",
       "\t1 & 627911.9 & 4473554 & Clark, MO\\\\\n",
       "\t2 & 627921.4 & 4473559 & Clark, MO\\\\\n",
       "\t3 & 627923.0 & 4473560 & Clark, MO\\\\\n",
       "\\end{tabular}\n"
      ],
      "text/markdown": [
       "\n",
       "A data.frame: 3 × 3\n",
       "\n",
       "| <!--/--> | long &lt;dbl&gt; | lat &lt;dbl&gt; | NAME10 &lt;fct&gt; |\n",
       "|---|---|---|---|\n",
       "| 1 | 627911.9 | 4473554 | Clark, MO |\n",
       "| 2 | 627921.4 | 4473559 | Clark, MO |\n",
       "| 3 | 627923.0 | 4473560 | Clark, MO |\n",
       "\n"
      ],
      "text/plain": [
       "  long     lat     NAME10   \n",
       "1 627911.9 4473554 Clark, MO\n",
       "2 627921.4 4473559 Clark, MO\n",
       "3 627923.0 4473560 Clark, MO"
      ]
     },
     "metadata": {},
     "output_type": "display_data"
    }
   ],
   "source": [
    "data(\"MOcounties\", package = \"STRbook\")\n",
    "head(MOcounties %>% select(long, lat, NAME10), 3)"
   ]
  },
  {
   "cell_type": "code",
   "execution_count": 13,
   "metadata": {
    "vscode": {
     "languageId": "r"
    }
   },
   "outputs": [
    {
     "data": {
      "image/png": "[encoded data removed]",
      "text/plain": [
       "plot without title"
      ]
     },
     "metadata": {
      "image/png": {
       "height": 420,
       "width": 420
      }
     },
     "output_type": "display_data"
    }
   ],
   "source": [
    "\n",
    "County1 <- filter(MOcounties, NAME10 == \"Clark, MO\")\n",
    "plot(County1$long, County1$lat)"
   ]
  },
  {
   "cell_type": "code",
   "execution_count": 14,
   "metadata": {
    "vscode": {
     "languageId": "r"
    }
   },
   "outputs": [],
   "source": [
    "MOcounties <- left_join(MOcounties, BEA, by = \"NAME10\")"
   ]
  },
  {
   "cell_type": "code",
   "execution_count": 16,
   "metadata": {
    "vscode": {
     "languageId": "r"
    }
   },
   "outputs": [
    {
     "data": {
      "image/png": "[encoded data removed]",
      "text/plain": [
       "plot without title"
      ]
     },
     "metadata": {
      "image/png": {
       "height": 420,
       "width": 420
      }
     },
     "output_type": "display_data"
    }
   ],
   "source": [
    "library(ggplot2)\n",
    "\n",
    "g1 <- ggplot(MOcounties) +\n",
    "  geom_polygon(aes(x = long, y = lat,\n",
    "                   group = NAME10,\n",
    "                   fill = log(X1970))) +  # log of income\n",
    "  geom_path(aes(x = long, y = lat,\n",
    "                 group = NAME10)) +  # county boundary\n",
    "  scale_fill_gradient(limits = c(7.5, 10.2),  # corrected fill scale function\n",
    "                      name = \"log($)\") +\n",
    "  coord_fixed() +\n",
    "  ggtitle(\"1970\") +  # annotations\n",
    "  xlab(\"x (m)\") +\n",
    "  ylab(\"y (m)\") +\n",
    "  theme_bw()\n",
    "\n",
    "print(g1)  # Don't forget to print the plot!\n"
   ]
  },
  {
   "cell_type": "code",
   "execution_count": 17,
   "metadata": {
    "vscode": {
     "languageId": "r"
    }
   },
   "outputs": [],
   "source": [
    "UIDs <- unique(Tmax$id)\n",
    "# extract IDs\n",
    "UIDs_sub <- sample(UIDs, 10)\n",
    "# sample 10 IDs\n",
    "Tmax_sub <- filter(Tmax, id %in% UIDs_sub)"
   ]
  },
  {
   "cell_type": "code",
   "execution_count": 19,
   "metadata": {
    "vscode": {
     "languageId": "r"
    }
   },
   "outputs": [
    {
     "data": {
      "image/png": "[encoded data removed]",
      "text/plain": [
       "plot without title"
      ]
     },
     "metadata": {
      "image/png": {
       "height": 420,
       "width": 420
      }
     },
     "output_type": "display_data"
    }
   ],
   "source": [
    "TmaxTS <- ggplot(Tmax_sub) +\n",
    "geom_line(aes(x = t, y = z)) + # line plot of z against t\n",
    "facet_wrap(~id, ncol = 5) +\n",
    "# facet by station\n",
    "xlab(\"Day number (days)\") +\n",
    "# x label\n",
    "ylab(\"Tmax (degF)\") +\n",
    "# y label\n",
    "theme_bw() +\n",
    "# BW theme\n",
    "theme(panel.spacing = unit(1, \"lines\"))\n",
    "TmaxTS"
   ]
  },
  {
   "cell_type": "code",
   "execution_count": 20,
   "metadata": {
    "vscode": {
     "languageId": "r"
    }
   },
   "outputs": [],
   "source": [
    "lim_lat <- range(Tmax$lat)\n",
    "# latitude range\n",
    "lim_t <- range(Tmax$t)\n",
    "# time range\n",
    "lat_axis <- seq(lim_lat[1],\n",
    "# latitude axis\n",
    "lim_lat[2],\n",
    "length=25)\n",
    "t_axis <- seq(lim_t[1],\n",
    "# time axis\n",
    "lim_t[2],\n",
    "length=100)\n",
    "lat_t_grid <- expand.grid(lat = lat_axis,\n",
    "t = t_axis)"
   ]
  },
  {
   "cell_type": "code",
   "execution_count": 21,
   "metadata": {
    "vscode": {
     "languageId": "r"
    }
   },
   "outputs": [],
   "source": [
    "Tmax_grid <- Tmax\n",
    "dists <- abs(outer(Tmax$lat, lat_axis, \"-\"))\n",
    "Tmax_grid$lat <- lat_axis[apply(dists, 1, which.min)]"
   ]
  },
  {
   "cell_type": "code",
   "execution_count": 23,
   "metadata": {
    "vscode": {
     "languageId": "r"
    }
   },
   "outputs": [
    {
     "name": "stderr",
     "output_type": "stream",
     "text": [
      "\u001b[1m\u001b[22m`summarise()` has grouped output by 'lat'. You can override using the `.groups`\n",
      "argument.\n"
     ]
    },
    {
     "data": {
      "text/html": [
       "<table class=\"dataframe\">\n",
       "<caption>A grouped_df: 3825 × 3</caption>\n",
       "<thead>\n",
       "\t<tr><th scope=col>lat</th><th scope=col>t</th><th scope=col>z</th></tr>\n",
       "\t<tr><th scope=col>&lt;dbl&gt;</th><th scope=col>&lt;dbl&gt;</th><th scope=col>&lt;dbl&gt;</th></tr>\n",
       "</thead>\n",
       "<tbody>\n",
       "\t<tr><td>32.13334</td><td> 1</td><td>77.6</td></tr>\n",
       "\t<tr><td>32.13334</td><td> 2</td><td>73.8</td></tr>\n",
       "\t<tr><td>32.13334</td><td> 3</td><td>78.0</td></tr>\n",
       "\t<tr><td>32.13334</td><td> 4</td><td>81.2</td></tr>\n",
       "\t<tr><td>32.13334</td><td> 5</td><td>83.4</td></tr>\n",
       "\t<tr><td>32.13334</td><td> 6</td><td>87.2</td></tr>\n",
       "\t<tr><td>32.13334</td><td> 7</td><td>88.0</td></tr>\n",
       "\t<tr><td>32.13334</td><td> 8</td><td>85.8</td></tr>\n",
       "\t<tr><td>32.13334</td><td> 9</td><td>84.2</td></tr>\n",
       "\t<tr><td>32.13334</td><td>10</td><td>81.4</td></tr>\n",
       "\t<tr><td>32.13334</td><td>11</td><td>77.4</td></tr>\n",
       "\t<tr><td>32.13334</td><td>12</td><td>79.2</td></tr>\n",
       "\t<tr><td>32.13334</td><td>13</td><td>77.8</td></tr>\n",
       "\t<tr><td>32.13334</td><td>14</td><td>79.6</td></tr>\n",
       "\t<tr><td>32.13334</td><td>15</td><td>85.8</td></tr>\n",
       "\t<tr><td>32.13334</td><td>16</td><td>87.2</td></tr>\n",
       "\t<tr><td>32.13334</td><td>17</td><td>88.8</td></tr>\n",
       "\t<tr><td>32.13334</td><td>18</td><td>85.6</td></tr>\n",
       "\t<tr><td>32.13334</td><td>19</td><td>80.0</td></tr>\n",
       "\t<tr><td>32.13334</td><td>20</td><td>80.0</td></tr>\n",
       "\t<tr><td>32.13334</td><td>21</td><td>76.4</td></tr>\n",
       "\t<tr><td>32.13334</td><td>22</td><td>80.0</td></tr>\n",
       "\t<tr><td>32.13334</td><td>23</td><td>81.6</td></tr>\n",
       "\t<tr><td>32.13334</td><td>24</td><td>82.6</td></tr>\n",
       "\t<tr><td>32.13334</td><td>25</td><td>78.2</td></tr>\n",
       "\t<tr><td>32.13334</td><td>26</td><td>80.2</td></tr>\n",
       "\t<tr><td>32.13334</td><td>27</td><td>85.2</td></tr>\n",
       "\t<tr><td>32.13334</td><td>28</td><td>83.2</td></tr>\n",
       "\t<tr><td>32.13334</td><td>29</td><td>88.6</td></tr>\n",
       "\t<tr><td>32.13334</td><td>30</td><td>89.6</td></tr>\n",
       "\t<tr><td>...</td><td>...</td><td>...</td></tr>\n",
       "\t<tr><td>45.86666</td><td>124</td><td>75.0</td></tr>\n",
       "\t<tr><td>45.86666</td><td>125</td><td>72.0</td></tr>\n",
       "\t<tr><td>45.86666</td><td>126</td><td>71.0</td></tr>\n",
       "\t<tr><td>45.86666</td><td>127</td><td>66.0</td></tr>\n",
       "\t<tr><td>45.86666</td><td>128</td><td>65.0</td></tr>\n",
       "\t<tr><td>45.86666</td><td>129</td><td>67.5</td></tr>\n",
       "\t<tr><td>45.86666</td><td>130</td><td>70.5</td></tr>\n",
       "\t<tr><td>45.86666</td><td>131</td><td>73.5</td></tr>\n",
       "\t<tr><td>45.86666</td><td>132</td><td>67.5</td></tr>\n",
       "\t<tr><td>45.86666</td><td>133</td><td>63.0</td></tr>\n",
       "\t<tr><td>45.86666</td><td>134</td><td>73.5</td></tr>\n",
       "\t<tr><td>45.86666</td><td>135</td><td>81.5</td></tr>\n",
       "\t<tr><td>45.86666</td><td>136</td><td>64.5</td></tr>\n",
       "\t<tr><td>45.86666</td><td>137</td><td>48.5</td></tr>\n",
       "\t<tr><td>45.86666</td><td>138</td><td>55.0</td></tr>\n",
       "\t<tr><td>45.86666</td><td>139</td><td>66.0</td></tr>\n",
       "\t<tr><td>45.86666</td><td>140</td><td>58.0</td></tr>\n",
       "\t<tr><td>45.86666</td><td>141</td><td>65.0</td></tr>\n",
       "\t<tr><td>45.86666</td><td>142</td><td>56.5</td></tr>\n",
       "\t<tr><td>45.86666</td><td>143</td><td>52.0</td></tr>\n",
       "\t<tr><td>45.86666</td><td>144</td><td>55.5</td></tr>\n",
       "\t<tr><td>45.86666</td><td>145</td><td>60.0</td></tr>\n",
       "\t<tr><td>45.86666</td><td>146</td><td>62.0</td></tr>\n",
       "\t<tr><td>45.86666</td><td>147</td><td>66.5</td></tr>\n",
       "\t<tr><td>45.86666</td><td>148</td><td>70.5</td></tr>\n",
       "\t<tr><td>45.86666</td><td>149</td><td>55.0</td></tr>\n",
       "\t<tr><td>45.86666</td><td>150</td><td>58.0</td></tr>\n",
       "\t<tr><td>45.86666</td><td>151</td><td>49.0</td></tr>\n",
       "\t<tr><td>45.86666</td><td>152</td><td>55.0</td></tr>\n",
       "\t<tr><td>45.86666</td><td>153</td><td>68.5</td></tr>\n",
       "</tbody>\n",
       "</table>\n"
      ],
      "text/latex": [
       "A grouped\\_df: 3825 × 3\n",
       "\\begin{tabular}{lll}\n",
       " lat & t & z\\\\\n",
       " <dbl> & <dbl> & <dbl>\\\\\n",
       "\\hline\n",
       "\t 32.13334 &  1 & 77.6\\\\\n",
       "\t 32.13334 &  2 & 73.8\\\\\n",
       "\t 32.13334 &  3 & 78.0\\\\\n",
       "\t 32.13334 &  4 & 81.2\\\\\n",
       "\t 32.13334 &  5 & 83.4\\\\\n",
       "\t 32.13334 &  6 & 87.2\\\\\n",
       "\t 32.13334 &  7 & 88.0\\\\\n",
       "\t 32.13334 &  8 & 85.8\\\\\n",
       "\t 32.13334 &  9 & 84.2\\\\\n",
       "\t 32.13334 & 10 & 81.4\\\\\n",
       "\t 32.13334 & 11 & 77.4\\\\\n",
       "\t 32.13334 & 12 & 79.2\\\\\n",
       "\t 32.13334 & 13 & 77.8\\\\\n",
       "\t 32.13334 & 14 & 79.6\\\\\n",
       "\t 32.13334 & 15 & 85.8\\\\\n",
       "\t 32.13334 & 16 & 87.2\\\\\n",
       "\t 32.13334 & 17 & 88.8\\\\\n",
       "\t 32.13334 & 18 & 85.6\\\\\n",
       "\t 32.13334 & 19 & 80.0\\\\\n",
       "\t 32.13334 & 20 & 80.0\\\\\n",
       "\t 32.13334 & 21 & 76.4\\\\\n",
       "\t 32.13334 & 22 & 80.0\\\\\n",
       "\t 32.13334 & 23 & 81.6\\\\\n",
       "\t 32.13334 & 24 & 82.6\\\\\n",
       "\t 32.13334 & 25 & 78.2\\\\\n",
       "\t 32.13334 & 26 & 80.2\\\\\n",
       "\t 32.13334 & 27 & 85.2\\\\\n",
       "\t 32.13334 & 28 & 83.2\\\\\n",
       "\t 32.13334 & 29 & 88.6\\\\\n",
       "\t 32.13334 & 30 & 89.6\\\\\n",
       "\t ... & ... & ...\\\\\n",
       "\t 45.86666 & 124 & 75.0\\\\\n",
       "\t 45.86666 & 125 & 72.0\\\\\n",
       "\t 45.86666 & 126 & 71.0\\\\\n",
       "\t 45.86666 & 127 & 66.0\\\\\n",
       "\t 45.86666 & 128 & 65.0\\\\\n",
       "\t 45.86666 & 129 & 67.5\\\\\n",
       "\t 45.86666 & 130 & 70.5\\\\\n",
       "\t 45.86666 & 131 & 73.5\\\\\n",
       "\t 45.86666 & 132 & 67.5\\\\\n",
       "\t 45.86666 & 133 & 63.0\\\\\n",
       "\t 45.86666 & 134 & 73.5\\\\\n",
       "\t 45.86666 & 135 & 81.5\\\\\n",
       "\t 45.86666 & 136 & 64.5\\\\\n",
       "\t 45.86666 & 137 & 48.5\\\\\n",
       "\t 45.86666 & 138 & 55.0\\\\\n",
       "\t 45.86666 & 139 & 66.0\\\\\n",
       "\t 45.86666 & 140 & 58.0\\\\\n",
       "\t 45.86666 & 141 & 65.0\\\\\n",
       "\t 45.86666 & 142 & 56.5\\\\\n",
       "\t 45.86666 & 143 & 52.0\\\\\n",
       "\t 45.86666 & 144 & 55.5\\\\\n",
       "\t 45.86666 & 145 & 60.0\\\\\n",
       "\t 45.86666 & 146 & 62.0\\\\\n",
       "\t 45.86666 & 147 & 66.5\\\\\n",
       "\t 45.86666 & 148 & 70.5\\\\\n",
       "\t 45.86666 & 149 & 55.0\\\\\n",
       "\t 45.86666 & 150 & 58.0\\\\\n",
       "\t 45.86666 & 151 & 49.0\\\\\n",
       "\t 45.86666 & 152 & 55.0\\\\\n",
       "\t 45.86666 & 153 & 68.5\\\\\n",
       "\\end{tabular}\n"
      ],
      "text/markdown": [
       "\n",
       "A grouped_df: 3825 × 3\n",
       "\n",
       "| lat &lt;dbl&gt; | t &lt;dbl&gt; | z &lt;dbl&gt; |\n",
       "|---|---|---|\n",
       "| 32.13334 |  1 | 77.6 |\n",
       "| 32.13334 |  2 | 73.8 |\n",
       "| 32.13334 |  3 | 78.0 |\n",
       "| 32.13334 |  4 | 81.2 |\n",
       "| 32.13334 |  5 | 83.4 |\n",
       "| 32.13334 |  6 | 87.2 |\n",
       "| 32.13334 |  7 | 88.0 |\n",
       "| 32.13334 |  8 | 85.8 |\n",
       "| 32.13334 |  9 | 84.2 |\n",
       "| 32.13334 | 10 | 81.4 |\n",
       "| 32.13334 | 11 | 77.4 |\n",
       "| 32.13334 | 12 | 79.2 |\n",
       "| 32.13334 | 13 | 77.8 |\n",
       "| 32.13334 | 14 | 79.6 |\n",
       "| 32.13334 | 15 | 85.8 |\n",
       "| 32.13334 | 16 | 87.2 |\n",
       "| 32.13334 | 17 | 88.8 |\n",
       "| 32.13334 | 18 | 85.6 |\n",
       "| 32.13334 | 19 | 80.0 |\n",
       "| 32.13334 | 20 | 80.0 |\n",
       "| 32.13334 | 21 | 76.4 |\n",
       "| 32.13334 | 22 | 80.0 |\n",
       "| 32.13334 | 23 | 81.6 |\n",
       "| 32.13334 | 24 | 82.6 |\n",
       "| 32.13334 | 25 | 78.2 |\n",
       "| 32.13334 | 26 | 80.2 |\n",
       "| 32.13334 | 27 | 85.2 |\n",
       "| 32.13334 | 28 | 83.2 |\n",
       "| 32.13334 | 29 | 88.6 |\n",
       "| 32.13334 | 30 | 89.6 |\n",
       "| ... | ... | ... |\n",
       "| 45.86666 | 124 | 75.0 |\n",
       "| 45.86666 | 125 | 72.0 |\n",
       "| 45.86666 | 126 | 71.0 |\n",
       "| 45.86666 | 127 | 66.0 |\n",
       "| 45.86666 | 128 | 65.0 |\n",
       "| 45.86666 | 129 | 67.5 |\n",
       "| 45.86666 | 130 | 70.5 |\n",
       "| 45.86666 | 131 | 73.5 |\n",
       "| 45.86666 | 132 | 67.5 |\n",
       "| 45.86666 | 133 | 63.0 |\n",
       "| 45.86666 | 134 | 73.5 |\n",
       "| 45.86666 | 135 | 81.5 |\n",
       "| 45.86666 | 136 | 64.5 |\n",
       "| 45.86666 | 137 | 48.5 |\n",
       "| 45.86666 | 138 | 55.0 |\n",
       "| 45.86666 | 139 | 66.0 |\n",
       "| 45.86666 | 140 | 58.0 |\n",
       "| 45.86666 | 141 | 65.0 |\n",
       "| 45.86666 | 142 | 56.5 |\n",
       "| 45.86666 | 143 | 52.0 |\n",
       "| 45.86666 | 144 | 55.5 |\n",
       "| 45.86666 | 145 | 60.0 |\n",
       "| 45.86666 | 146 | 62.0 |\n",
       "| 45.86666 | 147 | 66.5 |\n",
       "| 45.86666 | 148 | 70.5 |\n",
       "| 45.86666 | 149 | 55.0 |\n",
       "| 45.86666 | 150 | 58.0 |\n",
       "| 45.86666 | 151 | 49.0 |\n",
       "| 45.86666 | 152 | 55.0 |\n",
       "| 45.86666 | 153 | 68.5 |\n",
       "\n"
      ],
      "text/plain": [
       "     lat      t   z   \n",
       "1    32.13334  1  77.6\n",
       "2    32.13334  2  73.8\n",
       "3    32.13334  3  78.0\n",
       "4    32.13334  4  81.2\n",
       "5    32.13334  5  83.4\n",
       "6    32.13334  6  87.2\n",
       "7    32.13334  7  88.0\n",
       "8    32.13334  8  85.8\n",
       "9    32.13334  9  84.2\n",
       "10   32.13334 10  81.4\n",
       "11   32.13334 11  77.4\n",
       "12   32.13334 12  79.2\n",
       "13   32.13334 13  77.8\n",
       "14   32.13334 14  79.6\n",
       "15   32.13334 15  85.8\n",
       "16   32.13334 16  87.2\n",
       "17   32.13334 17  88.8\n",
       "18   32.13334 18  85.6\n",
       "19   32.13334 19  80.0\n",
       "20   32.13334 20  80.0\n",
       "21   32.13334 21  76.4\n",
       "22   32.13334 22  80.0\n",
       "23   32.13334 23  81.6\n",
       "24   32.13334 24  82.6\n",
       "25   32.13334 25  78.2\n",
       "26   32.13334 26  80.2\n",
       "27   32.13334 27  85.2\n",
       "28   32.13334 28  83.2\n",
       "29   32.13334 29  88.6\n",
       "30   32.13334 30  89.6\n",
       "...  ...      ... ... \n",
       "3796 45.86666 124 75.0\n",
       "3797 45.86666 125 72.0\n",
       "3798 45.86666 126 71.0\n",
       "3799 45.86666 127 66.0\n",
       "3800 45.86666 128 65.0\n",
       "3801 45.86666 129 67.5\n",
       "3802 45.86666 130 70.5\n",
       "3803 45.86666 131 73.5\n",
       "3804 45.86666 132 67.5\n",
       "3805 45.86666 133 63.0\n",
       "3806 45.86666 134 73.5\n",
       "3807 45.86666 135 81.5\n",
       "3808 45.86666 136 64.5\n",
       "3809 45.86666 137 48.5\n",
       "3810 45.86666 138 55.0\n",
       "3811 45.86666 139 66.0\n",
       "3812 45.86666 140 58.0\n",
       "3813 45.86666 141 65.0\n",
       "3814 45.86666 142 56.5\n",
       "3815 45.86666 143 52.0\n",
       "3816 45.86666 144 55.5\n",
       "3817 45.86666 145 60.0\n",
       "3818 45.86666 146 62.0\n",
       "3819 45.86666 147 66.5\n",
       "3820 45.86666 148 70.5\n",
       "3821 45.86666 149 55.0\n",
       "3822 45.86666 150 58.0\n",
       "3823 45.86666 151 49.0\n",
       "3824 45.86666 152 55.0\n",
       "3825 45.86666 153 68.5"
      ]
     },
     "metadata": {},
     "output_type": "display_data"
    }
   ],
   "source": [
    "Tmax_lat_Hov <- group_by(Tmax_grid, lat, t) %>%\n",
    "summarise(z = mean(z))\n",
    "Tmax_lat_Hov"
   ]
  },
  {
   "cell_type": "code",
   "execution_count": 25,
   "metadata": {
    "vscode": {
     "languageId": "r"
    }
   },
   "outputs": [
    {
     "data": {
      "image/png": "[encoded data removed]",
      "text/plain": [
       "plot without title"
      ]
     },
     "metadata": {
      "image/png": {
       "height": 420,
       "width": 420
      }
     },
     "output_type": "display_data"
    }
   ],
   "source": [
    "Hovmoller_lat <- ggplot(Tmax_lat_Hov) +\n",
    "# take data\n",
    "geom_tile(aes(x = lat, y = t, fill = z)) + # plot\n",
    "fill_scale(name = \"degF\") +\n",
    "# add color scale\n",
    "scale_y_reverse() +\n",
    "# rev y scale\n",
    "ylab(\"Day number (days)\") +\n",
    "# add y label\n",
    "xlab(\"Latitude (degrees)\") +\n",
    "# add x label\n",
    "theme_bw()\n",
    "Hovmoller_lat"
   ]
  },
  {
   "cell_type": "code",
   "execution_count": 27,
   "metadata": {
    "vscode": {
     "languageId": "r"
    }
   },
   "outputs": [],
   "source": [
    "library(ggplot2)\n",
    "library(dplyr)  # Ensure you have dplyr loaded for filter()\n",
    "\n",
    "Tmax_t <- function(tau) {\n",
    "  Tmax_sub <- filter(Tmax, t == tau)  # Subset data\n",
    "  \n",
    "  ggplot(Tmax_sub) +\n",
    "    geom_point(aes(x = lon, y = lat, colour = z), size = 4) +  # Plot points\n",
    "    scale_color_gradient(limits = c(40, 110), name = \"z\") +  # Corrected color scale\n",
    "    theme_bw()  # Black and white theme\n",
    "}\n",
    "\n",
    "# Example of how to call the function\n",
    "# Tmax_t(1)  # Replace 1 with the desired value of tau\n"
   ]
  },
  {
   "cell_type": "code",
   "execution_count": 28,
   "metadata": {
    "vscode": {
     "languageId": "r"
    }
   },
   "outputs": [
    {
     "name": "stderr",
     "output_type": "stream",
     "text": [
      "Warning message in sprintf(js.temp, global.opts, img.name0, paste(shQuote(imglist, :\n",
      "\"one argument not used by format '(function($) {\n",
      "    $(document).ready(function() {\n",
      "\t%s\n",
      "\t$('#%s').scianimator({\n",
      "\t    'images': [%s],\n",
      "\t    'width': %s,\n",
      "\t    'delay': %s,\n",
      "\t    'loopMode': '%s'%s\n",
      "\t});\n",
      "    });\n",
      "})(jQuery);'\"\n",
      "HTML file created at: NOAA_anim.html\n",
      "\n"
     ]
    }
   ],
   "source": [
    "gen_anim <- function() {\n",
    "for(t in lim_t[1]:lim_t[2]){\n",
    "# for each time point\n",
    "plot(Tmax_t(t))\n",
    "# plot data at this time point\n",
    "}\n",
    "}\n",
    "ani.options(interval = 0.2)\n",
    "# 0.2s interval between frames\n",
    "saveHTML(gen_anim(),\n",
    "# run the main function\n",
    "autoplay = FALSE,\n",
    "# do not play on load\n",
    "loop = FALSE,\n",
    "# do not loop\n",
    "verbose = FALSE,\n",
    "# no verbose\n",
    "outdir = \".\",\n",
    "# save to current dir\n",
    "single.opts = \"'controls': ['first', 'previous',\n",
    "'play', 'next', 'last',\n",
    "'loop', 'speed'],\n",
    "'delayMin': 0\",\n",
    "htmlfile = \"NOAA_anim.html\")"
   ]
  },
  {
   "cell_type": "code",
   "execution_count": null,
   "metadata": {
    "vscode": {
     "languageId": "r"
    }
   },
   "outputs": [],
   "source": []
  }
 ],
 "metadata": {
  "kernelspec": {
   "display_name": "R",
   "language": "R",
   "name": "ir"
  },
  "language_info": {
   "codemirror_mode": "r",
   "file_extension": ".r",
   "mimetype": "text/x-r-source",
   "name": "R",
   "pygments_lexer": "r",
   "version": "4.1.3"
  }
 },
 "nbformat": 4,
 "nbformat_minor": 2
}
