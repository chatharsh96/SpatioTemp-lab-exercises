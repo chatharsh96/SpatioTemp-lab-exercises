{
 "cells": [
  {
   "cell_type": "code",
   "execution_count": 5,
   "metadata": {
    "vscode": {
     "languageId": "r"
    }
   },
   "outputs": [
    {
     "name": "stderr",
     "output_type": "stream",
     "text": [
      "\n",
      "Attaching package: 'STRbook'\n",
      "\n",
      "\n",
      "The following objects are masked from 'package:FRK':\n",
      "\n",
      "    LinePlotTheme, NOAA_df_1990\n",
      "\n",
      "\n"
     ]
    }
   ],
   "source": [
    "library(\"leaps\")\n",
    "library(\"lmtest\")\n",
    "library(\"nlme\")\n",
    "library(\"ape\")\n",
    "library(\"broom\")\n",
    "library(\"FRK\")\n",
    "library(\"purrr\")\n",
    "library(\"lattice\")\n",
    "library(\"ggplot2\")\n",
    "library(\"RColorBrewer\")\n",
    "library(\"dplyr\")\n",
    "library(\"gstat\")\n",
    "library(\"sp\")\n",
    "library(\"spacetime\")\n",
    "library(\"STRbook\")\n",
    "library(\"tidyr\")"
   ]
  },
  {
   "cell_type": "code",
   "execution_count": 6,
   "metadata": {
    "vscode": {
     "languageId": "r"
    }
   },
   "outputs": [],
   "source": [
    "data(\"NOAA_df_1990\", package = \"STRbook\")\n",
    "Tmax <- filter(NOAA_df_1990,\n",
    "# subset the data\n",
    "proc == \"Tmax\" &\n",
    "# only max temperature\n",
    "month == 7 &\n",
    "# July\n",
    "year == 1993)"
   ]
  },
  {
   "cell_type": "code",
   "execution_count": 7,
   "metadata": {
    "vscode": {
     "languageId": "r"
    }
   },
   "outputs": [],
   "source": [
    "G <- auto_basis(data = Tmax[,c(\"lon\",\"lat\")] %>%\n",
    "# Take Tmax\n",
    "SpatialPoints(),\n",
    "# To sp obj\n",
    "nres = 1,\n",
    "# One resolution\n",
    "type = \"Gaussian\")"
   ]
  },
  {
   "cell_type": "code",
   "execution_count": 8,
   "metadata": {
    "vscode": {
     "languageId": "r"
    }
   },
   "outputs": [],
   "source": [
    "S <- eval_basis(basis = G,\n",
    "# basis functions\n",
    "s = Tmax[,c(\"lon\",\"lat\")] %>%\n",
    "# spat locations\n",
    "as.matrix()) %>%\n",
    "# conv. to matrix\n",
    "as.matrix()\n",
    "# results as matrix\n",
    "colnames(S) <- paste0(\"B\", 1:ncol(S))"
   ]
  },
  {
   "cell_type": "code",
   "execution_count": 9,
   "metadata": {
    "vscode": {
     "languageId": "r"
    }
   },
   "outputs": [],
   "source": [
    "Tmax2 <- cbind(Tmax, S) %>%\n",
    "# append S to Tmax\n",
    "select(-year, -month, -proc,\n",
    "# and remove vars we\n",
    "-julian, -date)"
   ]
  },
  {
   "cell_type": "code",
   "execution_count": 10,
   "metadata": {
    "vscode": {
     "languageId": "r"
    }
   },
   "outputs": [],
   "source": [
    "Tmax_no_14 <- filter(Tmax2, !(day == 14))\n",
    "# remove day 14"
   ]
  },
  {
   "cell_type": "code",
   "execution_count": 11,
   "metadata": {
    "vscode": {
     "languageId": "r"
    }
   },
   "outputs": [],
   "source": [
    "Tmax_July_lm <- lm(z ~ (lon + lat + day)^2 + .,\n",
    "# model\n",
    "data = select(Tmax_no_14, -id))\n",
    "# omit id"
   ]
  },
  {
   "cell_type": "code",
   "execution_count": 12,
   "metadata": {
    "vscode": {
     "languageId": "r"
    }
   },
   "outputs": [
    {
     "data": {
      "text/plain": [
       "\n",
       "Call:\n",
       "lm(formula = z ~ (lon + lat + day)^2 + ., data = select(Tmax_no_14, \n",
       "    -id))\n",
       "\n",
       "Residuals:\n",
       "     Min       1Q   Median       3Q      Max \n",
       "-17.5136  -2.4797   0.1098   2.6644  14.1659 \n",
       "\n",
       "Coefficients:\n",
       "              Estimate Std. Error t value Pr(>|t|)    \n",
       "(Intercept) 192.243242  97.854126   1.965 0.049531 *  \n",
       "lon           1.756918   1.088175   1.615 0.106486    \n",
       "lat          -1.317402   2.555626  -0.515 0.606239    \n",
       "day          -1.216456   0.133547  -9.109  < 2e-16 ***\n",
       "B1           16.646617   4.832399   3.445 0.000577 ***\n",
       "B2           18.528159   3.056082   6.063 1.46e-09 ***\n",
       "B3           -6.606896   3.171759  -2.083 0.037312 *  \n",
       "B4           30.545361   4.369591   6.990 3.20e-12 ***\n",
       "B5           14.739147   2.746866   5.366 8.52e-08 ***\n",
       "B6          -17.541177   3.423081  -5.124 3.13e-07 ***\n",
       "B7           28.472198   3.551900   8.016 1.42e-15 ***\n",
       "B8          -27.348145   3.164317  -8.643  < 2e-16 ***\n",
       "B9          -10.234777   4.456735  -2.296 0.021701 *  \n",
       "B10          10.558234   3.327370   3.173 0.001519 ** \n",
       "B11         -22.757661   3.532508  -6.442 1.32e-10 ***\n",
       "B12          21.864383   4.812940   4.543 5.72e-06 ***\n",
       "lon:lat      -0.026021   0.028232  -0.922 0.356755    \n",
       "lon:day      -0.022696   0.001288 -17.615  < 2e-16 ***\n",
       "lat:day      -0.019032   0.001876 -10.147  < 2e-16 ***\n",
       "---\n",
       "Signif. codes:  0 '***' 0.001 '**' 0.01 '*' 0.05 '.' 0.1 ' ' 1\n",
       "\n",
       "Residual standard error: 4.225 on 3970 degrees of freedom\n",
       "Multiple R-squared:  0.7023,\tAdjusted R-squared:  0.701 \n",
       "F-statistic: 520.4 on 18 and 3970 DF,  p-value: < 2.2e-16\n"
      ]
     },
     "metadata": {},
     "output_type": "display_data"
    }
   ],
   "source": [
    "Tmax_July_lm %>% summary()"
   ]
  },
  {
   "cell_type": "code",
   "execution_count": 13,
   "metadata": {
    "vscode": {
     "languageId": "r"
    }
   },
   "outputs": [],
   "source": [
    "Tmax_July_gls <- gls(z ~ (lon + lat + day)^2 + .,\n",
    "data = select(Tmax_no_14, -id),\n",
    "correlation = corGaus(value = 0.5,\n",
    "form = ~ lon + lat + day,\n",
    "fixed = TRUE))"
   ]
  },
  {
   "cell_type": "code",
   "execution_count": 15,
   "metadata": {
    "vscode": {
     "languageId": "r"
    }
   },
   "outputs": [
    {
     "name": "stdout",
     "output_type": "stream",
     "text": [
      "Start:  AIC=16312.78\n",
      "z ~ 1\n",
      "\n",
      "Start:  AIC=16312.78\n",
      "z ~ 1\n",
      "\n",
      "       Df Sum of Sq    RSS   AIC\n",
      "+ lat   1    149619  88431 12365\n",
      "+ day   1      1551 236499 16289\n",
      "+ lon   1       465 237585 16307\n",
      "<none>              238050 16313\n",
      "\n",
      "Step:  AIC=12364.63\n",
      "z ~ lat\n",
      "\n",
      "Start:  AIC=16312.78\n",
      "z ~ 1\n",
      "\n",
      "       Df Sum of Sq    RSS   AIC\n",
      "+ lat   1    149619  88431 12365\n",
      "+ day   1      1551 236499 16289\n",
      "+ lon   1       465 237585 16307\n",
      "<none>              238050 16313\n",
      "\n",
      "Step:  AIC=12364.63\n",
      "z ~ lat\n",
      "\n",
      "       Df Sum of Sq   RSS   AIC\n",
      "+ day   1   1550.49 86880 12296\n",
      "+ lon   1     44.77 88386 12365\n",
      "<none>              88431 12365\n",
      "\n",
      "Step:  AIC=12296.07\n",
      "z ~ lat + day\n",
      "\n",
      "Start:  AIC=16312.78\n",
      "z ~ 1\n",
      "\n",
      "       Df Sum of Sq    RSS   AIC\n",
      "+ lat   1    149619  88431 12365\n",
      "+ day   1      1551 236499 16289\n",
      "+ lon   1       465 237585 16307\n",
      "<none>              238050 16313\n",
      "\n",
      "Step:  AIC=12364.63\n",
      "z ~ lat\n",
      "\n",
      "       Df Sum of Sq   RSS   AIC\n",
      "+ day   1   1550.49 86880 12296\n",
      "+ lon   1     44.77 88386 12365\n",
      "<none>              88431 12365\n",
      "\n",
      "Step:  AIC=12296.07\n",
      "z ~ lat + day\n",
      "\n",
      "          Df Sum of Sq   RSS   AIC\n",
      "+ lat:day  1   1602.74 85277 12224\n",
      "+ lon      1     44.71 86835 12296\n",
      "<none>                 86880 12296\n",
      "\n",
      "Step:  AIC=12223.79\n",
      "z ~ lat + day + lat:day\n",
      "\n",
      "Start:  AIC=16312.78\n",
      "z ~ 1\n",
      "\n",
      "       Df Sum of Sq    RSS   AIC\n",
      "+ lat   1    149619  88431 12365\n",
      "+ day   1      1551 236499 16289\n",
      "+ lon   1       465 237585 16307\n",
      "<none>              238050 16313\n",
      "\n",
      "Step:  AIC=12364.63\n",
      "z ~ lat\n",
      "\n",
      "       Df Sum of Sq   RSS   AIC\n",
      "+ day   1   1550.49 86880 12296\n",
      "+ lon   1     44.77 88386 12365\n",
      "<none>              88431 12365\n",
      "\n",
      "Step:  AIC=12296.07\n",
      "z ~ lat + day\n",
      "\n",
      "          Df Sum of Sq   RSS   AIC\n",
      "+ lat:day  1   1602.74 85277 12224\n",
      "+ lon      1     44.71 86835 12296\n",
      "<none>                 86880 12296\n",
      "\n",
      "Step:  AIC=12223.79\n",
      "z ~ lat + day + lat:day\n",
      "\n",
      "       Df Sum of Sq   RSS   AIC\n",
      "+ lon   1    44.706 85233 12224\n",
      "<none>              85277 12224\n",
      "\n",
      "Step:  AIC=12223.7\n",
      "z ~ lat + day + lon + lat:day\n",
      "\n"
     ]
    }
   ],
   "source": [
    "library(dplyr)\n",
    "\n",
    "Tmax_July_lm4 <- list()  # Initialize the list\n",
    "\n",
    "for(i in 0:4) {\n",
    "  # For four steps (after intercept model)\n",
    "  ## Carry out stepwise forward selection for i steps\n",
    "  Tmax_July_lm4[[i + 1]] <- step(\n",
    "    lm(z ~ 1, data = select(Tmax_no_14, -id)),  # Intercept-only model\n",
    "    scope = z ~ (lon + lat + day)^2 + .,  # Scope for the model\n",
    "    direction = 'forward',  # Direction for stepwise selection\n",
    "    steps = i  # Number of steps\n",
    "  )\n",
    "}\n"
   ]
  },
  {
   "cell_type": "code",
   "execution_count": 16,
   "metadata": {
    "vscode": {
     "languageId": "r"
    }
   },
   "outputs": [],
   "source": [
    "regfit.full = regsubsets(z ~ 1 + (lon + lat + day)^2 + .,\n",
    "# model\n",
    "data = select(Tmax_no_14, -id),\n",
    "method = \"forward\",\n",
    "nvmax = 4)"
   ]
  },
  {
   "cell_type": "code",
   "execution_count": 17,
   "metadata": {
    "vscode": {
     "languageId": "r"
    }
   },
   "outputs": [],
   "source": [
    "regfit.summary <- summary(regfit.full)"
   ]
  },
  {
   "cell_type": "code",
   "execution_count": 18,
   "metadata": {
    "vscode": {
     "languageId": "r"
    }
   },
   "outputs": [],
   "source": [
    "set.seed(1) # Fix seed for reproducibility\n",
    "Tmax_no_14_2 <- Tmax_no_14 %>%\n",
    "mutate(B13 = B5 + 0.01*rnorm(nrow(Tmax_no_14)))"
   ]
  },
  {
   "cell_type": "code",
   "execution_count": 19,
   "metadata": {
    "vscode": {
     "languageId": "r"
    }
   },
   "outputs": [],
   "source": [
    "Tmax_July_lm3 <- lm(z ~ (lon + lat + day)^2 + .,\n",
    "data = Tmax_no_14_2 %>%\n",
    "select(-id))"
   ]
  },
  {
   "cell_type": "code",
   "execution_count": 20,
   "metadata": {
    "vscode": {
     "languageId": "r"
    }
   },
   "outputs": [
    {
     "data": {
      "text/plain": [
       "\n",
       "Call:\n",
       "lm(formula = z ~ (lon + lat + day)^2 + ., data = Tmax_no_14_2 %>% \n",
       "    select(-id))\n",
       "\n",
       "Residuals:\n",
       "     Min       1Q   Median       3Q      Max \n",
       "-17.7869  -2.4946   0.1034   2.6743  14.3179 \n",
       "\n",
       "Coefficients:\n",
       "              Estimate Std. Error t value Pr(>|t|)    \n",
       "(Intercept) 195.365087  97.819550   1.997 0.045872 *  \n",
       "lon           1.785474   1.087752   1.641 0.100786    \n",
       "lat          -1.414127   2.554836  -0.554 0.579946    \n",
       "day          -1.215853   0.133485  -9.109  < 2e-16 ***\n",
       "B1           16.675811   4.830184   3.452 0.000561 ***\n",
       "B2           18.379495   3.055443   6.015 1.96e-09 ***\n",
       "B3           -6.470935   3.170917  -2.041 0.041345 *  \n",
       "B4           30.303993   4.368998   6.936 4.68e-12 ***\n",
       "B5            0.603294   7.092149   0.085 0.932214    \n",
       "B6          -17.322017   3.423000  -5.060 4.37e-07 ***\n",
       "B7           28.135550   3.553672   7.917 3.12e-15 ***\n",
       "B8          -27.002158   3.166901  -8.526  < 2e-16 ***\n",
       "B9          -10.181760   4.454742  -2.286 0.022330 *  \n",
       "B10          10.379666   3.326858   3.120 0.001822 ** \n",
       "B11         -22.419432   3.534340  -6.343 2.50e-10 ***\n",
       "B12          21.664508   4.811603   4.503 6.91e-06 ***\n",
       "B13          13.998555   6.475621   2.162 0.030698 *  \n",
       "lon:lat      -0.026943   0.028222  -0.955 0.339805    \n",
       "lon:day      -0.022625   0.001288 -17.563  < 2e-16 ***\n",
       "lat:day      -0.018884   0.001876 -10.066  < 2e-16 ***\n",
       "---\n",
       "Signif. codes:  0 '***' 0.001 '**' 0.01 '*' 0.05 '.' 0.1 ' ' 1\n",
       "\n",
       "Residual standard error: 4.223 on 3969 degrees of freedom\n",
       "Multiple R-squared:  0.7027,\tAdjusted R-squared:  0.7013 \n",
       "F-statistic: 493.7 on 19 and 3969 DF,  p-value: < 2.2e-16\n"
      ]
     },
     "metadata": {},
     "output_type": "display_data"
    }
   ],
   "source": [
    "summary(Tmax_July_lm3)"
   ]
  },
  {
   "cell_type": "code",
   "execution_count": 21,
   "metadata": {
    "vscode": {
     "languageId": "r"
    }
   },
   "outputs": [
    {
     "data": {
      "text/html": [
       "<table class=\"dataframe\">\n",
       "<caption>A matrix: 2 × 2 of type dbl</caption>\n",
       "<thead>\n",
       "\t<tr><th></th><th scope=col>B5</th><th scope=col>B13</th></tr>\n",
       "</thead>\n",
       "<tbody>\n",
       "\t<tr><th scope=row>B5</th><td> 1.0000000</td><td>-0.9220244</td></tr>\n",
       "\t<tr><th scope=row>B13</th><td>-0.9220244</td><td> 1.0000000</td></tr>\n",
       "</tbody>\n",
       "</table>\n"
      ],
      "text/latex": [
       "A matrix: 2 × 2 of type dbl\n",
       "\\begin{tabular}{r|ll}\n",
       "  & B5 & B13\\\\\n",
       "\\hline\n",
       "\tB5 &  1.0000000 & -0.9220244\\\\\n",
       "\tB13 & -0.9220244 &  1.0000000\\\\\n",
       "\\end{tabular}\n"
      ],
      "text/markdown": [
       "\n",
       "A matrix: 2 × 2 of type dbl\n",
       "\n",
       "| <!--/--> | B5 | B13 |\n",
       "|---|---|---|\n",
       "| B5 |  1.0000000 | -0.9220244 |\n",
       "| B13 | -0.9220244 |  1.0000000 |\n",
       "\n"
      ],
      "text/plain": [
       "    B5         B13       \n",
       "B5   1.0000000 -0.9220244\n",
       "B13 -0.9220244  1.0000000"
      ]
     },
     "metadata": {},
     "output_type": "display_data"
    }
   ],
   "source": [
    "vcov(Tmax_July_lm3)[c(\"B5\", \"B13\"),c(\"B5\", \"B13\")] %>%\n",
    "cov2cor()"
   ]
  },
  {
   "cell_type": "code",
   "execution_count": 22,
   "metadata": {
    "vscode": {
     "languageId": "r"
    }
   },
   "outputs": [],
   "source": [
    "Tmax_no_14$residuals <- residuals(Tmax_July_lm)"
   ]
  },
  {
   "cell_type": "code",
   "execution_count": 24,
   "metadata": {
    "vscode": {
     "languageId": "r"
    }
   },
   "outputs": [
    {
     "data": {
      "image/png": "[encoded data removed]",
      "text/plain": [
       "plot without title"
      ]
     },
     "metadata": {
      "image/png": {
       "height": 420,
       "width": 420
      }
     },
     "output_type": "display_data"
    }
   ],
   "source": [
    "g <- ggplot(filter(Tmax_no_14, day %in% 24:31)) +\n",
    "geom_point(aes(lon, lat, colour = residuals)) +\n",
    "facet_wrap(~ day, ncol=4) +\n",
    "col_scale(name = \"degF\") +\n",
    "geom_point(data = filter(Tmax_no_14,day %in% 24:31 &\n",
    "id %in% c(3810, 3889)),\n",
    "aes(lon, lat),\n",
    "colour = \"black\",\n",
    "pch = 2, size = 2.5) +\n",
    "theme_bw()\n",
    "\n",
    "g"
   ]
  },
  {
   "cell_type": "code",
   "execution_count": 25,
   "metadata": {
    "vscode": {
     "languageId": "r"
    }
   },
   "outputs": [],
   "source": [
    "P <- list()\n",
    "# init list\n",
    "days <- c(1:13, 15:31)\n",
    "# set of days\n",
    "for(i in seq_along(days)) {\n",
    "# for each day\n",
    "Tmax_day <- filter(Tmax_no_14,\n",
    "day == days[i])\n",
    "# filter by day\n",
    "station.dists <- Tmax_day %>%\n",
    "# take the data\n",
    "select(lon, lat) %>%\n",
    "# extract coords.\n",
    "dist() %>%\n",
    "# comp. dists.\n",
    "as.matrix()\n",
    "# conv. to matrix\n",
    "station.dists.inv <- 1/station.dists\n",
    "# weight matrix\n",
    "diag(station.dists.inv) <- 0\n",
    "# 0 on diag\n",
    "P[[i]] <- Moran.I(Tmax_day$residuals,\n",
    "# run Moran's I\n",
    "station.dists.inv) %>%\n",
    "do.call(\"cbind\", .)\n",
    "# conv. to df\n",
    "}"
   ]
  },
  {
   "cell_type": "code",
   "execution_count": 26,
   "metadata": {
    "vscode": {
     "languageId": "r"
    }
   },
   "outputs": [
    {
     "data": {
      "text/html": [
       "<table class=\"dataframe\">\n",
       "<caption>A matrix: 6 × 4 of type dbl</caption>\n",
       "<thead>\n",
       "\t<tr><th scope=col>observed</th><th scope=col>expected</th><th scope=col>sd</th><th scope=col>p.value</th></tr>\n",
       "</thead>\n",
       "<tbody>\n",
       "\t<tr><td>0.2716679</td><td>-0.007575758</td><td>0.01235583</td><td>0</td></tr>\n",
       "\t<tr><td>0.2264147</td><td>-0.007575758</td><td>0.01236886</td><td>0</td></tr>\n",
       "\t<tr><td>0.2113966</td><td>-0.007575758</td><td>0.01236374</td><td>0</td></tr>\n",
       "\t<tr><td>0.1626477</td><td>-0.007575758</td><td>0.01238872</td><td>0</td></tr>\n",
       "\t<tr><td>0.2580333</td><td>-0.007575758</td><td>0.01241006</td><td>0</td></tr>\n",
       "\t<tr><td>0.1216741</td><td>-0.007575758</td><td>0.01227211</td><td>0</td></tr>\n",
       "</tbody>\n",
       "</table>\n"
      ],
      "text/latex": [
       "A matrix: 6 × 4 of type dbl\n",
       "\\begin{tabular}{llll}\n",
       " observed & expected & sd & p.value\\\\\n",
       "\\hline\n",
       "\t 0.2716679 & -0.007575758 & 0.01235583 & 0\\\\\n",
       "\t 0.2264147 & -0.007575758 & 0.01236886 & 0\\\\\n",
       "\t 0.2113966 & -0.007575758 & 0.01236374 & 0\\\\\n",
       "\t 0.1626477 & -0.007575758 & 0.01238872 & 0\\\\\n",
       "\t 0.2580333 & -0.007575758 & 0.01241006 & 0\\\\\n",
       "\t 0.1216741 & -0.007575758 & 0.01227211 & 0\\\\\n",
       "\\end{tabular}\n"
      ],
      "text/markdown": [
       "\n",
       "A matrix: 6 × 4 of type dbl\n",
       "\n",
       "| observed | expected | sd | p.value |\n",
       "|---|---|---|---|\n",
       "| 0.2716679 | -0.007575758 | 0.01235583 | 0 |\n",
       "| 0.2264147 | -0.007575758 | 0.01236886 | 0 |\n",
       "| 0.2113966 | -0.007575758 | 0.01236374 | 0 |\n",
       "| 0.1626477 | -0.007575758 | 0.01238872 | 0 |\n",
       "| 0.2580333 | -0.007575758 | 0.01241006 | 0 |\n",
       "| 0.1216741 | -0.007575758 | 0.01227211 | 0 |\n",
       "\n"
      ],
      "text/plain": [
       "     observed  expected     sd         p.value\n",
       "[1,] 0.2716679 -0.007575758 0.01235583 0      \n",
       "[2,] 0.2264147 -0.007575758 0.01236886 0      \n",
       "[3,] 0.2113966 -0.007575758 0.01236374 0      \n",
       "[4,] 0.1626477 -0.007575758 0.01238872 0      \n",
       "[5,] 0.2580333 -0.007575758 0.01241006 0      \n",
       "[6,] 0.1216741 -0.007575758 0.01227211 0      "
      ]
     },
     "metadata": {},
     "output_type": "display_data"
    }
   ],
   "source": [
    "do.call(\"rbind\", P) %>% head()"
   ]
  },
  {
   "cell_type": "code",
   "execution_count": 27,
   "metadata": {
    "vscode": {
     "languageId": "r"
    }
   },
   "outputs": [],
   "source": [
    "station.dists <- Tmax_no_14 %>%\n",
    "# take the data\n",
    "select(lon, lat, day) %>%\n",
    "# extract coordinates\n",
    "dist() %>%\n",
    "# compute distances\n",
    "as.matrix()"
   ]
  },
  {
   "cell_type": "code",
   "execution_count": 28,
   "metadata": {
    "vscode": {
     "languageId": "r"
    }
   },
   "outputs": [
    {
     "data": {
      "text/html": [
       "0"
      ],
      "text/latex": [
       "0"
      ],
      "text/markdown": [
       "0"
      ],
      "text/plain": [
       "[1] 0"
      ]
     },
     "metadata": {},
     "output_type": "display_data"
    }
   ],
   "source": [
    "station.dists.inv <- 1/station.dists\n",
    "diag(station.dists.inv) <- 0\n",
    "Moran.I(Tmax_no_14$residuals, station.dists.inv)$p.value"
   ]
  },
  {
   "cell_type": "code",
   "execution_count": 29,
   "metadata": {
    "vscode": {
     "languageId": "r"
    }
   },
   "outputs": [],
   "source": [
    "TS1 <- filter(Tmax_no_14, id == 3810)$residuals\n",
    "TS2 <- filter(Tmax_no_14, id == 3889)$residuals"
   ]
  },
  {
   "cell_type": "code",
   "execution_count": 30,
   "metadata": {
    "vscode": {
     "languageId": "r"
    }
   },
   "outputs": [
    {
     "data": {
      "image/png": "[encoded data removed]",
      "text/plain": [
       "plot without title"
      ]
     },
     "metadata": {
      "image/png": {
       "height": 420,
       "width": 420
      }
     },
     "output_type": "display_data"
    }
   ],
   "source": [
    "par(mar=c(4, 4, 1, 1))\n",
    "plot(TS1,\n",
    "# Station 3810 residuals\n",
    "xlab = \"day of July 1993\",\n",
    "ylab = \"residuals (degF)\",\n",
    "type = 'o', ylim = c(-8, 7))\n",
    "lines(TS2,\n",
    "# Station 3889 residuals\n",
    "xlab = \"day of July 1993\",\n",
    "ylab = \"residuals (degF)\",\n",
    "type = 'o', col = \"red\")"
   ]
  },
  {
   "cell_type": "code",
   "execution_count": 31,
   "metadata": {
    "vscode": {
     "languageId": "r"
    }
   },
   "outputs": [
    {
     "data": {
      "text/html": [
       "<table class=\"dataframe\">\n",
       "<caption>A grouped_df: 3 × 3</caption>\n",
       "<thead>\n",
       "\t<tr><th scope=col>lat</th><th scope=col>lon</th><th scope=col>data</th><th scope=col>NA</th><th scope=col>NA</th><th scope=col>NA</th><th scope=col>NA</th><th scope=col>NA</th><th scope=col>NA</th><th scope=col>NA</th><th scope=col>NA</th><th scope=col>NA</th><th scope=col>NA</th><th scope=col>NA</th><th scope=col>NA</th><th scope=col>NA</th><th scope=col>NA</th><th scope=col>NA</th><th scope=col>NA</th><th scope=col>NA</th><th scope=col>NA</th><th scope=col>NA</th><th scope=col>NA</th><th scope=col>NA</th><th scope=col>NA</th><th scope=col>NA</th><th scope=col>NA</th><th scope=col>NA</th><th scope=col>NA</th><th scope=col>NA</th><th scope=col>NA</th><th scope=col>NA</th><th scope=col>NA</th><th scope=col>NA</th><th scope=col>NA</th><th scope=col>NA</th><th scope=col>NA</th><th scope=col>NA</th><th scope=col>NA</th><th scope=col>NA</th><th scope=col>NA</th><th scope=col>NA</th><th scope=col>NA</th><th scope=col>NA</th><th scope=col>NA</th><th scope=col>NA</th><th scope=col>NA</th><th scope=col>NA</th><th scope=col>NA</th><th scope=col>NA</th></tr>\n",
       "\t<tr><th scope=col>&lt;dbl&gt;</th><th scope=col>&lt;dbl&gt;</th><th scope=col>&lt;list&gt;</th></tr>\n",
       "</thead>\n",
       "<tbody>\n",
       "\t<tr><td>39.35000</td><td>-81.43333</td><td> 1</td><td>3804</td><td>82</td><td>0.002876094</td><td>0.05719898</td><td>0.3081284</td><td>0.4496073</td><td>0.006202851</td><td>0.1233606</td><td>0.6645381</td><td>0.9696646</td><td>0.003315591</td><td>0.06593958</td><td>0.3552136</td><td>0.5183119</td><td>-5.6413658</td><td> 1</td><td>3810</td><td> 93</td><td>0.004991112</td><td>0.1002424</td><td>0.5453352</td><td>0.8035889</td><td>0.005162994</td><td>0.1036945</td><td>0.5641153</td><td>0.8312627</td><td>0.001323694</td><td>0.02658529</td><td>0.1446284</td><td>0.2131199</td><td>-0.90940349</td><td> 1</td><td>3811</td><td>91</td><td>0.1375247</td><td>0.6282143</td><td>0.7773079</td><td>0.2605173</td><td>0.138459</td><td>0.6324823</td><td>0.7825889</td><td>0.2622873</td><td>0.03454963</td><td>0.1578231</td><td>0.1952791</td><td>0.06544844</td><td>-1.7208930</td></tr>\n",
       "\t<tr><td>35.73333</td><td>-81.38333</td><td> 2</td><td>3804</td><td>84</td><td>0.002876094</td><td>0.05719898</td><td>0.3081284</td><td>0.4496073</td><td>0.006202851</td><td>0.1233606</td><td>0.6645381</td><td>0.9696646</td><td>0.003315591</td><td>0.06593958</td><td>0.3552136</td><td>0.5183119</td><td>-3.5242120</td><td> 2</td><td>3810</td><td> 93</td><td>0.004991112</td><td>0.1002424</td><td>0.5453352</td><td>0.8035889</td><td>0.005162994</td><td>0.1036945</td><td>0.5641153</td><td>0.8312627</td><td>0.001323694</td><td>0.02658529</td><td>0.1446284</td><td>0.2131199</td><td>-0.85994608</td><td> 2</td><td>3811</td><td>92</td><td>0.1375247</td><td>0.6282143</td><td>0.7773079</td><td>0.2605173</td><td>0.138459</td><td>0.6324823</td><td>0.7825889</td><td>0.2622873</td><td>0.03454963</td><td>0.1578231</td><td>0.1952791</td><td>0.06544844</td><td>-0.8449487</td></tr>\n",
       "\t<tr><td>35.60000</td><td>-88.91666</td><td> 3</td><td>3804</td><td>88</td><td>0.002876094</td><td>0.05719898</td><td>0.3081284</td><td>0.4496073</td><td>0.006202851</td><td>0.1233606</td><td>0.6645381</td><td>0.9696646</td><td>0.003315591</td><td>0.06593958</td><td>0.3552136</td><td>0.5183119</td><td> 0.5929419</td><td> 3</td><td>3810</td><td> 96</td><td>0.004991112</td><td>0.1002424</td><td>0.5453352</td><td>0.8035889</td><td>0.005162994</td><td>0.1036945</td><td>0.5641153</td><td>0.8312627</td><td>0.001323694</td><td>0.02658529</td><td>0.1446284</td><td>0.2131199</td><td> 2.18951133</td><td> 3</td><td>3811</td><td>94</td><td>0.1375247</td><td>0.6282143</td><td>0.7773079</td><td>0.2605173</td><td>0.138459</td><td>0.6324823</td><td>0.7825889</td><td>0.2622873</td><td>0.03454963</td><td>0.1578231</td><td>0.1952791</td><td>0.06544844</td><td> 1.0309956</td></tr>\n",
       "\t<tr><td>39.35000</td><td>-81.43333</td><td> 4</td><td>3804</td><td>90</td><td>0.002876094</td><td>0.05719898</td><td>0.3081284</td><td>0.4496073</td><td>0.006202851</td><td>0.1233606</td><td>0.6645381</td><td>0.9696646</td><td>0.003315591</td><td>0.06593958</td><td>0.3552136</td><td>0.5183119</td><td> 2.7100957</td><td> 4</td><td>3810</td><td> 97</td><td>0.004991112</td><td>0.1002424</td><td>0.5453352</td><td>0.8035889</td><td>0.005162994</td><td>0.1036945</td><td>0.5641153</td><td>0.8312627</td><td>0.001323694</td><td>0.02658529</td><td>0.1446284</td><td>0.2131199</td><td> 3.23896873</td><td> 4</td><td>3811</td><td>95</td><td>0.1375247</td><td>0.6282143</td><td>0.7773079</td><td>0.2605173</td><td>0.138459</td><td>0.6324823</td><td>0.7825889</td><td>0.2622873</td><td>0.03454963</td><td>0.1578231</td><td>0.1952791</td><td>0.06544844</td><td> 1.9069399</td></tr>\n",
       "\t<tr><td>35.73333</td><td>-81.38333</td><td> 5</td><td>3804</td><td>92</td><td>0.002876094</td><td>0.05719898</td><td>0.3081284</td><td>0.4496073</td><td>0.006202851</td><td>0.1233606</td><td>0.6645381</td><td>0.9696646</td><td>0.003315591</td><td>0.06593958</td><td>0.3552136</td><td>0.5183119</td><td> 4.8272496</td><td> 5</td><td>3810</td><td> 99</td><td>0.004991112</td><td>0.1002424</td><td>0.5453352</td><td>0.8035889</td><td>0.005162994</td><td>0.1036945</td><td>0.5641153</td><td>0.8312627</td><td>0.001323694</td><td>0.02658529</td><td>0.1446284</td><td>0.2131199</td><td> 5.28842614</td><td> 5</td><td>3811</td><td>92</td><td>0.1375247</td><td>0.6282143</td><td>0.7773079</td><td>0.2605173</td><td>0.138459</td><td>0.6324823</td><td>0.7825889</td><td>0.2622873</td><td>0.03454963</td><td>0.1578231</td><td>0.1952791</td><td>0.06544844</td><td>-1.2171157</td></tr>\n",
       "\t<tr><td>35.60000</td><td>-88.91666</td><td> 6</td><td>3804</td><td>91</td><td>0.002876094</td><td>0.05719898</td><td>0.3081284</td><td>0.4496073</td><td>0.006202851</td><td>0.1233606</td><td>0.6645381</td><td>0.9696646</td><td>0.003315591</td><td>0.06593958</td><td>0.3552136</td><td>0.5183119</td><td> 3.9444034</td><td> 6</td><td>3810</td><td> 98</td><td>0.004991112</td><td>0.1002424</td><td>0.5453352</td><td>0.8035889</td><td>0.005162994</td><td>0.1036945</td><td>0.5641153</td><td>0.8312627</td><td>0.001323694</td><td>0.02658529</td><td>0.1446284</td><td>0.2131199</td><td> 4.33788355</td><td> 6</td><td>3811</td><td>93</td><td>0.1375247</td><td>0.6282143</td><td>0.7773079</td><td>0.2605173</td><td>0.138459</td><td>0.6324823</td><td>0.7825889</td><td>0.2622873</td><td>0.03454963</td><td>0.1578231</td><td>0.1952791</td><td>0.06544844</td><td>-0.3411714</td></tr>\n",
       "\t<tr><td>39.35000</td><td>-81.43333</td><td> 7</td><td>3804</td><td>92</td><td>0.002876094</td><td>0.05719898</td><td>0.3081284</td><td>0.4496073</td><td>0.006202851</td><td>0.1233606</td><td>0.6645381</td><td>0.9696646</td><td>0.003315591</td><td>0.06593958</td><td>0.3552136</td><td>0.5183119</td><td> 5.0615572</td><td> 7</td><td>3810</td><td>100</td><td>0.004991112</td><td>0.1002424</td><td>0.5453352</td><td>0.8035889</td><td>0.005162994</td><td>0.1036945</td><td>0.5641153</td><td>0.8312627</td><td>0.001323694</td><td>0.02658529</td><td>0.1446284</td><td>0.2131199</td><td> 6.38734096</td><td> 7</td><td>3811</td><td>93</td><td>0.1375247</td><td>0.6282143</td><td>0.7773079</td><td>0.2605173</td><td>0.138459</td><td>0.6324823</td><td>0.7825889</td><td>0.2622873</td><td>0.03454963</td><td>0.1578231</td><td>0.1952791</td><td>0.06544844</td><td>-0.4652271</td></tr>\n",
       "\t<tr><td>35.73333</td><td>-81.38333</td><td> 8</td><td>3804</td><td>94</td><td>0.002876094</td><td>0.05719898</td><td>0.3081284</td><td>0.4496073</td><td>0.006202851</td><td>0.1233606</td><td>0.6645381</td><td>0.9696646</td><td>0.003315591</td><td>0.06593958</td><td>0.3552136</td><td>0.5183119</td><td> 7.1787111</td><td> 8</td><td>3810</td><td> 99</td><td>0.004991112</td><td>0.1002424</td><td>0.5453352</td><td>0.8035889</td><td>0.005162994</td><td>0.1036945</td><td>0.5641153</td><td>0.8312627</td><td>0.001323694</td><td>0.02658529</td><td>0.1446284</td><td>0.2131199</td><td> 5.43679836</td><td> 8</td><td>3811</td><td>96</td><td>0.1375247</td><td>0.6282143</td><td>0.7773079</td><td>0.2605173</td><td>0.138459</td><td>0.6324823</td><td>0.7825889</td><td>0.2622873</td><td>0.03454963</td><td>0.1578231</td><td>0.1952791</td><td>0.06544844</td><td> 2.4107172</td></tr>\n",
       "\t<tr><td>35.60000</td><td>-88.91666</td><td> 9</td><td>3804</td><td>96</td><td>0.002876094</td><td>0.05719898</td><td>0.3081284</td><td>0.4496073</td><td>0.006202851</td><td>0.1233606</td><td>0.6645381</td><td>0.9696646</td><td>0.003315591</td><td>0.06593958</td><td>0.3552136</td><td>0.5183119</td><td> 9.2958649</td><td> 9</td><td>3810</td><td> 98</td><td>0.004991112</td><td>0.1002424</td><td>0.5453352</td><td>0.8035889</td><td>0.005162994</td><td>0.1036945</td><td>0.5641153</td><td>0.8312627</td><td>0.001323694</td><td>0.02658529</td><td>0.1446284</td><td>0.2131199</td><td> 4.48625577</td><td> 9</td><td>3811</td><td>96</td><td>0.1375247</td><td>0.6282143</td><td>0.7773079</td><td>0.2605173</td><td>0.138459</td><td>0.6324823</td><td>0.7825889</td><td>0.2622873</td><td>0.03454963</td><td>0.1578231</td><td>0.1952791</td><td>0.06544844</td><td> 2.2866615</td></tr>\n",
       "\t<tr><td>39.35000</td><td>-81.43333</td><td>10</td><td>3804</td><td>93</td><td>0.002876094</td><td>0.05719898</td><td>0.3081284</td><td>0.4496073</td><td>0.006202851</td><td>0.1233606</td><td>0.6645381</td><td>0.9696646</td><td>0.003315591</td><td>0.06593958</td><td>0.3552136</td><td>0.5183119</td><td> 6.4130188</td><td>10</td><td>3810</td><td> 99</td><td>0.004991112</td><td>0.1002424</td><td>0.5453352</td><td>0.8035889</td><td>0.005162994</td><td>0.1036945</td><td>0.5641153</td><td>0.8312627</td><td>0.001323694</td><td>0.02658529</td><td>0.1446284</td><td>0.2131199</td><td> 5.53571318</td><td>10</td><td>3811</td><td>96</td><td>0.1375247</td><td>0.6282143</td><td>0.7773079</td><td>0.2605173</td><td>0.138459</td><td>0.6324823</td><td>0.7825889</td><td>0.2622873</td><td>0.03454963</td><td>0.1578231</td><td>0.1952791</td><td>0.06544844</td><td> 2.1626058</td></tr>\n",
       "\t<tr><td>35.73333</td><td>-81.38333</td><td>11</td><td>3804</td><td>94</td><td>0.002876094</td><td>0.05719898</td><td>0.3081284</td><td>0.4496073</td><td>0.006202851</td><td>0.1233606</td><td>0.6645381</td><td>0.9696646</td><td>0.003315591</td><td>0.06593958</td><td>0.3552136</td><td>0.5183119</td><td> 7.5301726</td><td>11</td><td>3810</td><td> 98</td><td>0.004991112</td><td>0.1002424</td><td>0.5453352</td><td>0.8035889</td><td>0.005162994</td><td>0.1036945</td><td>0.5641153</td><td>0.8312627</td><td>0.001323694</td><td>0.02658529</td><td>0.1446284</td><td>0.2131199</td><td> 4.58517059</td><td>11</td><td>3811</td><td>90</td><td>0.1375247</td><td>0.6282143</td><td>0.7773079</td><td>0.2605173</td><td>0.138459</td><td>0.6324823</td><td>0.7825889</td><td>0.2622873</td><td>0.03454963</td><td>0.1578231</td><td>0.1952791</td><td>0.06544844</td><td>-3.9614498</td></tr>\n",
       "\t<tr><td>35.60000</td><td>-88.91666</td><td>12</td><td>3804</td><td>85</td><td>0.002876094</td><td>0.05719898</td><td>0.3081284</td><td>0.4496073</td><td>0.006202851</td><td>0.1233606</td><td>0.6645381</td><td>0.9696646</td><td>0.003315591</td><td>0.06593958</td><td>0.3552136</td><td>0.5183119</td><td>-1.3526735</td><td>12</td><td>3810</td><td> 98</td><td>0.004991112</td><td>0.1002424</td><td>0.5453352</td><td>0.8035889</td><td>0.005162994</td><td>0.1036945</td><td>0.5641153</td><td>0.8312627</td><td>0.001323694</td><td>0.02658529</td><td>0.1446284</td><td>0.2131199</td><td> 4.63462799</td><td>12</td><td>3811</td><td>96</td><td>0.1375247</td><td>0.6282143</td><td>0.7773079</td><td>0.2605173</td><td>0.138459</td><td>0.6324823</td><td>0.7825889</td><td>0.2622873</td><td>0.03454963</td><td>0.1578231</td><td>0.1952791</td><td>0.06544844</td><td> 1.9144945</td></tr>\n",
       "\t<tr><td>39.35000</td><td>-81.43333</td><td>13</td><td>3804</td><td>92</td><td>0.002876094</td><td>0.05719898</td><td>0.3081284</td><td>0.4496073</td><td>0.006202851</td><td>0.1233606</td><td>0.6645381</td><td>0.9696646</td><td>0.003315591</td><td>0.06593958</td><td>0.3552136</td><td>0.5183119</td><td> 5.7644803</td><td>13</td><td>3810</td><td> 97</td><td>0.004991112</td><td>0.1002424</td><td>0.5453352</td><td>0.8035889</td><td>0.005162994</td><td>0.1036945</td><td>0.5641153</td><td>0.8312627</td><td>0.001323694</td><td>0.02658529</td><td>0.1446284</td><td>0.2131199</td><td> 3.68408540</td><td>13</td><td>3811</td><td>92</td><td>0.1375247</td><td>0.6282143</td><td>0.7773079</td><td>0.2605173</td><td>0.138459</td><td>0.6324823</td><td>0.7825889</td><td>0.2622873</td><td>0.03454963</td><td>0.1578231</td><td>0.1952791</td><td>0.06544844</td><td>-2.2095612</td></tr>\n",
       "\t<tr><td>35.73333</td><td>-81.38333</td><td>15</td><td>3804</td><td>80</td><td>0.002876094</td><td>0.05719898</td><td>0.3081284</td><td>0.4496073</td><td>0.006202851</td><td>0.1233606</td><td>0.6645381</td><td>0.9696646</td><td>0.003315591</td><td>0.06593958</td><td>0.3552136</td><td>0.5183119</td><td>-6.0012120</td><td>15</td><td>3810</td><td> 90</td><td>0.004991112</td><td>0.1002424</td><td>0.5453352</td><td>0.8035889</td><td>0.005162994</td><td>0.1036945</td><td>0.5641153</td><td>0.8312627</td><td>0.001323694</td><td>0.02658529</td><td>0.1446284</td><td>0.2131199</td><td>-3.21699978</td><td>15</td><td>3811</td><td>93</td><td>0.1375247</td><td>0.6282143</td><td>0.7773079</td><td>0.2605173</td><td>0.138459</td><td>0.6324823</td><td>0.7825889</td><td>0.2622873</td><td>0.03454963</td><td>0.1578231</td><td>0.1952791</td><td>0.06544844</td><td>-1.4576726</td></tr>\n",
       "\t<tr><td>35.60000</td><td>-88.91666</td><td>16</td><td>3804</td><td>85</td><td>0.002876094</td><td>0.05719898</td><td>0.3081284</td><td>0.4496073</td><td>0.006202851</td><td>0.1233606</td><td>0.6645381</td><td>0.9696646</td><td>0.003315591</td><td>0.06593958</td><td>0.3552136</td><td>0.5183119</td><td>-0.8840581</td><td>16</td><td>3810</td><td> 87</td><td>0.004991112</td><td>0.1002424</td><td>0.5453352</td><td>0.8035889</td><td>0.005162994</td><td>0.1036945</td><td>0.5641153</td><td>0.8312627</td><td>0.001323694</td><td>0.02658529</td><td>0.1446284</td><td>0.2131199</td><td>-6.16754238</td><td>16</td><td>3811</td><td>94</td><td>0.1375247</td><td>0.6282143</td><td>0.7773079</td><td>0.2605173</td><td>0.138459</td><td>0.6324823</td><td>0.7825889</td><td>0.2622873</td><td>0.03454963</td><td>0.1578231</td><td>0.1952791</td><td>0.06544844</td><td>-0.5817283</td></tr>\n",
       "\t<tr><td>39.35000</td><td>-81.43333</td><td>17</td><td>3804</td><td>87</td><td>0.002876094</td><td>0.05719898</td><td>0.3081284</td><td>0.4496073</td><td>0.006202851</td><td>0.1233606</td><td>0.6645381</td><td>0.9696646</td><td>0.003315591</td><td>0.06593958</td><td>0.3552136</td><td>0.5183119</td><td> 1.2330957</td><td>17</td><td>3810</td><td> 93</td><td>0.004991112</td><td>0.1002424</td><td>0.5453352</td><td>0.8035889</td><td>0.005162994</td><td>0.1036945</td><td>0.5641153</td><td>0.8312627</td><td>0.001323694</td><td>0.02658529</td><td>0.1446284</td><td>0.2131199</td><td>-0.11808497</td><td>17</td><td>3811</td><td>95</td><td>0.1375247</td><td>0.6282143</td><td>0.7773079</td><td>0.2605173</td><td>0.138459</td><td>0.6324823</td><td>0.7825889</td><td>0.2622873</td><td>0.03454963</td><td>0.1578231</td><td>0.1952791</td><td>0.06544844</td><td> 0.2942161</td></tr>\n",
       "\t<tr><td>35.73333</td><td>-81.38333</td><td>18</td><td>3804</td><td>90</td><td>0.002876094</td><td>0.05719898</td><td>0.3081284</td><td>0.4496073</td><td>0.006202851</td><td>0.1233606</td><td>0.6645381</td><td>0.9696646</td><td>0.003315591</td><td>0.06593958</td><td>0.3552136</td><td>0.5183119</td><td> 4.3502496</td><td>18</td><td>3810</td><td> 93</td><td>0.004991112</td><td>0.1002424</td><td>0.5453352</td><td>0.8035889</td><td>0.005162994</td><td>0.1036945</td><td>0.5641153</td><td>0.8312627</td><td>0.001323694</td><td>0.02658529</td><td>0.1446284</td><td>0.2131199</td><td>-0.06862756</td><td>18</td><td>3811</td><td>96</td><td>0.1375247</td><td>0.6282143</td><td>0.7773079</td><td>0.2605173</td><td>0.138459</td><td>0.6324823</td><td>0.7825889</td><td>0.2622873</td><td>0.03454963</td><td>0.1578231</td><td>0.1952791</td><td>0.06544844</td><td> 1.1701604</td></tr>\n",
       "\t<tr><td>35.60000</td><td>-88.91666</td><td>19</td><td>3804</td><td>87</td><td>0.002876094</td><td>0.05719898</td><td>0.3081284</td><td>0.4496073</td><td>0.006202851</td><td>0.1233606</td><td>0.6645381</td><td>0.9696646</td><td>0.003315591</td><td>0.06593958</td><td>0.3552136</td><td>0.5183119</td><td> 1.4674034</td><td>19</td><td>3810</td><td> 94</td><td>0.004991112</td><td>0.1002424</td><td>0.5453352</td><td>0.8035889</td><td>0.005162994</td><td>0.1036945</td><td>0.5641153</td><td>0.8312627</td><td>0.001323694</td><td>0.02658529</td><td>0.1446284</td><td>0.2131199</td><td> 0.98082985</td><td>19</td><td>3811</td><td>97</td><td>0.1375247</td><td>0.6282143</td><td>0.7773079</td><td>0.2605173</td><td>0.138459</td><td>0.6324823</td><td>0.7825889</td><td>0.2622873</td><td>0.03454963</td><td>0.1578231</td><td>0.1952791</td><td>0.06544844</td><td> 2.0461047</td></tr>\n",
       "\t<tr><td>39.35000</td><td>-81.43333</td><td>20</td><td>3804</td><td>86</td><td>0.002876094</td><td>0.05719898</td><td>0.3081284</td><td>0.4496073</td><td>0.006202851</td><td>0.1233606</td><td>0.6645381</td><td>0.9696646</td><td>0.003315591</td><td>0.06593958</td><td>0.3552136</td><td>0.5183119</td><td> 0.5845573</td><td>20</td><td>3810</td><td> 95</td><td>0.004991112</td><td>0.1002424</td><td>0.5453352</td><td>0.8035889</td><td>0.005162994</td><td>0.1036945</td><td>0.5641153</td><td>0.8312627</td><td>0.001323694</td><td>0.02658529</td><td>0.1446284</td><td>0.2131199</td><td> 2.03028725</td><td>20</td><td>3811</td><td>94</td><td>0.1375247</td><td>0.6282143</td><td>0.7773079</td><td>0.2605173</td><td>0.138459</td><td>0.6324823</td><td>0.7825889</td><td>0.2622873</td><td>0.03454963</td><td>0.1578231</td><td>0.1952791</td><td>0.06544844</td><td>-1.0779510</td></tr>\n",
       "\t<tr><td>35.73333</td><td>-81.38333</td><td>21</td><td>3804</td><td>82</td><td>0.002876094</td><td>0.05719898</td><td>0.3081284</td><td>0.4496073</td><td>0.006202851</td><td>0.1233606</td><td>0.6645381</td><td>0.9696646</td><td>0.003315591</td><td>0.06593958</td><td>0.3552136</td><td>0.5183119</td><td>-3.2982889</td><td>21</td><td>3810</td><td> 93</td><td>0.004991112</td><td>0.1002424</td><td>0.5453352</td><td>0.8035889</td><td>0.005162994</td><td>0.1036945</td><td>0.5641153</td><td>0.8312627</td><td>0.001323694</td><td>0.02658529</td><td>0.1446284</td><td>0.2131199</td><td> 0.07974466</td><td>21</td><td>3811</td><td>96</td><td>0.1375247</td><td>0.6282143</td><td>0.7773079</td><td>0.2605173</td><td>0.138459</td><td>0.6324823</td><td>0.7825889</td><td>0.2622873</td><td>0.03454963</td><td>0.1578231</td><td>0.1952791</td><td>0.06544844</td><td> 0.7979933</td></tr>\n",
       "\t<tr><td>35.60000</td><td>-88.91666</td><td>22</td><td>3804</td><td>81</td><td>0.002876094</td><td>0.05719898</td><td>0.3081284</td><td>0.4496073</td><td>0.006202851</td><td>0.1233606</td><td>0.6645381</td><td>0.9696646</td><td>0.003315591</td><td>0.06593958</td><td>0.3552136</td><td>0.5183119</td><td>-4.1811351</td><td>22</td><td>3810</td><td> 91</td><td>0.004991112</td><td>0.1002424</td><td>0.5453352</td><td>0.8035889</td><td>0.005162994</td><td>0.1036945</td><td>0.5641153</td><td>0.8312627</td><td>0.001323694</td><td>0.02658529</td><td>0.1446284</td><td>0.2131199</td><td>-1.87079793</td><td>22</td><td>3811</td><td>97</td><td>0.1375247</td><td>0.6282143</td><td>0.7773079</td><td>0.2605173</td><td>0.138459</td><td>0.6324823</td><td>0.7825889</td><td>0.2622873</td><td>0.03454963</td><td>0.1578231</td><td>0.1952791</td><td>0.06544844</td><td> 1.6739376</td></tr>\n",
       "\t<tr><td>39.35000</td><td>-81.43333</td><td>23</td><td>3804</td><td>82</td><td>0.002876094</td><td>0.05719898</td><td>0.3081284</td><td>0.4496073</td><td>0.006202851</td><td>0.1233606</td><td>0.6645381</td><td>0.9696646</td><td>0.003315591</td><td>0.06593958</td><td>0.3552136</td><td>0.5183119</td><td>-3.0639812</td><td>23</td><td>3810</td><td> 89</td><td>0.004991112</td><td>0.1002424</td><td>0.5453352</td><td>0.8035889</td><td>0.005162994</td><td>0.1036945</td><td>0.5641153</td><td>0.8312627</td><td>0.001323694</td><td>0.02658529</td><td>0.1446284</td><td>0.2131199</td><td>-3.82134052</td><td>23</td><td>3811</td><td>95</td><td>0.1375247</td><td>0.6282143</td><td>0.7773079</td><td>0.2605173</td><td>0.138459</td><td>0.6324823</td><td>0.7825889</td><td>0.2622873</td><td>0.03454963</td><td>0.1578231</td><td>0.1952791</td><td>0.06544844</td><td>-0.4501181</td></tr>\n",
       "\t<tr><td>35.73333</td><td>-81.38333</td><td>24</td><td>3804</td><td>87</td><td>0.002876094</td><td>0.05719898</td><td>0.3081284</td><td>0.4496073</td><td>0.006202851</td><td>0.1233606</td><td>0.6645381</td><td>0.9696646</td><td>0.003315591</td><td>0.06593958</td><td>0.3552136</td><td>0.5183119</td><td> 2.0531726</td><td>24</td><td>3810</td><td> 88</td><td>0.004991112</td><td>0.1002424</td><td>0.5453352</td><td>0.8035889</td><td>0.005162994</td><td>0.1036945</td><td>0.5641153</td><td>0.8312627</td><td>0.001323694</td><td>0.02658529</td><td>0.1446284</td><td>0.2131199</td><td>-4.77188312</td><td>24</td><td>3811</td><td>96</td><td>0.1375247</td><td>0.6282143</td><td>0.7773079</td><td>0.2605173</td><td>0.138459</td><td>0.6324823</td><td>0.7825889</td><td>0.2622873</td><td>0.03454963</td><td>0.1578231</td><td>0.1952791</td><td>0.06544844</td><td> 0.4258263</td></tr>\n",
       "\t<tr><td>35.60000</td><td>-88.91666</td><td>25</td><td>3804</td><td>92</td><td>0.002876094</td><td>0.05719898</td><td>0.3081284</td><td>0.4496073</td><td>0.006202851</td><td>0.1233606</td><td>0.6645381</td><td>0.9696646</td><td>0.003315591</td><td>0.06593958</td><td>0.3552136</td><td>0.5183119</td><td> 7.1703265</td><td>25</td><td>3810</td><td> 95</td><td>0.004991112</td><td>0.1002424</td><td>0.5453352</td><td>0.8035889</td><td>0.005162994</td><td>0.1036945</td><td>0.5641153</td><td>0.8312627</td><td>0.001323694</td><td>0.02658529</td><td>0.1446284</td><td>0.2131199</td><td> 2.27757429</td><td>25</td><td>3811</td><td>97</td><td>0.1375247</td><td>0.6282143</td><td>0.7773079</td><td>0.2605173</td><td>0.138459</td><td>0.6324823</td><td>0.7825889</td><td>0.2622873</td><td>0.03454963</td><td>0.1578231</td><td>0.1952791</td><td>0.06544844</td><td> 1.3017706</td></tr>\n",
       "\t<tr><td>39.35000</td><td>-81.43333</td><td>26</td><td>3804</td><td>94</td><td>0.002876094</td><td>0.05719898</td><td>0.3081284</td><td>0.4496073</td><td>0.006202851</td><td>0.1233606</td><td>0.6645381</td><td>0.9696646</td><td>0.003315591</td><td>0.06593958</td><td>0.3552136</td><td>0.5183119</td><td> 9.2874803</td><td>26</td><td>3810</td><td> 86</td><td>0.004991112</td><td>0.1002424</td><td>0.5453352</td><td>0.8035889</td><td>0.005162994</td><td>0.1036945</td><td>0.5641153</td><td>0.8312627</td><td>0.001323694</td><td>0.02658529</td><td>0.1446284</td><td>0.2131199</td><td>-6.67296830</td><td>26</td><td>3811</td><td>98</td><td>0.1375247</td><td>0.6282143</td><td>0.7773079</td><td>0.2605173</td><td>0.138459</td><td>0.6324823</td><td>0.7825889</td><td>0.2622873</td><td>0.03454963</td><td>0.1578231</td><td>0.1952791</td><td>0.06544844</td><td> 2.1777149</td></tr>\n",
       "\t<tr><td>35.73333</td><td>-81.38333</td><td>27</td><td>3804</td><td>92</td><td>0.002876094</td><td>0.05719898</td><td>0.3081284</td><td>0.4496073</td><td>0.006202851</td><td>0.1233606</td><td>0.6645381</td><td>0.9696646</td><td>0.003315591</td><td>0.06593958</td><td>0.3552136</td><td>0.5183119</td><td> 7.4046342</td><td>27</td><td>3810</td><td> 94</td><td>0.004991112</td><td>0.1002424</td><td>0.5453352</td><td>0.8035889</td><td>0.005162994</td><td>0.1036945</td><td>0.5641153</td><td>0.8312627</td><td>0.001323694</td><td>0.02658529</td><td>0.1446284</td><td>0.2131199</td><td> 1.37648911</td><td>27</td><td>3811</td><td>98</td><td>0.1375247</td><td>0.6282143</td><td>0.7773079</td><td>0.2605173</td><td>0.138459</td><td>0.6324823</td><td>0.7825889</td><td>0.2622873</td><td>0.03454963</td><td>0.1578231</td><td>0.1952791</td><td>0.06544844</td><td> 2.0536592</td></tr>\n",
       "\t<tr><td>35.60000</td><td>-88.91666</td><td>28</td><td>3804</td><td>95</td><td>0.002876094</td><td>0.05719898</td><td>0.3081284</td><td>0.4496073</td><td>0.006202851</td><td>0.1233606</td><td>0.6645381</td><td>0.9696646</td><td>0.003315591</td><td>0.06593958</td><td>0.3552136</td><td>0.5183119</td><td>10.5217880</td><td>28</td><td>3810</td><td> 96</td><td>0.004991112</td><td>0.1002424</td><td>0.5453352</td><td>0.8035889</td><td>0.005162994</td><td>0.1036945</td><td>0.5641153</td><td>0.8312627</td><td>0.001323694</td><td>0.02658529</td><td>0.1446284</td><td>0.2131199</td><td> 3.42594651</td><td>28</td><td>3811</td><td>97</td><td>0.1375247</td><td>0.6282143</td><td>0.7773079</td><td>0.2605173</td><td>0.138459</td><td>0.6324823</td><td>0.7825889</td><td>0.2622873</td><td>0.03454963</td><td>0.1578231</td><td>0.1952791</td><td>0.06544844</td><td> 0.9296035</td></tr>\n",
       "\t<tr><td>39.35000</td><td>-81.43333</td><td>29</td><td>3804</td><td>86</td><td>0.002876094</td><td>0.05719898</td><td>0.3081284</td><td>0.4496073</td><td>0.006202851</td><td>0.1233606</td><td>0.6645381</td><td>0.9696646</td><td>0.003315591</td><td>0.06593958</td><td>0.3552136</td><td>0.5183119</td><td> 1.6389419</td><td>29</td><td>3810</td><td> 96</td><td>0.004991112</td><td>0.1002424</td><td>0.5453352</td><td>0.8035889</td><td>0.005162994</td><td>0.1036945</td><td>0.5641153</td><td>0.8312627</td><td>0.001323694</td><td>0.02658529</td><td>0.1446284</td><td>0.2131199</td><td> 3.47540392</td><td>29</td><td>3811</td><td>96</td><td>0.1375247</td><td>0.6282143</td><td>0.7773079</td><td>0.2605173</td><td>0.138459</td><td>0.6324823</td><td>0.7825889</td><td>0.2622873</td><td>0.03454963</td><td>0.1578231</td><td>0.1952791</td><td>0.06544844</td><td>-0.1944522</td></tr>\n",
       "\t<tr><td>35.73333</td><td>-81.38333</td><td>30</td><td>3804</td><td>76</td><td>0.002876094</td><td>0.05719898</td><td>0.3081284</td><td>0.4496073</td><td>0.006202851</td><td>0.1233606</td><td>0.6645381</td><td>0.9696646</td><td>0.003315591</td><td>0.06593958</td><td>0.3552136</td><td>0.5183119</td><td>-8.2439043</td><td>30</td><td>3810</td><td> 88</td><td>0.004991112</td><td>0.1002424</td><td>0.5453352</td><td>0.8035889</td><td>0.005162994</td><td>0.1036945</td><td>0.5641153</td><td>0.8312627</td><td>0.001323694</td><td>0.02658529</td><td>0.1446284</td><td>0.2131199</td><td>-4.47513867</td><td>30</td><td>3811</td><td>94</td><td>0.1375247</td><td>0.6282143</td><td>0.7773079</td><td>0.2605173</td><td>0.138459</td><td>0.6324823</td><td>0.7825889</td><td>0.2622873</td><td>0.03454963</td><td>0.1578231</td><td>0.1952791</td><td>0.06544844</td><td>-2.3185078</td></tr>\n",
       "\t<tr><td>35.60000</td><td>-88.91666</td><td>31</td><td>3804</td><td>85</td><td>0.002876094</td><td>0.05719898</td><td>0.3081284</td><td>0.4496073</td><td>0.006202851</td><td>0.1233606</td><td>0.6645381</td><td>0.9696646</td><td>0.003315591</td><td>0.06593958</td><td>0.3552136</td><td>0.5183119</td><td> 0.8732496</td><td>31</td><td>3810</td><td> 88</td><td>0.004991112</td><td>0.1002424</td><td>0.5453352</td><td>0.8035889</td><td>0.005162994</td><td>0.1036945</td><td>0.5641153</td><td>0.8312627</td><td>0.001323694</td><td>0.02658529</td><td>0.1446284</td><td>0.2131199</td><td>-4.42568126</td><td>31</td><td>3811</td><td>93</td><td>0.1375247</td><td>0.6282143</td><td>0.7773079</td><td>0.2605173</td><td>0.138459</td><td>0.6324823</td><td>0.7825889</td><td>0.2622873</td><td>0.03454963</td><td>0.1578231</td><td>0.1952791</td><td>0.06544844</td><td>-3.4425635</td></tr>\n",
       "</tbody>\n",
       "</table>\n"
      ],
      "text/latex": [
       "A grouped\\_df: 3 × 3\n",
       "\\begin{tabular}{lll}\n",
       " lat & lon & data & NA & NA & NA & NA & NA & NA & NA & NA & NA & NA & NA & NA & NA & NA & NA & NA & NA & NA & NA & NA & NA & NA & NA & NA & NA & NA & NA & NA & NA & NA & NA & NA & NA & NA & NA & NA & NA & NA & NA & NA & NA & NA & NA & NA & NA & NA & NA\\\\\n",
       " <dbl> & <dbl> & <list>\\\\\n",
       "\\hline\n",
       "\t 39.35000 & -81.43333 &  1 & 3804 & 82 & 0.002876094 & 0.05719898 & 0.3081284 & 0.4496073 & 0.006202851 & 0.1233606 & 0.6645381 & 0.9696646 & 0.003315591 & 0.06593958 & 0.3552136 & 0.5183119 & -5.6413658 &  1 & 3810 &  93 & 0.004991112 & 0.1002424 & 0.5453352 & 0.8035889 & 0.005162994 & 0.1036945 & 0.5641153 & 0.8312627 & 0.001323694 & 0.02658529 & 0.1446284 & 0.2131199 & -0.90940349 &  1 & 3811 & 91 & 0.1375247 & 0.6282143 & 0.7773079 & 0.2605173 & 0.138459 & 0.6324823 & 0.7825889 & 0.2622873 & 0.03454963 & 0.1578231 & 0.1952791 & 0.06544844 & -1.7208930\\\\\n",
       "\t 35.73333 & -81.38333 &  2 & 3804 & 84 & 0.002876094 & 0.05719898 & 0.3081284 & 0.4496073 & 0.006202851 & 0.1233606 & 0.6645381 & 0.9696646 & 0.003315591 & 0.06593958 & 0.3552136 & 0.5183119 & -3.5242120 &  2 & 3810 &  93 & 0.004991112 & 0.1002424 & 0.5453352 & 0.8035889 & 0.005162994 & 0.1036945 & 0.5641153 & 0.8312627 & 0.001323694 & 0.02658529 & 0.1446284 & 0.2131199 & -0.85994608 &  2 & 3811 & 92 & 0.1375247 & 0.6282143 & 0.7773079 & 0.2605173 & 0.138459 & 0.6324823 & 0.7825889 & 0.2622873 & 0.03454963 & 0.1578231 & 0.1952791 & 0.06544844 & -0.8449487\\\\\n",
       "\t 35.60000 & -88.91666 &  3 & 3804 & 88 & 0.002876094 & 0.05719898 & 0.3081284 & 0.4496073 & 0.006202851 & 0.1233606 & 0.6645381 & 0.9696646 & 0.003315591 & 0.06593958 & 0.3552136 & 0.5183119 &  0.5929419 &  3 & 3810 &  96 & 0.004991112 & 0.1002424 & 0.5453352 & 0.8035889 & 0.005162994 & 0.1036945 & 0.5641153 & 0.8312627 & 0.001323694 & 0.02658529 & 0.1446284 & 0.2131199 &  2.18951133 &  3 & 3811 & 94 & 0.1375247 & 0.6282143 & 0.7773079 & 0.2605173 & 0.138459 & 0.6324823 & 0.7825889 & 0.2622873 & 0.03454963 & 0.1578231 & 0.1952791 & 0.06544844 &  1.0309956\\\\\n",
       "\t 39.35000 & -81.43333 &  4 & 3804 & 90 & 0.002876094 & 0.05719898 & 0.3081284 & 0.4496073 & 0.006202851 & 0.1233606 & 0.6645381 & 0.9696646 & 0.003315591 & 0.06593958 & 0.3552136 & 0.5183119 &  2.7100957 &  4 & 3810 &  97 & 0.004991112 & 0.1002424 & 0.5453352 & 0.8035889 & 0.005162994 & 0.1036945 & 0.5641153 & 0.8312627 & 0.001323694 & 0.02658529 & 0.1446284 & 0.2131199 &  3.23896873 &  4 & 3811 & 95 & 0.1375247 & 0.6282143 & 0.7773079 & 0.2605173 & 0.138459 & 0.6324823 & 0.7825889 & 0.2622873 & 0.03454963 & 0.1578231 & 0.1952791 & 0.06544844 &  1.9069399\\\\\n",
       "\t 35.73333 & -81.38333 &  5 & 3804 & 92 & 0.002876094 & 0.05719898 & 0.3081284 & 0.4496073 & 0.006202851 & 0.1233606 & 0.6645381 & 0.9696646 & 0.003315591 & 0.06593958 & 0.3552136 & 0.5183119 &  4.8272496 &  5 & 3810 &  99 & 0.004991112 & 0.1002424 & 0.5453352 & 0.8035889 & 0.005162994 & 0.1036945 & 0.5641153 & 0.8312627 & 0.001323694 & 0.02658529 & 0.1446284 & 0.2131199 &  5.28842614 &  5 & 3811 & 92 & 0.1375247 & 0.6282143 & 0.7773079 & 0.2605173 & 0.138459 & 0.6324823 & 0.7825889 & 0.2622873 & 0.03454963 & 0.1578231 & 0.1952791 & 0.06544844 & -1.2171157\\\\\n",
       "\t 35.60000 & -88.91666 &  6 & 3804 & 91 & 0.002876094 & 0.05719898 & 0.3081284 & 0.4496073 & 0.006202851 & 0.1233606 & 0.6645381 & 0.9696646 & 0.003315591 & 0.06593958 & 0.3552136 & 0.5183119 &  3.9444034 &  6 & 3810 &  98 & 0.004991112 & 0.1002424 & 0.5453352 & 0.8035889 & 0.005162994 & 0.1036945 & 0.5641153 & 0.8312627 & 0.001323694 & 0.02658529 & 0.1446284 & 0.2131199 &  4.33788355 &  6 & 3811 & 93 & 0.1375247 & 0.6282143 & 0.7773079 & 0.2605173 & 0.138459 & 0.6324823 & 0.7825889 & 0.2622873 & 0.03454963 & 0.1578231 & 0.1952791 & 0.06544844 & -0.3411714\\\\\n",
       "\t 39.35000 & -81.43333 &  7 & 3804 & 92 & 0.002876094 & 0.05719898 & 0.3081284 & 0.4496073 & 0.006202851 & 0.1233606 & 0.6645381 & 0.9696646 & 0.003315591 & 0.06593958 & 0.3552136 & 0.5183119 &  5.0615572 &  7 & 3810 & 100 & 0.004991112 & 0.1002424 & 0.5453352 & 0.8035889 & 0.005162994 & 0.1036945 & 0.5641153 & 0.8312627 & 0.001323694 & 0.02658529 & 0.1446284 & 0.2131199 &  6.38734096 &  7 & 3811 & 93 & 0.1375247 & 0.6282143 & 0.7773079 & 0.2605173 & 0.138459 & 0.6324823 & 0.7825889 & 0.2622873 & 0.03454963 & 0.1578231 & 0.1952791 & 0.06544844 & -0.4652271\\\\\n",
       "\t 35.73333 & -81.38333 &  8 & 3804 & 94 & 0.002876094 & 0.05719898 & 0.3081284 & 0.4496073 & 0.006202851 & 0.1233606 & 0.6645381 & 0.9696646 & 0.003315591 & 0.06593958 & 0.3552136 & 0.5183119 &  7.1787111 &  8 & 3810 &  99 & 0.004991112 & 0.1002424 & 0.5453352 & 0.8035889 & 0.005162994 & 0.1036945 & 0.5641153 & 0.8312627 & 0.001323694 & 0.02658529 & 0.1446284 & 0.2131199 &  5.43679836 &  8 & 3811 & 96 & 0.1375247 & 0.6282143 & 0.7773079 & 0.2605173 & 0.138459 & 0.6324823 & 0.7825889 & 0.2622873 & 0.03454963 & 0.1578231 & 0.1952791 & 0.06544844 &  2.4107172\\\\\n",
       "\t 35.60000 & -88.91666 &  9 & 3804 & 96 & 0.002876094 & 0.05719898 & 0.3081284 & 0.4496073 & 0.006202851 & 0.1233606 & 0.6645381 & 0.9696646 & 0.003315591 & 0.06593958 & 0.3552136 & 0.5183119 &  9.2958649 &  9 & 3810 &  98 & 0.004991112 & 0.1002424 & 0.5453352 & 0.8035889 & 0.005162994 & 0.1036945 & 0.5641153 & 0.8312627 & 0.001323694 & 0.02658529 & 0.1446284 & 0.2131199 &  4.48625577 &  9 & 3811 & 96 & 0.1375247 & 0.6282143 & 0.7773079 & 0.2605173 & 0.138459 & 0.6324823 & 0.7825889 & 0.2622873 & 0.03454963 & 0.1578231 & 0.1952791 & 0.06544844 &  2.2866615\\\\\n",
       "\t 39.35000 & -81.43333 & 10 & 3804 & 93 & 0.002876094 & 0.05719898 & 0.3081284 & 0.4496073 & 0.006202851 & 0.1233606 & 0.6645381 & 0.9696646 & 0.003315591 & 0.06593958 & 0.3552136 & 0.5183119 &  6.4130188 & 10 & 3810 &  99 & 0.004991112 & 0.1002424 & 0.5453352 & 0.8035889 & 0.005162994 & 0.1036945 & 0.5641153 & 0.8312627 & 0.001323694 & 0.02658529 & 0.1446284 & 0.2131199 &  5.53571318 & 10 & 3811 & 96 & 0.1375247 & 0.6282143 & 0.7773079 & 0.2605173 & 0.138459 & 0.6324823 & 0.7825889 & 0.2622873 & 0.03454963 & 0.1578231 & 0.1952791 & 0.06544844 &  2.1626058\\\\\n",
       "\t 35.73333 & -81.38333 & 11 & 3804 & 94 & 0.002876094 & 0.05719898 & 0.3081284 & 0.4496073 & 0.006202851 & 0.1233606 & 0.6645381 & 0.9696646 & 0.003315591 & 0.06593958 & 0.3552136 & 0.5183119 &  7.5301726 & 11 & 3810 &  98 & 0.004991112 & 0.1002424 & 0.5453352 & 0.8035889 & 0.005162994 & 0.1036945 & 0.5641153 & 0.8312627 & 0.001323694 & 0.02658529 & 0.1446284 & 0.2131199 &  4.58517059 & 11 & 3811 & 90 & 0.1375247 & 0.6282143 & 0.7773079 & 0.2605173 & 0.138459 & 0.6324823 & 0.7825889 & 0.2622873 & 0.03454963 & 0.1578231 & 0.1952791 & 0.06544844 & -3.9614498\\\\\n",
       "\t 35.60000 & -88.91666 & 12 & 3804 & 85 & 0.002876094 & 0.05719898 & 0.3081284 & 0.4496073 & 0.006202851 & 0.1233606 & 0.6645381 & 0.9696646 & 0.003315591 & 0.06593958 & 0.3552136 & 0.5183119 & -1.3526735 & 12 & 3810 &  98 & 0.004991112 & 0.1002424 & 0.5453352 & 0.8035889 & 0.005162994 & 0.1036945 & 0.5641153 & 0.8312627 & 0.001323694 & 0.02658529 & 0.1446284 & 0.2131199 &  4.63462799 & 12 & 3811 & 96 & 0.1375247 & 0.6282143 & 0.7773079 & 0.2605173 & 0.138459 & 0.6324823 & 0.7825889 & 0.2622873 & 0.03454963 & 0.1578231 & 0.1952791 & 0.06544844 &  1.9144945\\\\\n",
       "\t 39.35000 & -81.43333 & 13 & 3804 & 92 & 0.002876094 & 0.05719898 & 0.3081284 & 0.4496073 & 0.006202851 & 0.1233606 & 0.6645381 & 0.9696646 & 0.003315591 & 0.06593958 & 0.3552136 & 0.5183119 &  5.7644803 & 13 & 3810 &  97 & 0.004991112 & 0.1002424 & 0.5453352 & 0.8035889 & 0.005162994 & 0.1036945 & 0.5641153 & 0.8312627 & 0.001323694 & 0.02658529 & 0.1446284 & 0.2131199 &  3.68408540 & 13 & 3811 & 92 & 0.1375247 & 0.6282143 & 0.7773079 & 0.2605173 & 0.138459 & 0.6324823 & 0.7825889 & 0.2622873 & 0.03454963 & 0.1578231 & 0.1952791 & 0.06544844 & -2.2095612\\\\\n",
       "\t 35.73333 & -81.38333 & 15 & 3804 & 80 & 0.002876094 & 0.05719898 & 0.3081284 & 0.4496073 & 0.006202851 & 0.1233606 & 0.6645381 & 0.9696646 & 0.003315591 & 0.06593958 & 0.3552136 & 0.5183119 & -6.0012120 & 15 & 3810 &  90 & 0.004991112 & 0.1002424 & 0.5453352 & 0.8035889 & 0.005162994 & 0.1036945 & 0.5641153 & 0.8312627 & 0.001323694 & 0.02658529 & 0.1446284 & 0.2131199 & -3.21699978 & 15 & 3811 & 93 & 0.1375247 & 0.6282143 & 0.7773079 & 0.2605173 & 0.138459 & 0.6324823 & 0.7825889 & 0.2622873 & 0.03454963 & 0.1578231 & 0.1952791 & 0.06544844 & -1.4576726\\\\\n",
       "\t 35.60000 & -88.91666 & 16 & 3804 & 85 & 0.002876094 & 0.05719898 & 0.3081284 & 0.4496073 & 0.006202851 & 0.1233606 & 0.6645381 & 0.9696646 & 0.003315591 & 0.06593958 & 0.3552136 & 0.5183119 & -0.8840581 & 16 & 3810 &  87 & 0.004991112 & 0.1002424 & 0.5453352 & 0.8035889 & 0.005162994 & 0.1036945 & 0.5641153 & 0.8312627 & 0.001323694 & 0.02658529 & 0.1446284 & 0.2131199 & -6.16754238 & 16 & 3811 & 94 & 0.1375247 & 0.6282143 & 0.7773079 & 0.2605173 & 0.138459 & 0.6324823 & 0.7825889 & 0.2622873 & 0.03454963 & 0.1578231 & 0.1952791 & 0.06544844 & -0.5817283\\\\\n",
       "\t 39.35000 & -81.43333 & 17 & 3804 & 87 & 0.002876094 & 0.05719898 & 0.3081284 & 0.4496073 & 0.006202851 & 0.1233606 & 0.6645381 & 0.9696646 & 0.003315591 & 0.06593958 & 0.3552136 & 0.5183119 &  1.2330957 & 17 & 3810 &  93 & 0.004991112 & 0.1002424 & 0.5453352 & 0.8035889 & 0.005162994 & 0.1036945 & 0.5641153 & 0.8312627 & 0.001323694 & 0.02658529 & 0.1446284 & 0.2131199 & -0.11808497 & 17 & 3811 & 95 & 0.1375247 & 0.6282143 & 0.7773079 & 0.2605173 & 0.138459 & 0.6324823 & 0.7825889 & 0.2622873 & 0.03454963 & 0.1578231 & 0.1952791 & 0.06544844 &  0.2942161\\\\\n",
       "\t 35.73333 & -81.38333 & 18 & 3804 & 90 & 0.002876094 & 0.05719898 & 0.3081284 & 0.4496073 & 0.006202851 & 0.1233606 & 0.6645381 & 0.9696646 & 0.003315591 & 0.06593958 & 0.3552136 & 0.5183119 &  4.3502496 & 18 & 3810 &  93 & 0.004991112 & 0.1002424 & 0.5453352 & 0.8035889 & 0.005162994 & 0.1036945 & 0.5641153 & 0.8312627 & 0.001323694 & 0.02658529 & 0.1446284 & 0.2131199 & -0.06862756 & 18 & 3811 & 96 & 0.1375247 & 0.6282143 & 0.7773079 & 0.2605173 & 0.138459 & 0.6324823 & 0.7825889 & 0.2622873 & 0.03454963 & 0.1578231 & 0.1952791 & 0.06544844 &  1.1701604\\\\\n",
       "\t 35.60000 & -88.91666 & 19 & 3804 & 87 & 0.002876094 & 0.05719898 & 0.3081284 & 0.4496073 & 0.006202851 & 0.1233606 & 0.6645381 & 0.9696646 & 0.003315591 & 0.06593958 & 0.3552136 & 0.5183119 &  1.4674034 & 19 & 3810 &  94 & 0.004991112 & 0.1002424 & 0.5453352 & 0.8035889 & 0.005162994 & 0.1036945 & 0.5641153 & 0.8312627 & 0.001323694 & 0.02658529 & 0.1446284 & 0.2131199 &  0.98082985 & 19 & 3811 & 97 & 0.1375247 & 0.6282143 & 0.7773079 & 0.2605173 & 0.138459 & 0.6324823 & 0.7825889 & 0.2622873 & 0.03454963 & 0.1578231 & 0.1952791 & 0.06544844 &  2.0461047\\\\\n",
       "\t 39.35000 & -81.43333 & 20 & 3804 & 86 & 0.002876094 & 0.05719898 & 0.3081284 & 0.4496073 & 0.006202851 & 0.1233606 & 0.6645381 & 0.9696646 & 0.003315591 & 0.06593958 & 0.3552136 & 0.5183119 &  0.5845573 & 20 & 3810 &  95 & 0.004991112 & 0.1002424 & 0.5453352 & 0.8035889 & 0.005162994 & 0.1036945 & 0.5641153 & 0.8312627 & 0.001323694 & 0.02658529 & 0.1446284 & 0.2131199 &  2.03028725 & 20 & 3811 & 94 & 0.1375247 & 0.6282143 & 0.7773079 & 0.2605173 & 0.138459 & 0.6324823 & 0.7825889 & 0.2622873 & 0.03454963 & 0.1578231 & 0.1952791 & 0.06544844 & -1.0779510\\\\\n",
       "\t 35.73333 & -81.38333 & 21 & 3804 & 82 & 0.002876094 & 0.05719898 & 0.3081284 & 0.4496073 & 0.006202851 & 0.1233606 & 0.6645381 & 0.9696646 & 0.003315591 & 0.06593958 & 0.3552136 & 0.5183119 & -3.2982889 & 21 & 3810 &  93 & 0.004991112 & 0.1002424 & 0.5453352 & 0.8035889 & 0.005162994 & 0.1036945 & 0.5641153 & 0.8312627 & 0.001323694 & 0.02658529 & 0.1446284 & 0.2131199 &  0.07974466 & 21 & 3811 & 96 & 0.1375247 & 0.6282143 & 0.7773079 & 0.2605173 & 0.138459 & 0.6324823 & 0.7825889 & 0.2622873 & 0.03454963 & 0.1578231 & 0.1952791 & 0.06544844 &  0.7979933\\\\\n",
       "\t 35.60000 & -88.91666 & 22 & 3804 & 81 & 0.002876094 & 0.05719898 & 0.3081284 & 0.4496073 & 0.006202851 & 0.1233606 & 0.6645381 & 0.9696646 & 0.003315591 & 0.06593958 & 0.3552136 & 0.5183119 & -4.1811351 & 22 & 3810 &  91 & 0.004991112 & 0.1002424 & 0.5453352 & 0.8035889 & 0.005162994 & 0.1036945 & 0.5641153 & 0.8312627 & 0.001323694 & 0.02658529 & 0.1446284 & 0.2131199 & -1.87079793 & 22 & 3811 & 97 & 0.1375247 & 0.6282143 & 0.7773079 & 0.2605173 & 0.138459 & 0.6324823 & 0.7825889 & 0.2622873 & 0.03454963 & 0.1578231 & 0.1952791 & 0.06544844 &  1.6739376\\\\\n",
       "\t 39.35000 & -81.43333 & 23 & 3804 & 82 & 0.002876094 & 0.05719898 & 0.3081284 & 0.4496073 & 0.006202851 & 0.1233606 & 0.6645381 & 0.9696646 & 0.003315591 & 0.06593958 & 0.3552136 & 0.5183119 & -3.0639812 & 23 & 3810 &  89 & 0.004991112 & 0.1002424 & 0.5453352 & 0.8035889 & 0.005162994 & 0.1036945 & 0.5641153 & 0.8312627 & 0.001323694 & 0.02658529 & 0.1446284 & 0.2131199 & -3.82134052 & 23 & 3811 & 95 & 0.1375247 & 0.6282143 & 0.7773079 & 0.2605173 & 0.138459 & 0.6324823 & 0.7825889 & 0.2622873 & 0.03454963 & 0.1578231 & 0.1952791 & 0.06544844 & -0.4501181\\\\\n",
       "\t 35.73333 & -81.38333 & 24 & 3804 & 87 & 0.002876094 & 0.05719898 & 0.3081284 & 0.4496073 & 0.006202851 & 0.1233606 & 0.6645381 & 0.9696646 & 0.003315591 & 0.06593958 & 0.3552136 & 0.5183119 &  2.0531726 & 24 & 3810 &  88 & 0.004991112 & 0.1002424 & 0.5453352 & 0.8035889 & 0.005162994 & 0.1036945 & 0.5641153 & 0.8312627 & 0.001323694 & 0.02658529 & 0.1446284 & 0.2131199 & -4.77188312 & 24 & 3811 & 96 & 0.1375247 & 0.6282143 & 0.7773079 & 0.2605173 & 0.138459 & 0.6324823 & 0.7825889 & 0.2622873 & 0.03454963 & 0.1578231 & 0.1952791 & 0.06544844 &  0.4258263\\\\\n",
       "\t 35.60000 & -88.91666 & 25 & 3804 & 92 & 0.002876094 & 0.05719898 & 0.3081284 & 0.4496073 & 0.006202851 & 0.1233606 & 0.6645381 & 0.9696646 & 0.003315591 & 0.06593958 & 0.3552136 & 0.5183119 &  7.1703265 & 25 & 3810 &  95 & 0.004991112 & 0.1002424 & 0.5453352 & 0.8035889 & 0.005162994 & 0.1036945 & 0.5641153 & 0.8312627 & 0.001323694 & 0.02658529 & 0.1446284 & 0.2131199 &  2.27757429 & 25 & 3811 & 97 & 0.1375247 & 0.6282143 & 0.7773079 & 0.2605173 & 0.138459 & 0.6324823 & 0.7825889 & 0.2622873 & 0.03454963 & 0.1578231 & 0.1952791 & 0.06544844 &  1.3017706\\\\\n",
       "\t 39.35000 & -81.43333 & 26 & 3804 & 94 & 0.002876094 & 0.05719898 & 0.3081284 & 0.4496073 & 0.006202851 & 0.1233606 & 0.6645381 & 0.9696646 & 0.003315591 & 0.06593958 & 0.3552136 & 0.5183119 &  9.2874803 & 26 & 3810 &  86 & 0.004991112 & 0.1002424 & 0.5453352 & 0.8035889 & 0.005162994 & 0.1036945 & 0.5641153 & 0.8312627 & 0.001323694 & 0.02658529 & 0.1446284 & 0.2131199 & -6.67296830 & 26 & 3811 & 98 & 0.1375247 & 0.6282143 & 0.7773079 & 0.2605173 & 0.138459 & 0.6324823 & 0.7825889 & 0.2622873 & 0.03454963 & 0.1578231 & 0.1952791 & 0.06544844 &  2.1777149\\\\\n",
       "\t 35.73333 & -81.38333 & 27 & 3804 & 92 & 0.002876094 & 0.05719898 & 0.3081284 & 0.4496073 & 0.006202851 & 0.1233606 & 0.6645381 & 0.9696646 & 0.003315591 & 0.06593958 & 0.3552136 & 0.5183119 &  7.4046342 & 27 & 3810 &  94 & 0.004991112 & 0.1002424 & 0.5453352 & 0.8035889 & 0.005162994 & 0.1036945 & 0.5641153 & 0.8312627 & 0.001323694 & 0.02658529 & 0.1446284 & 0.2131199 &  1.37648911 & 27 & 3811 & 98 & 0.1375247 & 0.6282143 & 0.7773079 & 0.2605173 & 0.138459 & 0.6324823 & 0.7825889 & 0.2622873 & 0.03454963 & 0.1578231 & 0.1952791 & 0.06544844 &  2.0536592\\\\\n",
       "\t 35.60000 & -88.91666 & 28 & 3804 & 95 & 0.002876094 & 0.05719898 & 0.3081284 & 0.4496073 & 0.006202851 & 0.1233606 & 0.6645381 & 0.9696646 & 0.003315591 & 0.06593958 & 0.3552136 & 0.5183119 & 10.5217880 & 28 & 3810 &  96 & 0.004991112 & 0.1002424 & 0.5453352 & 0.8035889 & 0.005162994 & 0.1036945 & 0.5641153 & 0.8312627 & 0.001323694 & 0.02658529 & 0.1446284 & 0.2131199 &  3.42594651 & 28 & 3811 & 97 & 0.1375247 & 0.6282143 & 0.7773079 & 0.2605173 & 0.138459 & 0.6324823 & 0.7825889 & 0.2622873 & 0.03454963 & 0.1578231 & 0.1952791 & 0.06544844 &  0.9296035\\\\\n",
       "\t 39.35000 & -81.43333 & 29 & 3804 & 86 & 0.002876094 & 0.05719898 & 0.3081284 & 0.4496073 & 0.006202851 & 0.1233606 & 0.6645381 & 0.9696646 & 0.003315591 & 0.06593958 & 0.3552136 & 0.5183119 &  1.6389419 & 29 & 3810 &  96 & 0.004991112 & 0.1002424 & 0.5453352 & 0.8035889 & 0.005162994 & 0.1036945 & 0.5641153 & 0.8312627 & 0.001323694 & 0.02658529 & 0.1446284 & 0.2131199 &  3.47540392 & 29 & 3811 & 96 & 0.1375247 & 0.6282143 & 0.7773079 & 0.2605173 & 0.138459 & 0.6324823 & 0.7825889 & 0.2622873 & 0.03454963 & 0.1578231 & 0.1952791 & 0.06544844 & -0.1944522\\\\\n",
       "\t 35.73333 & -81.38333 & 30 & 3804 & 76 & 0.002876094 & 0.05719898 & 0.3081284 & 0.4496073 & 0.006202851 & 0.1233606 & 0.6645381 & 0.9696646 & 0.003315591 & 0.06593958 & 0.3552136 & 0.5183119 & -8.2439043 & 30 & 3810 &  88 & 0.004991112 & 0.1002424 & 0.5453352 & 0.8035889 & 0.005162994 & 0.1036945 & 0.5641153 & 0.8312627 & 0.001323694 & 0.02658529 & 0.1446284 & 0.2131199 & -4.47513867 & 30 & 3811 & 94 & 0.1375247 & 0.6282143 & 0.7773079 & 0.2605173 & 0.138459 & 0.6324823 & 0.7825889 & 0.2622873 & 0.03454963 & 0.1578231 & 0.1952791 & 0.06544844 & -2.3185078\\\\\n",
       "\t 35.60000 & -88.91666 & 31 & 3804 & 85 & 0.002876094 & 0.05719898 & 0.3081284 & 0.4496073 & 0.006202851 & 0.1233606 & 0.6645381 & 0.9696646 & 0.003315591 & 0.06593958 & 0.3552136 & 0.5183119 &  0.8732496 & 31 & 3810 &  88 & 0.004991112 & 0.1002424 & 0.5453352 & 0.8035889 & 0.005162994 & 0.1036945 & 0.5641153 & 0.8312627 & 0.001323694 & 0.02658529 & 0.1446284 & 0.2131199 & -4.42568126 & 31 & 3811 & 93 & 0.1375247 & 0.6282143 & 0.7773079 & 0.2605173 & 0.138459 & 0.6324823 & 0.7825889 & 0.2622873 & 0.03454963 & 0.1578231 & 0.1952791 & 0.06544844 & -3.4425635\\\\\n",
       "\\end{tabular}\n"
      ],
      "text/markdown": [
       "\n",
       "A grouped_df: 3 × 3\n",
       "\n",
       "| lat &lt;dbl&gt; | lon &lt;dbl&gt; | data &lt;list&gt; | NA &lt;dbl&gt; | NA &lt;dbl&gt; | NA &lt;list&gt; | NA &lt;dbl&gt; | NA &lt;dbl&gt; | NA &lt;list&gt; | NA &lt;dbl&gt; | NA &lt;dbl&gt; | NA &lt;list&gt; | NA &lt;dbl&gt; | NA &lt;dbl&gt; | NA &lt;list&gt; | NA &lt;dbl&gt; | NA &lt;dbl&gt; | NA &lt;list&gt; | NA &lt;dbl&gt; | NA &lt;dbl&gt; | NA &lt;list&gt; | NA &lt;dbl&gt; | NA &lt;dbl&gt; | NA &lt;list&gt; | NA &lt;dbl&gt; | NA &lt;dbl&gt; | NA &lt;list&gt; | NA &lt;dbl&gt; | NA &lt;dbl&gt; | NA &lt;list&gt; | NA &lt;dbl&gt; | NA &lt;dbl&gt; | NA &lt;list&gt; | NA &lt;dbl&gt; | NA &lt;dbl&gt; | NA &lt;list&gt; | NA &lt;dbl&gt; | NA &lt;dbl&gt; | NA &lt;list&gt; | NA &lt;dbl&gt; | NA &lt;dbl&gt; | NA &lt;list&gt; | NA &lt;dbl&gt; | NA &lt;dbl&gt; | NA &lt;list&gt; | NA &lt;dbl&gt; | NA &lt;dbl&gt; | NA &lt;list&gt; | NA &lt;dbl&gt; | NA &lt;dbl&gt; |\n",
       "|---|---|---|\n",
       "| 39.35000 | -81.43333 |  1 | 3804 | 82 | 0.002876094 | 0.05719898 | 0.3081284 | 0.4496073 | 0.006202851 | 0.1233606 | 0.6645381 | 0.9696646 | 0.003315591 | 0.06593958 | 0.3552136 | 0.5183119 | -5.6413658 |  1 | 3810 |  93 | 0.004991112 | 0.1002424 | 0.5453352 | 0.8035889 | 0.005162994 | 0.1036945 | 0.5641153 | 0.8312627 | 0.001323694 | 0.02658529 | 0.1446284 | 0.2131199 | -0.90940349 |  1 | 3811 | 91 | 0.1375247 | 0.6282143 | 0.7773079 | 0.2605173 | 0.138459 | 0.6324823 | 0.7825889 | 0.2622873 | 0.03454963 | 0.1578231 | 0.1952791 | 0.06544844 | -1.7208930 |\n",
       "| 35.73333 | -81.38333 |  2 | 3804 | 84 | 0.002876094 | 0.05719898 | 0.3081284 | 0.4496073 | 0.006202851 | 0.1233606 | 0.6645381 | 0.9696646 | 0.003315591 | 0.06593958 | 0.3552136 | 0.5183119 | -3.5242120 |  2 | 3810 |  93 | 0.004991112 | 0.1002424 | 0.5453352 | 0.8035889 | 0.005162994 | 0.1036945 | 0.5641153 | 0.8312627 | 0.001323694 | 0.02658529 | 0.1446284 | 0.2131199 | -0.85994608 |  2 | 3811 | 92 | 0.1375247 | 0.6282143 | 0.7773079 | 0.2605173 | 0.138459 | 0.6324823 | 0.7825889 | 0.2622873 | 0.03454963 | 0.1578231 | 0.1952791 | 0.06544844 | -0.8449487 |\n",
       "| 35.60000 | -88.91666 |  3 | 3804 | 88 | 0.002876094 | 0.05719898 | 0.3081284 | 0.4496073 | 0.006202851 | 0.1233606 | 0.6645381 | 0.9696646 | 0.003315591 | 0.06593958 | 0.3552136 | 0.5183119 |  0.5929419 |  3 | 3810 |  96 | 0.004991112 | 0.1002424 | 0.5453352 | 0.8035889 | 0.005162994 | 0.1036945 | 0.5641153 | 0.8312627 | 0.001323694 | 0.02658529 | 0.1446284 | 0.2131199 |  2.18951133 |  3 | 3811 | 94 | 0.1375247 | 0.6282143 | 0.7773079 | 0.2605173 | 0.138459 | 0.6324823 | 0.7825889 | 0.2622873 | 0.03454963 | 0.1578231 | 0.1952791 | 0.06544844 |  1.0309956 |\n",
       "| 39.35000 | -81.43333 |  4 | 3804 | 90 | 0.002876094 | 0.05719898 | 0.3081284 | 0.4496073 | 0.006202851 | 0.1233606 | 0.6645381 | 0.9696646 | 0.003315591 | 0.06593958 | 0.3552136 | 0.5183119 |  2.7100957 |  4 | 3810 |  97 | 0.004991112 | 0.1002424 | 0.5453352 | 0.8035889 | 0.005162994 | 0.1036945 | 0.5641153 | 0.8312627 | 0.001323694 | 0.02658529 | 0.1446284 | 0.2131199 |  3.23896873 |  4 | 3811 | 95 | 0.1375247 | 0.6282143 | 0.7773079 | 0.2605173 | 0.138459 | 0.6324823 | 0.7825889 | 0.2622873 | 0.03454963 | 0.1578231 | 0.1952791 | 0.06544844 |  1.9069399 |\n",
       "| 35.73333 | -81.38333 |  5 | 3804 | 92 | 0.002876094 | 0.05719898 | 0.3081284 | 0.4496073 | 0.006202851 | 0.1233606 | 0.6645381 | 0.9696646 | 0.003315591 | 0.06593958 | 0.3552136 | 0.5183119 |  4.8272496 |  5 | 3810 |  99 | 0.004991112 | 0.1002424 | 0.5453352 | 0.8035889 | 0.005162994 | 0.1036945 | 0.5641153 | 0.8312627 | 0.001323694 | 0.02658529 | 0.1446284 | 0.2131199 |  5.28842614 |  5 | 3811 | 92 | 0.1375247 | 0.6282143 | 0.7773079 | 0.2605173 | 0.138459 | 0.6324823 | 0.7825889 | 0.2622873 | 0.03454963 | 0.1578231 | 0.1952791 | 0.06544844 | -1.2171157 |\n",
       "| 35.60000 | -88.91666 |  6 | 3804 | 91 | 0.002876094 | 0.05719898 | 0.3081284 | 0.4496073 | 0.006202851 | 0.1233606 | 0.6645381 | 0.9696646 | 0.003315591 | 0.06593958 | 0.3552136 | 0.5183119 |  3.9444034 |  6 | 3810 |  98 | 0.004991112 | 0.1002424 | 0.5453352 | 0.8035889 | 0.005162994 | 0.1036945 | 0.5641153 | 0.8312627 | 0.001323694 | 0.02658529 | 0.1446284 | 0.2131199 |  4.33788355 |  6 | 3811 | 93 | 0.1375247 | 0.6282143 | 0.7773079 | 0.2605173 | 0.138459 | 0.6324823 | 0.7825889 | 0.2622873 | 0.03454963 | 0.1578231 | 0.1952791 | 0.06544844 | -0.3411714 |\n",
       "| 39.35000 | -81.43333 |  7 | 3804 | 92 | 0.002876094 | 0.05719898 | 0.3081284 | 0.4496073 | 0.006202851 | 0.1233606 | 0.6645381 | 0.9696646 | 0.003315591 | 0.06593958 | 0.3552136 | 0.5183119 |  5.0615572 |  7 | 3810 | 100 | 0.004991112 | 0.1002424 | 0.5453352 | 0.8035889 | 0.005162994 | 0.1036945 | 0.5641153 | 0.8312627 | 0.001323694 | 0.02658529 | 0.1446284 | 0.2131199 |  6.38734096 |  7 | 3811 | 93 | 0.1375247 | 0.6282143 | 0.7773079 | 0.2605173 | 0.138459 | 0.6324823 | 0.7825889 | 0.2622873 | 0.03454963 | 0.1578231 | 0.1952791 | 0.06544844 | -0.4652271 |\n",
       "| 35.73333 | -81.38333 |  8 | 3804 | 94 | 0.002876094 | 0.05719898 | 0.3081284 | 0.4496073 | 0.006202851 | 0.1233606 | 0.6645381 | 0.9696646 | 0.003315591 | 0.06593958 | 0.3552136 | 0.5183119 |  7.1787111 |  8 | 3810 |  99 | 0.004991112 | 0.1002424 | 0.5453352 | 0.8035889 | 0.005162994 | 0.1036945 | 0.5641153 | 0.8312627 | 0.001323694 | 0.02658529 | 0.1446284 | 0.2131199 |  5.43679836 |  8 | 3811 | 96 | 0.1375247 | 0.6282143 | 0.7773079 | 0.2605173 | 0.138459 | 0.6324823 | 0.7825889 | 0.2622873 | 0.03454963 | 0.1578231 | 0.1952791 | 0.06544844 |  2.4107172 |\n",
       "| 35.60000 | -88.91666 |  9 | 3804 | 96 | 0.002876094 | 0.05719898 | 0.3081284 | 0.4496073 | 0.006202851 | 0.1233606 | 0.6645381 | 0.9696646 | 0.003315591 | 0.06593958 | 0.3552136 | 0.5183119 |  9.2958649 |  9 | 3810 |  98 | 0.004991112 | 0.1002424 | 0.5453352 | 0.8035889 | 0.005162994 | 0.1036945 | 0.5641153 | 0.8312627 | 0.001323694 | 0.02658529 | 0.1446284 | 0.2131199 |  4.48625577 |  9 | 3811 | 96 | 0.1375247 | 0.6282143 | 0.7773079 | 0.2605173 | 0.138459 | 0.6324823 | 0.7825889 | 0.2622873 | 0.03454963 | 0.1578231 | 0.1952791 | 0.06544844 |  2.2866615 |\n",
       "| 39.35000 | -81.43333 | 10 | 3804 | 93 | 0.002876094 | 0.05719898 | 0.3081284 | 0.4496073 | 0.006202851 | 0.1233606 | 0.6645381 | 0.9696646 | 0.003315591 | 0.06593958 | 0.3552136 | 0.5183119 |  6.4130188 | 10 | 3810 |  99 | 0.004991112 | 0.1002424 | 0.5453352 | 0.8035889 | 0.005162994 | 0.1036945 | 0.5641153 | 0.8312627 | 0.001323694 | 0.02658529 | 0.1446284 | 0.2131199 |  5.53571318 | 10 | 3811 | 96 | 0.1375247 | 0.6282143 | 0.7773079 | 0.2605173 | 0.138459 | 0.6324823 | 0.7825889 | 0.2622873 | 0.03454963 | 0.1578231 | 0.1952791 | 0.06544844 |  2.1626058 |\n",
       "| 35.73333 | -81.38333 | 11 | 3804 | 94 | 0.002876094 | 0.05719898 | 0.3081284 | 0.4496073 | 0.006202851 | 0.1233606 | 0.6645381 | 0.9696646 | 0.003315591 | 0.06593958 | 0.3552136 | 0.5183119 |  7.5301726 | 11 | 3810 |  98 | 0.004991112 | 0.1002424 | 0.5453352 | 0.8035889 | 0.005162994 | 0.1036945 | 0.5641153 | 0.8312627 | 0.001323694 | 0.02658529 | 0.1446284 | 0.2131199 |  4.58517059 | 11 | 3811 | 90 | 0.1375247 | 0.6282143 | 0.7773079 | 0.2605173 | 0.138459 | 0.6324823 | 0.7825889 | 0.2622873 | 0.03454963 | 0.1578231 | 0.1952791 | 0.06544844 | -3.9614498 |\n",
       "| 35.60000 | -88.91666 | 12 | 3804 | 85 | 0.002876094 | 0.05719898 | 0.3081284 | 0.4496073 | 0.006202851 | 0.1233606 | 0.6645381 | 0.9696646 | 0.003315591 | 0.06593958 | 0.3552136 | 0.5183119 | -1.3526735 | 12 | 3810 |  98 | 0.004991112 | 0.1002424 | 0.5453352 | 0.8035889 | 0.005162994 | 0.1036945 | 0.5641153 | 0.8312627 | 0.001323694 | 0.02658529 | 0.1446284 | 0.2131199 |  4.63462799 | 12 | 3811 | 96 | 0.1375247 | 0.6282143 | 0.7773079 | 0.2605173 | 0.138459 | 0.6324823 | 0.7825889 | 0.2622873 | 0.03454963 | 0.1578231 | 0.1952791 | 0.06544844 |  1.9144945 |\n",
       "| 39.35000 | -81.43333 | 13 | 3804 | 92 | 0.002876094 | 0.05719898 | 0.3081284 | 0.4496073 | 0.006202851 | 0.1233606 | 0.6645381 | 0.9696646 | 0.003315591 | 0.06593958 | 0.3552136 | 0.5183119 |  5.7644803 | 13 | 3810 |  97 | 0.004991112 | 0.1002424 | 0.5453352 | 0.8035889 | 0.005162994 | 0.1036945 | 0.5641153 | 0.8312627 | 0.001323694 | 0.02658529 | 0.1446284 | 0.2131199 |  3.68408540 | 13 | 3811 | 92 | 0.1375247 | 0.6282143 | 0.7773079 | 0.2605173 | 0.138459 | 0.6324823 | 0.7825889 | 0.2622873 | 0.03454963 | 0.1578231 | 0.1952791 | 0.06544844 | -2.2095612 |\n",
       "| 35.73333 | -81.38333 | 15 | 3804 | 80 | 0.002876094 | 0.05719898 | 0.3081284 | 0.4496073 | 0.006202851 | 0.1233606 | 0.6645381 | 0.9696646 | 0.003315591 | 0.06593958 | 0.3552136 | 0.5183119 | -6.0012120 | 15 | 3810 |  90 | 0.004991112 | 0.1002424 | 0.5453352 | 0.8035889 | 0.005162994 | 0.1036945 | 0.5641153 | 0.8312627 | 0.001323694 | 0.02658529 | 0.1446284 | 0.2131199 | -3.21699978 | 15 | 3811 | 93 | 0.1375247 | 0.6282143 | 0.7773079 | 0.2605173 | 0.138459 | 0.6324823 | 0.7825889 | 0.2622873 | 0.03454963 | 0.1578231 | 0.1952791 | 0.06544844 | -1.4576726 |\n",
       "| 35.60000 | -88.91666 | 16 | 3804 | 85 | 0.002876094 | 0.05719898 | 0.3081284 | 0.4496073 | 0.006202851 | 0.1233606 | 0.6645381 | 0.9696646 | 0.003315591 | 0.06593958 | 0.3552136 | 0.5183119 | -0.8840581 | 16 | 3810 |  87 | 0.004991112 | 0.1002424 | 0.5453352 | 0.8035889 | 0.005162994 | 0.1036945 | 0.5641153 | 0.8312627 | 0.001323694 | 0.02658529 | 0.1446284 | 0.2131199 | -6.16754238 | 16 | 3811 | 94 | 0.1375247 | 0.6282143 | 0.7773079 | 0.2605173 | 0.138459 | 0.6324823 | 0.7825889 | 0.2622873 | 0.03454963 | 0.1578231 | 0.1952791 | 0.06544844 | -0.5817283 |\n",
       "| 39.35000 | -81.43333 | 17 | 3804 | 87 | 0.002876094 | 0.05719898 | 0.3081284 | 0.4496073 | 0.006202851 | 0.1233606 | 0.6645381 | 0.9696646 | 0.003315591 | 0.06593958 | 0.3552136 | 0.5183119 |  1.2330957 | 17 | 3810 |  93 | 0.004991112 | 0.1002424 | 0.5453352 | 0.8035889 | 0.005162994 | 0.1036945 | 0.5641153 | 0.8312627 | 0.001323694 | 0.02658529 | 0.1446284 | 0.2131199 | -0.11808497 | 17 | 3811 | 95 | 0.1375247 | 0.6282143 | 0.7773079 | 0.2605173 | 0.138459 | 0.6324823 | 0.7825889 | 0.2622873 | 0.03454963 | 0.1578231 | 0.1952791 | 0.06544844 |  0.2942161 |\n",
       "| 35.73333 | -81.38333 | 18 | 3804 | 90 | 0.002876094 | 0.05719898 | 0.3081284 | 0.4496073 | 0.006202851 | 0.1233606 | 0.6645381 | 0.9696646 | 0.003315591 | 0.06593958 | 0.3552136 | 0.5183119 |  4.3502496 | 18 | 3810 |  93 | 0.004991112 | 0.1002424 | 0.5453352 | 0.8035889 | 0.005162994 | 0.1036945 | 0.5641153 | 0.8312627 | 0.001323694 | 0.02658529 | 0.1446284 | 0.2131199 | -0.06862756 | 18 | 3811 | 96 | 0.1375247 | 0.6282143 | 0.7773079 | 0.2605173 | 0.138459 | 0.6324823 | 0.7825889 | 0.2622873 | 0.03454963 | 0.1578231 | 0.1952791 | 0.06544844 |  1.1701604 |\n",
       "| 35.60000 | -88.91666 | 19 | 3804 | 87 | 0.002876094 | 0.05719898 | 0.3081284 | 0.4496073 | 0.006202851 | 0.1233606 | 0.6645381 | 0.9696646 | 0.003315591 | 0.06593958 | 0.3552136 | 0.5183119 |  1.4674034 | 19 | 3810 |  94 | 0.004991112 | 0.1002424 | 0.5453352 | 0.8035889 | 0.005162994 | 0.1036945 | 0.5641153 | 0.8312627 | 0.001323694 | 0.02658529 | 0.1446284 | 0.2131199 |  0.98082985 | 19 | 3811 | 97 | 0.1375247 | 0.6282143 | 0.7773079 | 0.2605173 | 0.138459 | 0.6324823 | 0.7825889 | 0.2622873 | 0.03454963 | 0.1578231 | 0.1952791 | 0.06544844 |  2.0461047 |\n",
       "| 39.35000 | -81.43333 | 20 | 3804 | 86 | 0.002876094 | 0.05719898 | 0.3081284 | 0.4496073 | 0.006202851 | 0.1233606 | 0.6645381 | 0.9696646 | 0.003315591 | 0.06593958 | 0.3552136 | 0.5183119 |  0.5845573 | 20 | 3810 |  95 | 0.004991112 | 0.1002424 | 0.5453352 | 0.8035889 | 0.005162994 | 0.1036945 | 0.5641153 | 0.8312627 | 0.001323694 | 0.02658529 | 0.1446284 | 0.2131199 |  2.03028725 | 20 | 3811 | 94 | 0.1375247 | 0.6282143 | 0.7773079 | 0.2605173 | 0.138459 | 0.6324823 | 0.7825889 | 0.2622873 | 0.03454963 | 0.1578231 | 0.1952791 | 0.06544844 | -1.0779510 |\n",
       "| 35.73333 | -81.38333 | 21 | 3804 | 82 | 0.002876094 | 0.05719898 | 0.3081284 | 0.4496073 | 0.006202851 | 0.1233606 | 0.6645381 | 0.9696646 | 0.003315591 | 0.06593958 | 0.3552136 | 0.5183119 | -3.2982889 | 21 | 3810 |  93 | 0.004991112 | 0.1002424 | 0.5453352 | 0.8035889 | 0.005162994 | 0.1036945 | 0.5641153 | 0.8312627 | 0.001323694 | 0.02658529 | 0.1446284 | 0.2131199 |  0.07974466 | 21 | 3811 | 96 | 0.1375247 | 0.6282143 | 0.7773079 | 0.2605173 | 0.138459 | 0.6324823 | 0.7825889 | 0.2622873 | 0.03454963 | 0.1578231 | 0.1952791 | 0.06544844 |  0.7979933 |\n",
       "| 35.60000 | -88.91666 | 22 | 3804 | 81 | 0.002876094 | 0.05719898 | 0.3081284 | 0.4496073 | 0.006202851 | 0.1233606 | 0.6645381 | 0.9696646 | 0.003315591 | 0.06593958 | 0.3552136 | 0.5183119 | -4.1811351 | 22 | 3810 |  91 | 0.004991112 | 0.1002424 | 0.5453352 | 0.8035889 | 0.005162994 | 0.1036945 | 0.5641153 | 0.8312627 | 0.001323694 | 0.02658529 | 0.1446284 | 0.2131199 | -1.87079793 | 22 | 3811 | 97 | 0.1375247 | 0.6282143 | 0.7773079 | 0.2605173 | 0.138459 | 0.6324823 | 0.7825889 | 0.2622873 | 0.03454963 | 0.1578231 | 0.1952791 | 0.06544844 |  1.6739376 |\n",
       "| 39.35000 | -81.43333 | 23 | 3804 | 82 | 0.002876094 | 0.05719898 | 0.3081284 | 0.4496073 | 0.006202851 | 0.1233606 | 0.6645381 | 0.9696646 | 0.003315591 | 0.06593958 | 0.3552136 | 0.5183119 | -3.0639812 | 23 | 3810 |  89 | 0.004991112 | 0.1002424 | 0.5453352 | 0.8035889 | 0.005162994 | 0.1036945 | 0.5641153 | 0.8312627 | 0.001323694 | 0.02658529 | 0.1446284 | 0.2131199 | -3.82134052 | 23 | 3811 | 95 | 0.1375247 | 0.6282143 | 0.7773079 | 0.2605173 | 0.138459 | 0.6324823 | 0.7825889 | 0.2622873 | 0.03454963 | 0.1578231 | 0.1952791 | 0.06544844 | -0.4501181 |\n",
       "| 35.73333 | -81.38333 | 24 | 3804 | 87 | 0.002876094 | 0.05719898 | 0.3081284 | 0.4496073 | 0.006202851 | 0.1233606 | 0.6645381 | 0.9696646 | 0.003315591 | 0.06593958 | 0.3552136 | 0.5183119 |  2.0531726 | 24 | 3810 |  88 | 0.004991112 | 0.1002424 | 0.5453352 | 0.8035889 | 0.005162994 | 0.1036945 | 0.5641153 | 0.8312627 | 0.001323694 | 0.02658529 | 0.1446284 | 0.2131199 | -4.77188312 | 24 | 3811 | 96 | 0.1375247 | 0.6282143 | 0.7773079 | 0.2605173 | 0.138459 | 0.6324823 | 0.7825889 | 0.2622873 | 0.03454963 | 0.1578231 | 0.1952791 | 0.06544844 |  0.4258263 |\n",
       "| 35.60000 | -88.91666 | 25 | 3804 | 92 | 0.002876094 | 0.05719898 | 0.3081284 | 0.4496073 | 0.006202851 | 0.1233606 | 0.6645381 | 0.9696646 | 0.003315591 | 0.06593958 | 0.3552136 | 0.5183119 |  7.1703265 | 25 | 3810 |  95 | 0.004991112 | 0.1002424 | 0.5453352 | 0.8035889 | 0.005162994 | 0.1036945 | 0.5641153 | 0.8312627 | 0.001323694 | 0.02658529 | 0.1446284 | 0.2131199 |  2.27757429 | 25 | 3811 | 97 | 0.1375247 | 0.6282143 | 0.7773079 | 0.2605173 | 0.138459 | 0.6324823 | 0.7825889 | 0.2622873 | 0.03454963 | 0.1578231 | 0.1952791 | 0.06544844 |  1.3017706 |\n",
       "| 39.35000 | -81.43333 | 26 | 3804 | 94 | 0.002876094 | 0.05719898 | 0.3081284 | 0.4496073 | 0.006202851 | 0.1233606 | 0.6645381 | 0.9696646 | 0.003315591 | 0.06593958 | 0.3552136 | 0.5183119 |  9.2874803 | 26 | 3810 |  86 | 0.004991112 | 0.1002424 | 0.5453352 | 0.8035889 | 0.005162994 | 0.1036945 | 0.5641153 | 0.8312627 | 0.001323694 | 0.02658529 | 0.1446284 | 0.2131199 | -6.67296830 | 26 | 3811 | 98 | 0.1375247 | 0.6282143 | 0.7773079 | 0.2605173 | 0.138459 | 0.6324823 | 0.7825889 | 0.2622873 | 0.03454963 | 0.1578231 | 0.1952791 | 0.06544844 |  2.1777149 |\n",
       "| 35.73333 | -81.38333 | 27 | 3804 | 92 | 0.002876094 | 0.05719898 | 0.3081284 | 0.4496073 | 0.006202851 | 0.1233606 | 0.6645381 | 0.9696646 | 0.003315591 | 0.06593958 | 0.3552136 | 0.5183119 |  7.4046342 | 27 | 3810 |  94 | 0.004991112 | 0.1002424 | 0.5453352 | 0.8035889 | 0.005162994 | 0.1036945 | 0.5641153 | 0.8312627 | 0.001323694 | 0.02658529 | 0.1446284 | 0.2131199 |  1.37648911 | 27 | 3811 | 98 | 0.1375247 | 0.6282143 | 0.7773079 | 0.2605173 | 0.138459 | 0.6324823 | 0.7825889 | 0.2622873 | 0.03454963 | 0.1578231 | 0.1952791 | 0.06544844 |  2.0536592 |\n",
       "| 35.60000 | -88.91666 | 28 | 3804 | 95 | 0.002876094 | 0.05719898 | 0.3081284 | 0.4496073 | 0.006202851 | 0.1233606 | 0.6645381 | 0.9696646 | 0.003315591 | 0.06593958 | 0.3552136 | 0.5183119 | 10.5217880 | 28 | 3810 |  96 | 0.004991112 | 0.1002424 | 0.5453352 | 0.8035889 | 0.005162994 | 0.1036945 | 0.5641153 | 0.8312627 | 0.001323694 | 0.02658529 | 0.1446284 | 0.2131199 |  3.42594651 | 28 | 3811 | 97 | 0.1375247 | 0.6282143 | 0.7773079 | 0.2605173 | 0.138459 | 0.6324823 | 0.7825889 | 0.2622873 | 0.03454963 | 0.1578231 | 0.1952791 | 0.06544844 |  0.9296035 |\n",
       "| 39.35000 | -81.43333 | 29 | 3804 | 86 | 0.002876094 | 0.05719898 | 0.3081284 | 0.4496073 | 0.006202851 | 0.1233606 | 0.6645381 | 0.9696646 | 0.003315591 | 0.06593958 | 0.3552136 | 0.5183119 |  1.6389419 | 29 | 3810 |  96 | 0.004991112 | 0.1002424 | 0.5453352 | 0.8035889 | 0.005162994 | 0.1036945 | 0.5641153 | 0.8312627 | 0.001323694 | 0.02658529 | 0.1446284 | 0.2131199 |  3.47540392 | 29 | 3811 | 96 | 0.1375247 | 0.6282143 | 0.7773079 | 0.2605173 | 0.138459 | 0.6324823 | 0.7825889 | 0.2622873 | 0.03454963 | 0.1578231 | 0.1952791 | 0.06544844 | -0.1944522 |\n",
       "| 35.73333 | -81.38333 | 30 | 3804 | 76 | 0.002876094 | 0.05719898 | 0.3081284 | 0.4496073 | 0.006202851 | 0.1233606 | 0.6645381 | 0.9696646 | 0.003315591 | 0.06593958 | 0.3552136 | 0.5183119 | -8.2439043 | 30 | 3810 |  88 | 0.004991112 | 0.1002424 | 0.5453352 | 0.8035889 | 0.005162994 | 0.1036945 | 0.5641153 | 0.8312627 | 0.001323694 | 0.02658529 | 0.1446284 | 0.2131199 | -4.47513867 | 30 | 3811 | 94 | 0.1375247 | 0.6282143 | 0.7773079 | 0.2605173 | 0.138459 | 0.6324823 | 0.7825889 | 0.2622873 | 0.03454963 | 0.1578231 | 0.1952791 | 0.06544844 | -2.3185078 |\n",
       "| 35.60000 | -88.91666 | 31 | 3804 | 85 | 0.002876094 | 0.05719898 | 0.3081284 | 0.4496073 | 0.006202851 | 0.1233606 | 0.6645381 | 0.9696646 | 0.003315591 | 0.06593958 | 0.3552136 | 0.5183119 |  0.8732496 | 31 | 3810 |  88 | 0.004991112 | 0.1002424 | 0.5453352 | 0.8035889 | 0.005162994 | 0.1036945 | 0.5641153 | 0.8312627 | 0.001323694 | 0.02658529 | 0.1446284 | 0.2131199 | -4.42568126 | 31 | 3811 | 93 | 0.1375247 | 0.6282143 | 0.7773079 | 0.2605173 | 0.138459 | 0.6324823 | 0.7825889 | 0.2622873 | 0.03454963 | 0.1578231 | 0.1952791 | 0.06544844 | -3.4425635 |\n",
       "\n"
      ],
      "text/plain": [
       "   lat      lon       data <NA> <NA> <NA>        <NA>       <NA>      <NA>     \n",
       "1  39.35000 -81.43333  1   3804 82   0.002876094 0.05719898 0.3081284 0.4496073\n",
       "2  35.73333 -81.38333  2   3804 84   0.002876094 0.05719898 0.3081284 0.4496073\n",
       "3  35.60000 -88.91666  3   3804 88   0.002876094 0.05719898 0.3081284 0.4496073\n",
       "4  39.35000 -81.43333  4   3804 90   0.002876094 0.05719898 0.3081284 0.4496073\n",
       "5  35.73333 -81.38333  5   3804 92   0.002876094 0.05719898 0.3081284 0.4496073\n",
       "6  35.60000 -88.91666  6   3804 91   0.002876094 0.05719898 0.3081284 0.4496073\n",
       "7  39.35000 -81.43333  7   3804 92   0.002876094 0.05719898 0.3081284 0.4496073\n",
       "8  35.73333 -81.38333  8   3804 94   0.002876094 0.05719898 0.3081284 0.4496073\n",
       "9  35.60000 -88.91666  9   3804 96   0.002876094 0.05719898 0.3081284 0.4496073\n",
       "10 39.35000 -81.43333 10   3804 93   0.002876094 0.05719898 0.3081284 0.4496073\n",
       "11 35.73333 -81.38333 11   3804 94   0.002876094 0.05719898 0.3081284 0.4496073\n",
       "12 35.60000 -88.91666 12   3804 85   0.002876094 0.05719898 0.3081284 0.4496073\n",
       "13 39.35000 -81.43333 13   3804 92   0.002876094 0.05719898 0.3081284 0.4496073\n",
       "14 35.73333 -81.38333 15   3804 80   0.002876094 0.05719898 0.3081284 0.4496073\n",
       "15 35.60000 -88.91666 16   3804 85   0.002876094 0.05719898 0.3081284 0.4496073\n",
       "16 39.35000 -81.43333 17   3804 87   0.002876094 0.05719898 0.3081284 0.4496073\n",
       "17 35.73333 -81.38333 18   3804 90   0.002876094 0.05719898 0.3081284 0.4496073\n",
       "18 35.60000 -88.91666 19   3804 87   0.002876094 0.05719898 0.3081284 0.4496073\n",
       "19 39.35000 -81.43333 20   3804 86   0.002876094 0.05719898 0.3081284 0.4496073\n",
       "20 35.73333 -81.38333 21   3804 82   0.002876094 0.05719898 0.3081284 0.4496073\n",
       "21 35.60000 -88.91666 22   3804 81   0.002876094 0.05719898 0.3081284 0.4496073\n",
       "22 39.35000 -81.43333 23   3804 82   0.002876094 0.05719898 0.3081284 0.4496073\n",
       "23 35.73333 -81.38333 24   3804 87   0.002876094 0.05719898 0.3081284 0.4496073\n",
       "24 35.60000 -88.91666 25   3804 92   0.002876094 0.05719898 0.3081284 0.4496073\n",
       "25 39.35000 -81.43333 26   3804 94   0.002876094 0.05719898 0.3081284 0.4496073\n",
       "26 35.73333 -81.38333 27   3804 92   0.002876094 0.05719898 0.3081284 0.4496073\n",
       "27 35.60000 -88.91666 28   3804 95   0.002876094 0.05719898 0.3081284 0.4496073\n",
       "28 39.35000 -81.43333 29   3804 86   0.002876094 0.05719898 0.3081284 0.4496073\n",
       "29 35.73333 -81.38333 30   3804 76   0.002876094 0.05719898 0.3081284 0.4496073\n",
       "30 35.60000 -88.91666 31   3804 85   0.002876094 0.05719898 0.3081284 0.4496073\n",
       "   <NA>        <NA>      <NA>      <NA>      <NA>        <NA>       <NA>     \n",
       "1  0.006202851 0.1233606 0.6645381 0.9696646 0.003315591 0.06593958 0.3552136\n",
       "2  0.006202851 0.1233606 0.6645381 0.9696646 0.003315591 0.06593958 0.3552136\n",
       "3  0.006202851 0.1233606 0.6645381 0.9696646 0.003315591 0.06593958 0.3552136\n",
       "4  0.006202851 0.1233606 0.6645381 0.9696646 0.003315591 0.06593958 0.3552136\n",
       "5  0.006202851 0.1233606 0.6645381 0.9696646 0.003315591 0.06593958 0.3552136\n",
       "6  0.006202851 0.1233606 0.6645381 0.9696646 0.003315591 0.06593958 0.3552136\n",
       "7  0.006202851 0.1233606 0.6645381 0.9696646 0.003315591 0.06593958 0.3552136\n",
       "8  0.006202851 0.1233606 0.6645381 0.9696646 0.003315591 0.06593958 0.3552136\n",
       "9  0.006202851 0.1233606 0.6645381 0.9696646 0.003315591 0.06593958 0.3552136\n",
       "10 0.006202851 0.1233606 0.6645381 0.9696646 0.003315591 0.06593958 0.3552136\n",
       "11 0.006202851 0.1233606 0.6645381 0.9696646 0.003315591 0.06593958 0.3552136\n",
       "12 0.006202851 0.1233606 0.6645381 0.9696646 0.003315591 0.06593958 0.3552136\n",
       "13 0.006202851 0.1233606 0.6645381 0.9696646 0.003315591 0.06593958 0.3552136\n",
       "14 0.006202851 0.1233606 0.6645381 0.9696646 0.003315591 0.06593958 0.3552136\n",
       "15 0.006202851 0.1233606 0.6645381 0.9696646 0.003315591 0.06593958 0.3552136\n",
       "16 0.006202851 0.1233606 0.6645381 0.9696646 0.003315591 0.06593958 0.3552136\n",
       "17 0.006202851 0.1233606 0.6645381 0.9696646 0.003315591 0.06593958 0.3552136\n",
       "18 0.006202851 0.1233606 0.6645381 0.9696646 0.003315591 0.06593958 0.3552136\n",
       "19 0.006202851 0.1233606 0.6645381 0.9696646 0.003315591 0.06593958 0.3552136\n",
       "20 0.006202851 0.1233606 0.6645381 0.9696646 0.003315591 0.06593958 0.3552136\n",
       "21 0.006202851 0.1233606 0.6645381 0.9696646 0.003315591 0.06593958 0.3552136\n",
       "22 0.006202851 0.1233606 0.6645381 0.9696646 0.003315591 0.06593958 0.3552136\n",
       "23 0.006202851 0.1233606 0.6645381 0.9696646 0.003315591 0.06593958 0.3552136\n",
       "24 0.006202851 0.1233606 0.6645381 0.9696646 0.003315591 0.06593958 0.3552136\n",
       "25 0.006202851 0.1233606 0.6645381 0.9696646 0.003315591 0.06593958 0.3552136\n",
       "26 0.006202851 0.1233606 0.6645381 0.9696646 0.003315591 0.06593958 0.3552136\n",
       "27 0.006202851 0.1233606 0.6645381 0.9696646 0.003315591 0.06593958 0.3552136\n",
       "28 0.006202851 0.1233606 0.6645381 0.9696646 0.003315591 0.06593958 0.3552136\n",
       "29 0.006202851 0.1233606 0.6645381 0.9696646 0.003315591 0.06593958 0.3552136\n",
       "30 0.006202851 0.1233606 0.6645381 0.9696646 0.003315591 0.06593958 0.3552136\n",
       "   <NA>      <NA>       <NA> <NA> <NA> <NA>        <NA>      <NA>     \n",
       "1  0.5183119 -5.6413658  1   3810  93  0.004991112 0.1002424 0.5453352\n",
       "2  0.5183119 -3.5242120  2   3810  93  0.004991112 0.1002424 0.5453352\n",
       "3  0.5183119  0.5929419  3   3810  96  0.004991112 0.1002424 0.5453352\n",
       "4  0.5183119  2.7100957  4   3810  97  0.004991112 0.1002424 0.5453352\n",
       "5  0.5183119  4.8272496  5   3810  99  0.004991112 0.1002424 0.5453352\n",
       "6  0.5183119  3.9444034  6   3810  98  0.004991112 0.1002424 0.5453352\n",
       "7  0.5183119  5.0615572  7   3810 100  0.004991112 0.1002424 0.5453352\n",
       "8  0.5183119  7.1787111  8   3810  99  0.004991112 0.1002424 0.5453352\n",
       "9  0.5183119  9.2958649  9   3810  98  0.004991112 0.1002424 0.5453352\n",
       "10 0.5183119  6.4130188 10   3810  99  0.004991112 0.1002424 0.5453352\n",
       "11 0.5183119  7.5301726 11   3810  98  0.004991112 0.1002424 0.5453352\n",
       "12 0.5183119 -1.3526735 12   3810  98  0.004991112 0.1002424 0.5453352\n",
       "13 0.5183119  5.7644803 13   3810  97  0.004991112 0.1002424 0.5453352\n",
       "14 0.5183119 -6.0012120 15   3810  90  0.004991112 0.1002424 0.5453352\n",
       "15 0.5183119 -0.8840581 16   3810  87  0.004991112 0.1002424 0.5453352\n",
       "16 0.5183119  1.2330957 17   3810  93  0.004991112 0.1002424 0.5453352\n",
       "17 0.5183119  4.3502496 18   3810  93  0.004991112 0.1002424 0.5453352\n",
       "18 0.5183119  1.4674034 19   3810  94  0.004991112 0.1002424 0.5453352\n",
       "19 0.5183119  0.5845573 20   3810  95  0.004991112 0.1002424 0.5453352\n",
       "20 0.5183119 -3.2982889 21   3810  93  0.004991112 0.1002424 0.5453352\n",
       "21 0.5183119 -4.1811351 22   3810  91  0.004991112 0.1002424 0.5453352\n",
       "22 0.5183119 -3.0639812 23   3810  89  0.004991112 0.1002424 0.5453352\n",
       "23 0.5183119  2.0531726 24   3810  88  0.004991112 0.1002424 0.5453352\n",
       "24 0.5183119  7.1703265 25   3810  95  0.004991112 0.1002424 0.5453352\n",
       "25 0.5183119  9.2874803 26   3810  86  0.004991112 0.1002424 0.5453352\n",
       "26 0.5183119  7.4046342 27   3810  94  0.004991112 0.1002424 0.5453352\n",
       "27 0.5183119 10.5217880 28   3810  96  0.004991112 0.1002424 0.5453352\n",
       "28 0.5183119  1.6389419 29   3810  96  0.004991112 0.1002424 0.5453352\n",
       "29 0.5183119 -8.2439043 30   3810  88  0.004991112 0.1002424 0.5453352\n",
       "30 0.5183119  0.8732496 31   3810  88  0.004991112 0.1002424 0.5453352\n",
       "   <NA>      <NA>        <NA>      <NA>      <NA>      <NA>        <NA>      \n",
       "1  0.8035889 0.005162994 0.1036945 0.5641153 0.8312627 0.001323694 0.02658529\n",
       "2  0.8035889 0.005162994 0.1036945 0.5641153 0.8312627 0.001323694 0.02658529\n",
       "3  0.8035889 0.005162994 0.1036945 0.5641153 0.8312627 0.001323694 0.02658529\n",
       "4  0.8035889 0.005162994 0.1036945 0.5641153 0.8312627 0.001323694 0.02658529\n",
       "5  0.8035889 0.005162994 0.1036945 0.5641153 0.8312627 0.001323694 0.02658529\n",
       "6  0.8035889 0.005162994 0.1036945 0.5641153 0.8312627 0.001323694 0.02658529\n",
       "7  0.8035889 0.005162994 0.1036945 0.5641153 0.8312627 0.001323694 0.02658529\n",
       "8  0.8035889 0.005162994 0.1036945 0.5641153 0.8312627 0.001323694 0.02658529\n",
       "9  0.8035889 0.005162994 0.1036945 0.5641153 0.8312627 0.001323694 0.02658529\n",
       "10 0.8035889 0.005162994 0.1036945 0.5641153 0.8312627 0.001323694 0.02658529\n",
       "11 0.8035889 0.005162994 0.1036945 0.5641153 0.8312627 0.001323694 0.02658529\n",
       "12 0.8035889 0.005162994 0.1036945 0.5641153 0.8312627 0.001323694 0.02658529\n",
       "13 0.8035889 0.005162994 0.1036945 0.5641153 0.8312627 0.001323694 0.02658529\n",
       "14 0.8035889 0.005162994 0.1036945 0.5641153 0.8312627 0.001323694 0.02658529\n",
       "15 0.8035889 0.005162994 0.1036945 0.5641153 0.8312627 0.001323694 0.02658529\n",
       "16 0.8035889 0.005162994 0.1036945 0.5641153 0.8312627 0.001323694 0.02658529\n",
       "17 0.8035889 0.005162994 0.1036945 0.5641153 0.8312627 0.001323694 0.02658529\n",
       "18 0.8035889 0.005162994 0.1036945 0.5641153 0.8312627 0.001323694 0.02658529\n",
       "19 0.8035889 0.005162994 0.1036945 0.5641153 0.8312627 0.001323694 0.02658529\n",
       "20 0.8035889 0.005162994 0.1036945 0.5641153 0.8312627 0.001323694 0.02658529\n",
       "21 0.8035889 0.005162994 0.1036945 0.5641153 0.8312627 0.001323694 0.02658529\n",
       "22 0.8035889 0.005162994 0.1036945 0.5641153 0.8312627 0.001323694 0.02658529\n",
       "23 0.8035889 0.005162994 0.1036945 0.5641153 0.8312627 0.001323694 0.02658529\n",
       "24 0.8035889 0.005162994 0.1036945 0.5641153 0.8312627 0.001323694 0.02658529\n",
       "25 0.8035889 0.005162994 0.1036945 0.5641153 0.8312627 0.001323694 0.02658529\n",
       "26 0.8035889 0.005162994 0.1036945 0.5641153 0.8312627 0.001323694 0.02658529\n",
       "27 0.8035889 0.005162994 0.1036945 0.5641153 0.8312627 0.001323694 0.02658529\n",
       "28 0.8035889 0.005162994 0.1036945 0.5641153 0.8312627 0.001323694 0.02658529\n",
       "29 0.8035889 0.005162994 0.1036945 0.5641153 0.8312627 0.001323694 0.02658529\n",
       "30 0.8035889 0.005162994 0.1036945 0.5641153 0.8312627 0.001323694 0.02658529\n",
       "   <NA>      <NA>      <NA>        <NA> <NA> <NA> <NA>      <NA>      <NA>     \n",
       "1  0.1446284 0.2131199 -0.90940349  1   3811 91   0.1375247 0.6282143 0.7773079\n",
       "2  0.1446284 0.2131199 -0.85994608  2   3811 92   0.1375247 0.6282143 0.7773079\n",
       "3  0.1446284 0.2131199  2.18951133  3   3811 94   0.1375247 0.6282143 0.7773079\n",
       "4  0.1446284 0.2131199  3.23896873  4   3811 95   0.1375247 0.6282143 0.7773079\n",
       "5  0.1446284 0.2131199  5.28842614  5   3811 92   0.1375247 0.6282143 0.7773079\n",
       "6  0.1446284 0.2131199  4.33788355  6   3811 93   0.1375247 0.6282143 0.7773079\n",
       "7  0.1446284 0.2131199  6.38734096  7   3811 93   0.1375247 0.6282143 0.7773079\n",
       "8  0.1446284 0.2131199  5.43679836  8   3811 96   0.1375247 0.6282143 0.7773079\n",
       "9  0.1446284 0.2131199  4.48625577  9   3811 96   0.1375247 0.6282143 0.7773079\n",
       "10 0.1446284 0.2131199  5.53571318 10   3811 96   0.1375247 0.6282143 0.7773079\n",
       "11 0.1446284 0.2131199  4.58517059 11   3811 90   0.1375247 0.6282143 0.7773079\n",
       "12 0.1446284 0.2131199  4.63462799 12   3811 96   0.1375247 0.6282143 0.7773079\n",
       "13 0.1446284 0.2131199  3.68408540 13   3811 92   0.1375247 0.6282143 0.7773079\n",
       "14 0.1446284 0.2131199 -3.21699978 15   3811 93   0.1375247 0.6282143 0.7773079\n",
       "15 0.1446284 0.2131199 -6.16754238 16   3811 94   0.1375247 0.6282143 0.7773079\n",
       "16 0.1446284 0.2131199 -0.11808497 17   3811 95   0.1375247 0.6282143 0.7773079\n",
       "17 0.1446284 0.2131199 -0.06862756 18   3811 96   0.1375247 0.6282143 0.7773079\n",
       "18 0.1446284 0.2131199  0.98082985 19   3811 97   0.1375247 0.6282143 0.7773079\n",
       "19 0.1446284 0.2131199  2.03028725 20   3811 94   0.1375247 0.6282143 0.7773079\n",
       "20 0.1446284 0.2131199  0.07974466 21   3811 96   0.1375247 0.6282143 0.7773079\n",
       "21 0.1446284 0.2131199 -1.87079793 22   3811 97   0.1375247 0.6282143 0.7773079\n",
       "22 0.1446284 0.2131199 -3.82134052 23   3811 95   0.1375247 0.6282143 0.7773079\n",
       "23 0.1446284 0.2131199 -4.77188312 24   3811 96   0.1375247 0.6282143 0.7773079\n",
       "24 0.1446284 0.2131199  2.27757429 25   3811 97   0.1375247 0.6282143 0.7773079\n",
       "25 0.1446284 0.2131199 -6.67296830 26   3811 98   0.1375247 0.6282143 0.7773079\n",
       "26 0.1446284 0.2131199  1.37648911 27   3811 98   0.1375247 0.6282143 0.7773079\n",
       "27 0.1446284 0.2131199  3.42594651 28   3811 97   0.1375247 0.6282143 0.7773079\n",
       "28 0.1446284 0.2131199  3.47540392 29   3811 96   0.1375247 0.6282143 0.7773079\n",
       "29 0.1446284 0.2131199 -4.47513867 30   3811 94   0.1375247 0.6282143 0.7773079\n",
       "30 0.1446284 0.2131199 -4.42568126 31   3811 93   0.1375247 0.6282143 0.7773079\n",
       "   <NA>      <NA>     <NA>      <NA>      <NA>      <NA>       <NA>     \n",
       "1  0.2605173 0.138459 0.6324823 0.7825889 0.2622873 0.03454963 0.1578231\n",
       "2  0.2605173 0.138459 0.6324823 0.7825889 0.2622873 0.03454963 0.1578231\n",
       "3  0.2605173 0.138459 0.6324823 0.7825889 0.2622873 0.03454963 0.1578231\n",
       "4  0.2605173 0.138459 0.6324823 0.7825889 0.2622873 0.03454963 0.1578231\n",
       "5  0.2605173 0.138459 0.6324823 0.7825889 0.2622873 0.03454963 0.1578231\n",
       "6  0.2605173 0.138459 0.6324823 0.7825889 0.2622873 0.03454963 0.1578231\n",
       "7  0.2605173 0.138459 0.6324823 0.7825889 0.2622873 0.03454963 0.1578231\n",
       "8  0.2605173 0.138459 0.6324823 0.7825889 0.2622873 0.03454963 0.1578231\n",
       "9  0.2605173 0.138459 0.6324823 0.7825889 0.2622873 0.03454963 0.1578231\n",
       "10 0.2605173 0.138459 0.6324823 0.7825889 0.2622873 0.03454963 0.1578231\n",
       "11 0.2605173 0.138459 0.6324823 0.7825889 0.2622873 0.03454963 0.1578231\n",
       "12 0.2605173 0.138459 0.6324823 0.7825889 0.2622873 0.03454963 0.1578231\n",
       "13 0.2605173 0.138459 0.6324823 0.7825889 0.2622873 0.03454963 0.1578231\n",
       "14 0.2605173 0.138459 0.6324823 0.7825889 0.2622873 0.03454963 0.1578231\n",
       "15 0.2605173 0.138459 0.6324823 0.7825889 0.2622873 0.03454963 0.1578231\n",
       "16 0.2605173 0.138459 0.6324823 0.7825889 0.2622873 0.03454963 0.1578231\n",
       "17 0.2605173 0.138459 0.6324823 0.7825889 0.2622873 0.03454963 0.1578231\n",
       "18 0.2605173 0.138459 0.6324823 0.7825889 0.2622873 0.03454963 0.1578231\n",
       "19 0.2605173 0.138459 0.6324823 0.7825889 0.2622873 0.03454963 0.1578231\n",
       "20 0.2605173 0.138459 0.6324823 0.7825889 0.2622873 0.03454963 0.1578231\n",
       "21 0.2605173 0.138459 0.6324823 0.7825889 0.2622873 0.03454963 0.1578231\n",
       "22 0.2605173 0.138459 0.6324823 0.7825889 0.2622873 0.03454963 0.1578231\n",
       "23 0.2605173 0.138459 0.6324823 0.7825889 0.2622873 0.03454963 0.1578231\n",
       "24 0.2605173 0.138459 0.6324823 0.7825889 0.2622873 0.03454963 0.1578231\n",
       "25 0.2605173 0.138459 0.6324823 0.7825889 0.2622873 0.03454963 0.1578231\n",
       "26 0.2605173 0.138459 0.6324823 0.7825889 0.2622873 0.03454963 0.1578231\n",
       "27 0.2605173 0.138459 0.6324823 0.7825889 0.2622873 0.03454963 0.1578231\n",
       "28 0.2605173 0.138459 0.6324823 0.7825889 0.2622873 0.03454963 0.1578231\n",
       "29 0.2605173 0.138459 0.6324823 0.7825889 0.2622873 0.03454963 0.1578231\n",
       "30 0.2605173 0.138459 0.6324823 0.7825889 0.2622873 0.03454963 0.1578231\n",
       "   <NA>      <NA>       <NA>      \n",
       "1  0.1952791 0.06544844 -1.7208930\n",
       "2  0.1952791 0.06544844 -0.8449487\n",
       "3  0.1952791 0.06544844  1.0309956\n",
       "4  0.1952791 0.06544844  1.9069399\n",
       "5  0.1952791 0.06544844 -1.2171157\n",
       "6  0.1952791 0.06544844 -0.3411714\n",
       "7  0.1952791 0.06544844 -0.4652271\n",
       "8  0.1952791 0.06544844  2.4107172\n",
       "9  0.1952791 0.06544844  2.2866615\n",
       "10 0.1952791 0.06544844  2.1626058\n",
       "11 0.1952791 0.06544844 -3.9614498\n",
       "12 0.1952791 0.06544844  1.9144945\n",
       "13 0.1952791 0.06544844 -2.2095612\n",
       "14 0.1952791 0.06544844 -1.4576726\n",
       "15 0.1952791 0.06544844 -0.5817283\n",
       "16 0.1952791 0.06544844  0.2942161\n",
       "17 0.1952791 0.06544844  1.1701604\n",
       "18 0.1952791 0.06544844  2.0461047\n",
       "19 0.1952791 0.06544844 -1.0779510\n",
       "20 0.1952791 0.06544844  0.7979933\n",
       "21 0.1952791 0.06544844  1.6739376\n",
       "22 0.1952791 0.06544844 -0.4501181\n",
       "23 0.1952791 0.06544844  0.4258263\n",
       "24 0.1952791 0.06544844  1.3017706\n",
       "25 0.1952791 0.06544844  2.1777149\n",
       "26 0.1952791 0.06544844  2.0536592\n",
       "27 0.1952791 0.06544844  0.9296035\n",
       "28 0.1952791 0.06544844 -0.1944522\n",
       "29 0.1952791 0.06544844 -2.3185078\n",
       "30 0.1952791 0.06544844 -3.4425635"
      ]
     },
     "metadata": {},
     "output_type": "display_data"
    }
   ],
   "source": [
    "nested_Tmax_no_14 <- group_by(Tmax_no_14, lon, lat) %>% nest()\n",
    "head(nested_Tmax_no_14, 3)"
   ]
  },
  {
   "cell_type": "code",
   "execution_count": 32,
   "metadata": {
    "vscode": {
     "languageId": "r"
    }
   },
   "outputs": [],
   "source": [
    "dwtest_one_station <- function(data)\n",
    "dwtest(residuals ~ 1, data = data)"
   ]
  },
  {
   "cell_type": "code",
   "execution_count": 33,
   "metadata": {
    "vscode": {
     "languageId": "r"
    }
   },
   "outputs": [
    {
     "data": {
      "text/plain": [
       "\n",
       "\tDurbin-Watson test\n",
       "\n",
       "data:  residuals ~ 1\n",
       "DW = 0.98224, p-value = 0.001222\n",
       "alternative hypothesis: true autocorrelation is greater than 0\n"
      ]
     },
     "metadata": {},
     "output_type": "display_data"
    }
   ],
   "source": [
    "dwtest_one_station(nested_Tmax_no_14$data[[1]])"
   ]
  },
  {
   "cell_type": "code",
   "execution_count": 34,
   "metadata": {
    "vscode": {
     "languageId": "r"
    }
   },
   "outputs": [
    {
     "data": {
      "text/plain": [
       "[[1]]\n",
       "\n",
       "\tDurbin-Watson test\n",
       "\n",
       "data:  residuals ~ 1\n",
       "DW = 0.98224, p-value = 0.001222\n",
       "alternative hypothesis: true autocorrelation is greater than 0\n",
       "\n",
       "\n",
       "[[2]]\n",
       "\n",
       "\tDurbin-Watson test\n",
       "\n",
       "data:  residuals ~ 1\n",
       "DW = 0.92119, p-value = 0.0005855\n",
       "alternative hypothesis: true autocorrelation is greater than 0\n",
       "\n",
       "\n",
       "[[3]]\n",
       "\n",
       "\tDurbin-Watson test\n",
       "\n",
       "data:  residuals ~ 1\n",
       "DW = 1.5945, p-value = 0.1285\n",
       "alternative hypothesis: true autocorrelation is greater than 0\n",
       "\n",
       "\n",
       "[[4]]\n",
       "\n",
       "\tDurbin-Watson test\n",
       "\n",
       "data:  residuals ~ 1\n",
       "DW = 1.1583, p-value = 0.007274\n",
       "alternative hypothesis: true autocorrelation is greater than 0\n",
       "\n",
       "\n",
       "[[5]]\n",
       "\n",
       "\tDurbin-Watson test\n",
       "\n",
       "data:  residuals ~ 1\n",
       "DW = 0.8274, p-value = 0.0001634\n",
       "alternative hypothesis: true autocorrelation is greater than 0\n",
       "\n",
       "\n",
       "[[6]]\n",
       "\n",
       "\tDurbin-Watson test\n",
       "\n",
       "data:  residuals ~ 1\n",
       "DW = 1.212, p-value = 0.01152\n",
       "alternative hypothesis: true autocorrelation is greater than 0\n",
       "\n"
      ]
     },
     "metadata": {},
     "output_type": "display_data"
    }
   ],
   "source": [
    "map(nested_Tmax_no_14$data, dwtest_one_station) %>% head()"
   ]
  },
  {
   "cell_type": "code",
   "execution_count": 35,
   "metadata": {
    "vscode": {
     "languageId": "r"
    }
   },
   "outputs": [],
   "source": [
    "dwtest_one_station_tidy <- nested_Tmax_no_14$data[[1]] %>%\n",
    "dwtest_one_station() %>%\n",
    "tidy()"
   ]
  },
  {
   "cell_type": "code",
   "execution_count": 36,
   "metadata": {
    "vscode": {
     "languageId": "r"
    }
   },
   "outputs": [
    {
     "data": {
      "text/html": [
       "<table class=\"dataframe\">\n",
       "<caption>A tibble: 1 × 3</caption>\n",
       "<thead>\n",
       "\t<tr><th scope=col>statistic</th><th scope=col>p.value</th><th scope=col>method</th></tr>\n",
       "\t<tr><th scope=col>&lt;dbl&gt;</th><th scope=col>&lt;dbl&gt;</th><th scope=col>&lt;chr&gt;</th></tr>\n",
       "</thead>\n",
       "<tbody>\n",
       "\t<tr><td>0.9822373</td><td>0.001222279</td><td>Durbin-Watson test</td></tr>\n",
       "</tbody>\n",
       "</table>\n"
      ],
      "text/latex": [
       "A tibble: 1 × 3\n",
       "\\begin{tabular}{lll}\n",
       " statistic & p.value & method\\\\\n",
       " <dbl> & <dbl> & <chr>\\\\\n",
       "\\hline\n",
       "\t 0.9822373 & 0.001222279 & Durbin-Watson test\\\\\n",
       "\\end{tabular}\n"
      ],
      "text/markdown": [
       "\n",
       "A tibble: 1 × 3\n",
       "\n",
       "| statistic &lt;dbl&gt; | p.value &lt;dbl&gt; | method &lt;chr&gt; |\n",
       "|---|---|---|\n",
       "| 0.9822373 | 0.001222279 | Durbin-Watson test |\n",
       "\n"
      ],
      "text/plain": [
       "   statistic p.value     method            \n",
       "DW 0.9822373 0.001222279 Durbin-Watson test"
      ]
     },
     "metadata": {},
     "output_type": "display_data"
    }
   ],
   "source": [
    "dwtest_one_station_tidy[, 1:3]"
   ]
  },
  {
   "cell_type": "code",
   "execution_count": 37,
   "metadata": {
    "vscode": {
     "languageId": "r"
    }
   },
   "outputs": [],
   "source": [
    "Tmax_DW_no_14 <- nested_Tmax_no_14 %>%\n",
    "mutate(dwtest = map(data, dwtest_one_station)) %>%\n",
    "mutate(test_df = map(dwtest, tidy)) %>%\n",
    "unnest(test_df)"
   ]
  },
  {
   "cell_type": "code",
   "execution_count": 43,
   "metadata": {
    "vscode": {
     "languageId": "r"
    }
   },
   "outputs": [
    {
     "data": {
      "text/html": [
       "21.8045112781955"
      ],
      "text/latex": [
       "21.8045112781955"
      ],
      "text/markdown": [
       "21.8045112781955"
      ],
      "text/plain": [
       "[1] 21.80451"
      ]
     },
     "metadata": {},
     "output_type": "display_data"
    }
   ],
   "source": [
    "# Tmax_DW_no_14 %>% select(-method, -alternative) %>% head(3)\n",
    "\n",
    "mean(Tmax_DW_no_14$p.value < 0.05/nrow(Tmax_DW_no_14)) * 100"
   ]
  },
  {
   "cell_type": "code",
   "execution_count": 44,
   "metadata": {
    "vscode": {
     "languageId": "r"
    }
   },
   "outputs": [],
   "source": [
    "# str(Tmax_DW_no_14)\n",
    "data(\"STObj3\", package = \"STRbook\")\n",
    "STObj4 <- STObj3[, \"1993-07-01::1993-07-31\"]\n"
   ]
  },
  {
   "cell_type": "code",
   "execution_count": 45,
   "metadata": {
    "vscode": {
     "languageId": "r"
    }
   },
   "outputs": [
    {
     "name": "stderr",
     "output_type": "stream",
     "text": [
      "\u001b[1m\u001b[22mJoining with `by = join_by(day, id, z)`\n"
     ]
    }
   ],
   "source": [
    "STObj4@data <- left_join(STObj4@data, Tmax_no_14)\n"
   ]
  },
  {
   "cell_type": "code",
   "execution_count": 46,
   "metadata": {
    "vscode": {
     "languageId": "r"
    }
   },
   "outputs": [
    {
     "name": "stderr",
     "output_type": "stream",
     "text": [
      "Warning message in `[.xts`(x@time, j):\n",
      "\"converting 'i' to integer because it appears to contain fractions\"\n",
      "Warning message in `[.xts`(x@time, j):\n",
      "\"converting 'i' to integer because it appears to contain fractions\"\n",
      "Warning message in `[.xts`(x@time, j):\n",
      "\"converting 'i' to integer because it appears to contain fractions\"\n",
      "Warning message in `[.xts`(x@time, j):\n",
      "\"converting 'i' to integer because it appears to contain fractions\"\n",
      "Warning message in `[.xts`(x@time, j):\n",
      "\"converting 'i' to integer because it appears to contain fractions\"\n",
      "Warning message in `[.xts`(x@time, j):\n",
      "\"converting 'i' to integer because it appears to contain fractions\"\n",
      "Warning message in `[.xts`(x@time, j):\n",
      "\"converting 'i' to integer because it appears to contain fractions\"\n",
      "Warning message in `[.xts`(x@time, j):\n",
      "\"converting 'i' to integer because it appears to contain fractions\"\n",
      "Warning message in `[.xts`(x@time, j):\n",
      "\"converting 'i' to integer because it appears to contain fractions\"\n",
      "Warning message in `[.xts`(x@time, j):\n",
      "\"converting 'i' to integer because it appears to contain fractions\"\n",
      "Warning message in `[.xts`(x@time, j):\n",
      "\"converting 'i' to integer because it appears to contain fractions\"\n",
      "Warning message in `[.xts`(x@time, j):\n",
      "\"converting 'i' to integer because it appears to contain fractions\"\n",
      "Warning message in `[.xts`(x@time, j):\n",
      "\"converting 'i' to integer because it appears to contain fractions\"\n",
      "Warning message in `[.xts`(x@time, j):\n",
      "\"converting 'i' to integer because it appears to contain fractions\"\n",
      "Warning message in `[.xts`(x@time, j):\n",
      "\"converting 'i' to integer because it appears to contain fractions\"\n",
      "Warning message in `[.xts`(x@time, j):\n",
      "\"converting 'i' to integer because it appears to contain fractions\"\n",
      "Warning message in `[.xts`(x@time, j):\n",
      "\"converting 'i' to integer because it appears to contain fractions\"\n",
      "Warning message in `[.xts`(x@time, j):\n",
      "\"converting 'i' to integer because it appears to contain fractions\"\n",
      "Warning message in `[.xts`(x@time, j):\n",
      "\"converting 'i' to integer because it appears to contain fractions\"\n",
      "Warning message in `[.xts`(x@time, j):\n",
      "\"converting 'i' to integer because it appears to contain fractions\"\n",
      "Warning message in `[.xts`(x@time, j):\n",
      "\"converting 'i' to integer because it appears to contain fractions\"\n",
      "Warning message in `[.xts`(x@time, j):\n",
      "\"converting 'i' to integer because it appears to contain fractions\"\n",
      "Warning message in `[.xts`(x@time, j):\n",
      "\"converting 'i' to integer because it appears to contain fractions\"\n",
      "Warning message in `[.xts`(x@time, j):\n",
      "\"converting 'i' to integer because it appears to contain fractions\"\n",
      "Warning message in `[.xts`(x@time, j):\n",
      "\"converting 'i' to integer because it appears to contain fractions\"\n",
      "Warning message in `[.xts`(x@time, j):\n",
      "\"converting 'i' to integer because it appears to contain fractions\"\n",
      "Warning message in `[.xts`(x@time, j):\n",
      "\"converting 'i' to integer because it appears to contain fractions\"\n",
      "Warning message in `[.xts`(x@time, j):\n",
      "\"converting 'i' to integer because it appears to contain fractions\"\n",
      "Warning message in `[.xts`(x@time, j):\n",
      "\"converting 'i' to integer because it appears to contain fractions\"\n",
      "Warning message in `[.xts`(x@time, j):\n",
      "\"converting 'i' to integer because it appears to contain fractions\"\n",
      "Warning message in `[.xts`(x@time, j):\n",
      "\"converting 'i' to integer because it appears to contain fractions\"\n",
      "Warning message in `[.xts`(x@time, j):\n",
      "\"converting 'i' to integer because it appears to contain fractions\"\n",
      "Warning message in `[.xts`(x@time, j):\n",
      "\"converting 'i' to integer because it appears to contain fractions\"\n",
      "Warning message in `[.xts`(x@time, j):\n",
      "\"converting 'i' to integer because it appears to contain fractions\"\n",
      "Warning message in `[.xts`(x@time, j):\n",
      "\"converting 'i' to integer because it appears to contain fractions\"\n",
      "Warning message in `[.xts`(x@time, j):\n",
      "\"converting 'i' to integer because it appears to contain fractions\"\n",
      "Warning message in `[.xts`(x@time, j):\n",
      "\"converting 'i' to integer because it appears to contain fractions\"\n",
      "Warning message in `[.xts`(x@time, j):\n",
      "\"converting 'i' to integer because it appears to contain fractions\"\n",
      "Warning message in `[.xts`(x@time, j):\n",
      "\"converting 'i' to integer because it appears to contain fractions\"\n",
      "Warning message in `[.xts`(x@time, j):\n",
      "\"converting 'i' to integer because it appears to contain fractions\"\n",
      "Warning message in `[.xts`(x@time, j):\n",
      "\"converting 'i' to integer because it appears to contain fractions\"\n",
      "Warning message in `[.xts`(x@time, j):\n",
      "\"converting 'i' to integer because it appears to contain fractions\"\n",
      "Warning message in `[.xts`(x@time, j):\n",
      "\"converting 'i' to integer because it appears to contain fractions\"\n",
      "Warning message in `[.xts`(x@time, j):\n",
      "\"converting 'i' to integer because it appears to contain fractions\"\n",
      "Warning message in `[.xts`(x@time, j):\n",
      "\"converting 'i' to integer because it appears to contain fractions\"\n",
      "Warning message in `[.xts`(x@time, j):\n",
      "\"converting 'i' to integer because it appears to contain fractions\"\n",
      "Warning message in `[.xts`(x@time, j):\n",
      "\"converting 'i' to integer because it appears to contain fractions\"\n",
      "Warning message in `[.xts`(x@time, j):\n",
      "\"converting 'i' to integer because it appears to contain fractions\"\n",
      "Warning message in `[.xts`(x@time, j):\n",
      "\"converting 'i' to integer because it appears to contain fractions\"\n",
      "Warning message in `[.xts`(x@time, j):\n",
      "\"converting 'i' to integer because it appears to contain fractions\"\n",
      "Warning message in `[.xts`(x@time, j):\n",
      "\"converting 'i' to integer because it appears to contain fractions\"\n",
      "Warning message in `[.xts`(x@time, j):\n",
      "\"converting 'i' to integer because it appears to contain fractions\"\n",
      "Warning message in `[.xts`(x@time, j):\n",
      "\"converting 'i' to integer because it appears to contain fractions\"\n",
      "Warning message in `[.xts`(x@time, j):\n",
      "\"converting 'i' to integer because it appears to contain fractions\"\n",
      "Warning message in `[.xts`(x@time, j):\n",
      "\"converting 'i' to integer because it appears to contain fractions\"\n",
      "Warning message in `[.xts`(x@time, j):\n",
      "\"converting 'i' to integer because it appears to contain fractions\"\n",
      "Warning message in `[.xts`(x@time, j):\n",
      "\"converting 'i' to integer because it appears to contain fractions\"\n",
      "Warning message in `[.xts`(x@time, j):\n",
      "\"converting 'i' to integer because it appears to contain fractions\"\n",
      "Warning message in `[.xts`(x@time, j):\n",
      "\"converting 'i' to integer because it appears to contain fractions\"\n",
      "Warning message in `[.xts`(x@time, j):\n",
      "\"converting 'i' to integer because it appears to contain fractions\"\n",
      "Warning message in `[.xts`(x@time, j):\n",
      "\"converting 'i' to integer because it appears to contain fractions\"\n",
      "Warning message in `[.xts`(x@time, j):\n",
      "\"converting 'i' to integer because it appears to contain fractions\"\n",
      "Warning message in `[.xts`(x@time, j):\n",
      "\"converting 'i' to integer because it appears to contain fractions\"\n",
      "Warning message in `[.xts`(x@time, j):\n",
      "\"converting 'i' to integer because it appears to contain fractions\"\n",
      "Warning message in `[.xts`(x@time, j):\n",
      "\"converting 'i' to integer because it appears to contain fractions\"\n",
      "Warning message in `[.xts`(x@time, j):\n",
      "\"converting 'i' to integer because it appears to contain fractions\"\n",
      "Warning message in `[.xts`(x@time, j):\n",
      "\"converting 'i' to integer because it appears to contain fractions\"\n",
      "Warning message in `[.xts`(x@time, j):\n",
      "\"converting 'i' to integer because it appears to contain fractions\"\n",
      "Warning message in `[.xts`(x@time, j):\n",
      "\"converting 'i' to integer because it appears to contain fractions\"\n",
      "Warning message in `[.xts`(x@time, j):\n",
      "\"converting 'i' to integer because it appears to contain fractions\"\n",
      "Warning message in `[.xts`(x@time, j):\n",
      "\"converting 'i' to integer because it appears to contain fractions\"\n",
      "Warning message in `[.xts`(x@time, j):\n",
      "\"converting 'i' to integer because it appears to contain fractions\"\n",
      "Warning message in `[.xts`(x@time, j):\n",
      "\"converting 'i' to integer because it appears to contain fractions\"\n",
      "Warning message in `[.xts`(x@time, j):\n",
      "\"converting 'i' to integer because it appears to contain fractions\"\n",
      "Warning message in `[.xts`(x@time, j):\n",
      "\"converting 'i' to integer because it appears to contain fractions\"\n",
      "Warning message in `[.xts`(x@time, j):\n",
      "\"converting 'i' to integer because it appears to contain fractions\"\n",
      "Warning message in `[.xts`(x@time, j):\n",
      "\"converting 'i' to integer because it appears to contain fractions\"\n",
      "Warning message in `[.xts`(x@time, j):\n",
      "\"converting 'i' to integer because it appears to contain fractions\"\n",
      "Warning message in `[.xts`(x@time, j):\n",
      "\"converting 'i' to integer because it appears to contain fractions\"\n",
      "Warning message in `[.xts`(x@time, j):\n",
      "\"converting 'i' to integer because it appears to contain fractions\"\n",
      "Warning message in `[.xts`(x@time, j):\n",
      "\"converting 'i' to integer because it appears to contain fractions\"\n",
      "Warning message in `[.xts`(x@time, j):\n",
      "\"converting 'i' to integer because it appears to contain fractions\"\n",
      "Warning message in `[.xts`(x@time, j):\n",
      "\"converting 'i' to integer because it appears to contain fractions\"\n",
      "Warning message in `[.xts`(x@time, j):\n",
      "\"converting 'i' to integer because it appears to contain fractions\"\n",
      "Warning message in `[.xts`(x@time, j):\n",
      "\"converting 'i' to integer because it appears to contain fractions\"\n",
      "Warning message in `[.xts`(x@time, j):\n",
      "\"converting 'i' to integer because it appears to contain fractions\"\n",
      "Warning message in `[.xts`(x@time, j):\n",
      "\"converting 'i' to integer because it appears to contain fractions\"\n",
      "Warning message in `[.xts`(x@time, j):\n",
      "\"converting 'i' to integer because it appears to contain fractions\"\n",
      "Warning message in `[.xts`(x@time, j):\n",
      "\"converting 'i' to integer because it appears to contain fractions\"\n",
      "Warning message in `[.xts`(x@time, j):\n",
      "\"converting 'i' to integer because it appears to contain fractions\"\n",
      "Warning message in `[.xts`(x@time, j):\n",
      "\"converting 'i' to integer because it appears to contain fractions\"\n",
      "Warning message in `[.xts`(x@time, j):\n",
      "\"converting 'i' to integer because it appears to contain fractions\"\n",
      "Warning message in `[.xts`(x@time, j):\n",
      "\"converting 'i' to integer because it appears to contain fractions\"\n",
      "Warning message in `[.xts`(x@time, j):\n",
      "\"converting 'i' to integer because it appears to contain fractions\"\n",
      "Warning message in `[.xts`(x@time, j):\n",
      "\"converting 'i' to integer because it appears to contain fractions\"\n",
      "Warning message in `[.xts`(x@time, j):\n",
      "\"converting 'i' to integer because it appears to contain fractions\"\n",
      "Warning message in `[.xts`(x@time, j):\n",
      "\"converting 'i' to integer because it appears to contain fractions\"\n",
      "Warning message in `[.xts`(x@time, j):\n",
      "\"converting 'i' to integer because it appears to contain fractions\"\n",
      "Warning message in `[.xts`(x@time, j):\n",
      "\"converting 'i' to integer because it appears to contain fractions\"\n",
      "Warning message in `[.xts`(x@time, j):\n",
      "\"converting 'i' to integer because it appears to contain fractions\"\n",
      "Warning message in `[.xts`(x@time, j):\n",
      "\"converting 'i' to integer because it appears to contain fractions\"\n",
      "Warning message in `[.xts`(x@time, j):\n",
      "\"converting 'i' to integer because it appears to contain fractions\"\n",
      "Warning message in `[.xts`(x@time, j):\n",
      "\"converting 'i' to integer because it appears to contain fractions\"\n",
      "Warning message in `[.xts`(x@time, j):\n",
      "\"converting 'i' to integer because it appears to contain fractions\"\n",
      "Warning message in `[.xts`(x@time, j):\n",
      "\"converting 'i' to integer because it appears to contain fractions\"\n",
      "Warning message in `[.xts`(x@time, j):\n",
      "\"converting 'i' to integer because it appears to contain fractions\"\n",
      "Warning message in `[.xts`(x@time, j):\n",
      "\"converting 'i' to integer because it appears to contain fractions\"\n",
      "Warning message in `[.xts`(x@time, j):\n",
      "\"converting 'i' to integer because it appears to contain fractions\"\n",
      "Warning message in `[.xts`(x@time, j):\n",
      "\"converting 'i' to integer because it appears to contain fractions\"\n",
      "Warning message in `[.xts`(x@time, j):\n",
      "\"converting 'i' to integer because it appears to contain fractions\"\n",
      "Warning message in `[.xts`(x@time, j):\n",
      "\"converting 'i' to integer because it appears to contain fractions\"\n",
      "Warning message in `[.xts`(x@time, j):\n",
      "\"converting 'i' to integer because it appears to contain fractions\"\n",
      "Warning message in `[.xts`(x@time, j):\n",
      "\"converting 'i' to integer because it appears to contain fractions\"\n",
      "Warning message in `[.xts`(x@time, j):\n",
      "\"converting 'i' to integer because it appears to contain fractions\"\n",
      "Warning message in `[.xts`(x@time, j):\n",
      "\"converting 'i' to integer because it appears to contain fractions\"\n",
      "Warning message in `[.xts`(x@time, j):\n",
      "\"converting 'i' to integer because it appears to contain fractions\"\n",
      "Warning message in `[.xts`(x@time, j):\n",
      "\"converting 'i' to integer because it appears to contain fractions\"\n",
      "Warning message in `[.xts`(x@time, j):\n",
      "\"converting 'i' to integer because it appears to contain fractions\"\n",
      "Warning message in `[.xts`(x@time, j):\n",
      "\"converting 'i' to integer because it appears to contain fractions\"\n",
      "Warning message in `[.xts`(x@time, j):\n",
      "\"converting 'i' to integer because it appears to contain fractions\"\n",
      "Warning message in `[.xts`(x@time, j):\n",
      "\"converting 'i' to integer because it appears to contain fractions\"\n",
      "Warning message in `[.xts`(x@time, j):\n",
      "\"converting 'i' to integer because it appears to contain fractions\"\n",
      "Warning message in `[.xts`(x@time, j):\n",
      "\"converting 'i' to integer because it appears to contain fractions\"\n",
      "Warning message in `[.xts`(x@time, j):\n",
      "\"converting 'i' to integer because it appears to contain fractions\"\n",
      "Warning message in `[.xts`(x@time, j):\n",
      "\"converting 'i' to integer because it appears to contain fractions\"\n",
      "Warning message in `[.xts`(x@time, j):\n",
      "\"converting 'i' to integer because it appears to contain fractions\"\n",
      "Warning message in `[.xts`(x@time, j):\n",
      "\"converting 'i' to integer because it appears to contain fractions\"\n",
      "Warning message in `[.xts`(x@time, j):\n",
      "\"converting 'i' to integer because it appears to contain fractions\"\n",
      "Warning message in `[.xts`(x@time, j):\n",
      "\"converting 'i' to integer because it appears to contain fractions\"\n",
      "Warning message in `[.xts`(x@time, j):\n",
      "\"converting 'i' to integer because it appears to contain fractions\"\n",
      "Warning message in `[.xts`(x@time, j):\n",
      "\"converting 'i' to integer because it appears to contain fractions\"\n",
      "Warning message in `[.xts`(x@time, j):\n",
      "\"converting 'i' to integer because it appears to contain fractions\"\n",
      "Warning message in `[.xts`(x@time, j):\n",
      "\"converting 'i' to integer because it appears to contain fractions\"\n",
      "Warning message in `[.xts`(x@time, j):\n",
      "\"converting 'i' to integer because it appears to contain fractions\"\n",
      "Warning message in `[.xts`(x@time, j):\n",
      "\"converting 'i' to integer because it appears to contain fractions\"\n",
      "Warning message in `[.xts`(x@time, j):\n",
      "\"converting 'i' to integer because it appears to contain fractions\"\n",
      "Warning message in `[.xts`(x@time, j):\n",
      "\"converting 'i' to integer because it appears to contain fractions\"\n",
      "Warning message in `[.xts`(x@time, j):\n",
      "\"converting 'i' to integer because it appears to contain fractions\"\n",
      "Warning message in `[.xts`(x@time, j):\n",
      "\"converting 'i' to integer because it appears to contain fractions\"\n",
      "Warning message in `[.xts`(x@time, j):\n",
      "\"converting 'i' to integer because it appears to contain fractions\"\n",
      "Warning message in `[.xts`(x@time, j):\n",
      "\"converting 'i' to integer because it appears to contain fractions\"\n",
      "Warning message in `[.xts`(x@time, j):\n",
      "\"converting 'i' to integer because it appears to contain fractions\"\n",
      "Warning message in `[.xts`(x@time, j):\n",
      "\"converting 'i' to integer because it appears to contain fractions\"\n",
      "Warning message in `[.xts`(x@time, j):\n",
      "\"converting 'i' to integer because it appears to contain fractions\"\n",
      "Warning message in `[.xts`(x@time, j):\n",
      "\"converting 'i' to integer because it appears to contain fractions\"\n",
      "Warning message in `[.xts`(x@time, j):\n",
      "\"converting 'i' to integer because it appears to contain fractions\"\n",
      "Warning message in `[.xts`(x@time, j):\n",
      "\"converting 'i' to integer because it appears to contain fractions\"\n",
      "Warning message in `[.xts`(x@time, j):\n",
      "\"converting 'i' to integer because it appears to contain fractions\"\n",
      "Warning message in `[.xts`(x@time, j):\n",
      "\"converting 'i' to integer because it appears to contain fractions\"\n",
      "Warning message in `[.xts`(x@time, j):\n",
      "\"converting 'i' to integer because it appears to contain fractions\"\n",
      "Warning message in `[.xts`(x@time, j):\n",
      "\"converting 'i' to integer because it appears to contain fractions\"\n",
      "Warning message in `[.xts`(x@time, j):\n",
      "\"converting 'i' to integer because it appears to contain fractions\"\n",
      "Warning message in `[.xts`(x@time, j):\n",
      "\"converting 'i' to integer because it appears to contain fractions\"\n",
      "Warning message in `[.xts`(x@time, j):\n",
      "\"converting 'i' to integer because it appears to contain fractions\"\n",
      "Warning message in `[.xts`(x@time, j):\n",
      "\"converting 'i' to integer because it appears to contain fractions\"\n",
      "Warning message in `[.xts`(x@time, j):\n",
      "\"converting 'i' to integer because it appears to contain fractions\"\n",
      "Warning message in `[.xts`(x@time, j):\n",
      "\"converting 'i' to integer because it appears to contain fractions\"\n",
      "Warning message in `[.xts`(x@time, j):\n",
      "\"converting 'i' to integer because it appears to contain fractions\"\n",
      "Warning message in `[.xts`(x@time, j):\n",
      "\"converting 'i' to integer because it appears to contain fractions\"\n",
      "Warning message in `[.xts`(x@time, j):\n",
      "\"converting 'i' to integer because it appears to contain fractions\"\n",
      "Warning message in `[.xts`(x@time, j):\n",
      "\"converting 'i' to integer because it appears to contain fractions\"\n",
      "Warning message in `[.xts`(x@time, j):\n",
      "\"converting 'i' to integer because it appears to contain fractions\"\n",
      "Warning message in `[.xts`(x@time, j):\n",
      "\"converting 'i' to integer because it appears to contain fractions\"\n",
      "Warning message in `[.xts`(x@time, j):\n",
      "\"converting 'i' to integer because it appears to contain fractions\"\n",
      "Warning message in `[.xts`(x@time, j):\n",
      "\"converting 'i' to integer because it appears to contain fractions\"\n",
      "Warning message in `[.xts`(x@time, j):\n",
      "\"converting 'i' to integer because it appears to contain fractions\"\n",
      "Warning message in `[.xts`(x@time, j):\n",
      "\"converting 'i' to integer because it appears to contain fractions\"\n",
      "Warning message in `[.xts`(x@time, j):\n",
      "\"converting 'i' to integer because it appears to contain fractions\"\n",
      "Warning message in `[.xts`(x@time, j):\n",
      "\"converting 'i' to integer because it appears to contain fractions\"\n",
      "Warning message in `[.xts`(x@time, j):\n",
      "\"converting 'i' to integer because it appears to contain fractions\"\n",
      "Warning message in `[.xts`(x@time, j):\n",
      "\"converting 'i' to integer because it appears to contain fractions\"\n",
      "Warning message in `[.xts`(x@time, j):\n",
      "\"converting 'i' to integer because it appears to contain fractions\"\n",
      "Warning message in `[.xts`(x@time, j):\n",
      "\"converting 'i' to integer because it appears to contain fractions\"\n",
      "Warning message in `[.xts`(x@time, j):\n",
      "\"converting 'i' to integer because it appears to contain fractions\"\n",
      "Warning message in `[.xts`(x@time, j):\n",
      "\"converting 'i' to integer because it appears to contain fractions\"\n",
      "Warning message in `[.xts`(x@time, j):\n",
      "\"converting 'i' to integer because it appears to contain fractions\"\n",
      "Warning message in `[.xts`(x@time, j):\n",
      "\"converting 'i' to integer because it appears to contain fractions\"\n",
      "Warning message in `[.xts`(x@time, j):\n",
      "\"converting 'i' to integer because it appears to contain fractions\"\n",
      "Warning message in `[.xts`(x@time, j):\n",
      "\"converting 'i' to integer because it appears to contain fractions\"\n",
      "Warning message in `[.xts`(x@time, j):\n",
      "\"converting 'i' to integer because it appears to contain fractions\"\n",
      "Warning message in `[.xts`(x@time, j):\n",
      "\"converting 'i' to integer because it appears to contain fractions\"\n",
      "Warning message in `[.xts`(x@time, j):\n",
      "\"converting 'i' to integer because it appears to contain fractions\"\n",
      "Warning message in `[.xts`(x@time, j):\n",
      "\"converting 'i' to integer because it appears to contain fractions\"\n",
      "Warning message in `[.xts`(x@time, j):\n",
      "\"converting 'i' to integer because it appears to contain fractions\"\n",
      "Warning message in `[.xts`(x@time, j):\n",
      "\"converting 'i' to integer because it appears to contain fractions\"\n",
      "Warning message in `[.xts`(x@time, j):\n",
      "\"converting 'i' to integer because it appears to contain fractions\"\n",
      "Warning message in `[.xts`(x@time, j):\n",
      "\"converting 'i' to integer because it appears to contain fractions\"\n",
      "Warning message in `[.xts`(x@time, j):\n",
      "\"converting 'i' to integer because it appears to contain fractions\"\n",
      "Warning message in `[.xts`(x@time, j):\n",
      "\"converting 'i' to integer because it appears to contain fractions\"\n"
     ]
    }
   ],
   "source": [
    "vv <- variogram(object = residuals ~ 1, # fixed effect component\n",
    "data = STObj4,\n",
    "# July data\n",
    "width = 80,\n",
    "# spatial bin (80 km)\n",
    "cutoff = 1000,\n",
    "# consider pts < 1000 km apart\n",
    "tlags = 0.01:6.01)"
   ]
  },
  {
   "cell_type": "code",
   "execution_count": 47,
   "metadata": {
    "vscode": {
     "languageId": "r"
    }
   },
   "outputs": [],
   "source": [
    "pred_grid <- expand.grid(lon = seq(-100, -80, length = 20),\n",
    "lat = seq(32, 46, length = 20),\n",
    "day = seq(4, 29, length = 6))"
   ]
  },
  {
   "cell_type": "code",
   "execution_count": 48,
   "metadata": {
    "vscode": {
     "languageId": "r"
    }
   },
   "outputs": [],
   "source": [
    "Spred <- eval_basis(basis = G,\n",
    "# basis functs\n",
    "s = pred_grid[,c(\"lon\",\"lat\")] %>%\n",
    "# pred locs\n",
    "as.matrix()) %>%\n",
    "# conv. to matrix\n",
    "as.matrix()\n",
    "# results as matrix\n",
    "colnames(Spred) <- paste0(\"B\", 1:ncol(Spred)) # assign col names\n",
    "pred_grid <- cbind(pred_grid, Spred)"
   ]
  },
  {
   "cell_type": "code",
   "execution_count": 49,
   "metadata": {
    "vscode": {
     "languageId": "r"
    }
   },
   "outputs": [],
   "source": [
    "linreg_pred <- predict(Tmax_July_lm,\n",
    "newdata = pred_grid,\n",
    "interval = \"prediction\")"
   ]
  },
  {
   "cell_type": "code",
   "execution_count": 50,
   "metadata": {
    "vscode": {
     "languageId": "r"
    }
   },
   "outputs": [],
   "source": [
    "pred_grid$z_pred <- linreg_pred[,1]\n",
    "pred_grid$z_err <- (linreg_pred[,3] - linreg_pred[,2]) / (2*1.96)"
   ]
  },
  {
   "cell_type": "code",
   "execution_count": null,
   "metadata": {
    "vscode": {
     "languageId": "r"
    }
   },
   "outputs": [],
   "source": []
  }
 ],
 "metadata": {
  "kernelspec": {
   "display_name": "R",
   "language": "R",
   "name": "ir"
  },
  "language_info": {
   "codemirror_mode": "r",
   "file_extension": ".r",
   "mimetype": "text/x-r-source",
   "name": "R",
   "pygments_lexer": "r",
   "version": "4.4.1"
  }
 },
 "nbformat": 4,
 "nbformat_minor": 2
}
